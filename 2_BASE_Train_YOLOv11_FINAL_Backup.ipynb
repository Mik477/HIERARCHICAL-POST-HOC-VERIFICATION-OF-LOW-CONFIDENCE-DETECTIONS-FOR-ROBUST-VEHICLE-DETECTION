{
 "cells": [
  {
   "cell_type": "markdown",
   "id": "771ede67",
   "metadata": {},
   "source": [
    "# Ultralytics YOLO11 L3 Base Detector Training\n",
    "\n",
    "**Objective:** Train a robust, high-performance **YOLO11n** detector for the fine-grained (L3 leaf) vehicle classes. This notebook serves as the first crucial stage in our decoupled training strategy, leveraging the latest state-of-the-art architecture.\n",
    "\n",
    "**Core Principles of this Notebook:**\n",
    "- **Efficiency:** We will use caching, optimized dataloaders, and mixed-precision training.\n",
    "- **Reproducibility:** All hyperparameters are centralized in a single `hyp.yaml` file, created and archived with each run.\n",
    "- **Effectiveness:** We will tackle the dataset's severe class imbalance head-on using state-of-the-art loss weighting (`effective-number`) and augmentations.\n",
    "\n",
    "The final output of this notebook will be the `best.pt` model, ready for the next stage: hard-negative mining and auxiliary head training."
   ]
  },
  {
   "cell_type": "code",
   "execution_count": 1,
   "id": "f4bad203",
   "metadata": {},
   "outputs": [
    {
     "name": "stdout",
     "output_type": "stream",
     "text": [
      "Ultralytics version: 8.3.0\n",
      "Ultralytics checks.check_amp disabled to prevent YOLOv8n download.\n",
      "Ultralytics torch_utils.check_amp disabled to prevent YOLOv8n download.\n",
      "Ultralytics trainer-level AMP checks disabled.\n",
      "\n",
      "--- Environment ---\n",
      "{\n",
      "  \"timestamp\": \"2025-09-06T12:00:27.546343Z\",\n",
      "  \"python\": \"3.10.18\",\n",
      "  \"platform\": \"Windows-10-10.0.26100-SP0\",\n",
      "  \"torch\": \"2.5.1\",\n",
      "  \"cuda_available\": true,\n",
      "  \"gpu\": \"NVIDIA GeForce RTX 3060 Ti\"\n",
      "}\n",
      "Seeds set to 2. Deterministic: True\n"
     ]
    }
   ],
   "source": [
    "import os\n",
    "import random\n",
    "import json\n",
    "import platform\n",
    "from pathlib import Path\n",
    "from datetime import datetime\n",
    "\n",
    "# Core ML/CV libraries\n",
    "import numpy as np\n",
    "import torch\n",
    "import torch.backends.cudnn as cudnn\n",
    "import yaml\n",
    "\n",
    "# Check for ultralytics and provide a helpful message if not found\n",
    "try:\n",
    "    import ultralytics\n",
    "    print(f\"Ultralytics version: {ultralytics.__version__}\")\n",
    "\n",
    "    # Disable Ultralytics AMP download check (which otherwise downloads YOLOv8n)\n",
    "    try:\n",
    "        from ultralytics.utils import checks as _ultra_checks\n",
    "        def _skip_amp_check(*args, **kwargs):\n",
    "            # Assume AMP is OK; skip model-based probe that downloads yolov8n\n",
    "            return True\n",
    "        _ultra_checks.check_amp = _skip_amp_check\n",
    "        print(\"Ultralytics checks.check_amp disabled to prevent YOLOv8n download.\")\n",
    "    except Exception as _e:\n",
    "        print(f\"Could not disable ultralytics.utils.checks.check_amp: {_e}\")\n",
    "\n",
    "    # Some versions use ultralytics.utils.torch_utils.check_amp for the probe\n",
    "    try:\n",
    "        from ultralytics.utils import torch_utils as _ultra_tu\n",
    "        def _skip_amp_check_tu(*args, **kwargs):\n",
    "            # Assume AMP is OK; skip model-based probe that downloads yolov8n\n",
    "            return True\n",
    "        _ultra_tu.check_amp = _skip_amp_check_tu\n",
    "        print(\"Ultralytics torch_utils.check_amp disabled to prevent YOLOv8n download.\")\n",
    "    except Exception as _e:\n",
    "        print(f\"Could not disable ultralytics.utils.torch_utils.check_amp: {_e}\")\n",
    "\n",
    "    # Some modules import check_amp by name; patch trainer bindings too\n",
    "    try:\n",
    "        from ultralytics.engine import trainer as _ultra_trainer\n",
    "        if hasattr(_ultra_trainer, 'check_amp'):\n",
    "            _ultra_trainer.check_amp = _skip_amp_check_tu\n",
    "        # Also patch Trainer class if method exists (static or class method)\n",
    "        if hasattr(_ultra_trainer, 'Trainer') and hasattr(_ultra_trainer.Trainer, 'check_amp'):\n",
    "            try:\n",
    "                # If it's a @staticmethod\n",
    "                _ultra_trainer.Trainer.check_amp = staticmethod(_skip_amp_check_tu)\n",
    "            except Exception:\n",
    "                try:\n",
    "                    # Fallback assignment\n",
    "                    _ultra_trainer.Trainer.check_amp = _skip_amp_check_tu\n",
    "                except Exception:\n",
    "                    pass\n",
    "        print(\"Ultralytics trainer-level AMP checks disabled.\")\n",
    "    except Exception as _e:\n",
    "        print(f\"Could not patch trainer-level AMP check: {_e}\")\n",
    "except ImportError:\n",
    "    raise ImportError(\"Ultralytics not found. Please install with: pip install ultralytics\")\n",
    "\n",
    "def set_all_seeds(seed: int = 2, deterministic: bool = False):\n",
    "    \"\"\"Sets random seeds for reproducibility across libraries.\"\"\"\n",
    "    random.seed(seed)\n",
    "    os.environ[\"PYTHONHASHSEED\"] = str(seed)\n",
    "    np.random.seed(seed)\n",
    "    torch.manual_seed(seed)\n",
    "    if torch.cuda.is_available():\n",
    "        torch.cuda.manual_seed_all(seed)\n",
    "        if deterministic:\n",
    "            cudnn.deterministic = True\n",
    "            cudnn.benchmark = False\n",
    "        else:\n",
    "            # Faster but less reproducible\n",
    "            cudnn.deterministic = False\n",
    "            cudnn.benchmark = True\n",
    "    print(f\"Seeds set to {seed}. Deterministic: {deterministic}\")\n",
    "\n",
    "# Environment Snapshot\n",
    "ENV = {\n",
    "    \"timestamp\": datetime.utcnow().isoformat() + \"Z\",\n",
    "    \"python\": platform.python_version(),\n",
    "    \"platform\": platform.platform(),\n",
    "    \"torch\": torch.__version__,\n",
    "    \"cuda_available\": torch.cuda.is_available(),\n",
    "    \"gpu\": torch.cuda.get_device_name(0) if torch.cuda.is_available() else \"N/A\",\n",
    "}\n",
    "print(\"\\n--- Environment ---\")\n",
    "print(json.dumps(ENV, indent=2))\n",
    "\n",
    "DEFAULT_SEED = 2\n",
    "set_all_seeds(DEFAULT_SEED, deterministic=True)"
   ]
  },
  {
   "cell_type": "markdown",
   "id": "5b170ff2",
   "metadata": {},
   "source": [
    "# Paths & Unique Run Directory\n",
    "\n",
    "To ensure our experiments are organized and artifacts never overwrite each other, we will define a clear directory structure.\n",
    "\n",
    "- **`PROJECT_ROOT`**: The main project folder.\n",
    "- **`DATA_ROOT`**: The location of the dataset generated by `LabelConversion_VehicleOnly_Enhanced.py`.\n",
    "- **`RUN_DIR`**: A **unique, timestamped directory** created for *this specific training run*. All outputs—checkpoints, logs, configs, and plots—will be saved here.\n",
    "\n",
    "This practice is essential for MLOps, as it makes every run self-contained and easy to analyze or archive."
   ]
  },
  {
   "cell_type": "code",
   "execution_count": 2,
   "id": "f4d75704",
   "metadata": {},
   "outputs": [
    {
     "name": "stdout",
     "output_type": "stream",
     "text": [
      "PROJECT_ROOT: c:\\Users\\Mika\\Desktop\\New_Training_Run_Post_Bulgaria\n",
      "DATA_ROOT:    c:\\Users\\Mika\\Desktop\\New_Training_Run_Post_Bulgaria\\mio_tcd_yolo_vehicles_only\n",
      "Unique Run Directory created at: c:\\Users\\Mika\\Desktop\\New_Training_Run_Post_Bulgaria\\runs\\yolo_l3_base\\20250906_120047\n"
     ]
    }
   ],
   "source": [
    "# Define Core Paths\n",
    "PROJECT_ROOT = Path.cwd()\n",
    "DATA_ROOT = PROJECT_ROOT / \"mio_tcd_yolo_vehicles_only\"\n",
    "DATA_YAML = DATA_ROOT / \"data.yaml\"\n",
    "\n",
    "# Paths to artifacts generated by the LabelConversion script\n",
    "ARTIFACTS_PREP_DIR = DATA_ROOT / \"artifacts\"\n",
    "HIERARCHY_JSON = ARTIFACTS_PREP_DIR / \"hierarchy.json\"\n",
    "CLASS_WEIGHTS_JSON = ARTIFACTS_PREP_DIR / \"class_weights.json\"\n",
    "\n",
    "# Create a Unique Directory for This Training Run\n",
    "RUNS_ROOT = PROJECT_ROOT / \"runs\" / \"yolo_l3_base\"\n",
    "RUN_ID = datetime.utcnow().strftime(\"%Y%m%d_%H%M%S\")\n",
    "RUN_DIR = RUNS_ROOT / RUN_ID\n",
    "\n",
    "# Create necessary subdirectories for organized output\n",
    "ARTIFACTS_RUN_DIR = RUN_DIR / \"artifacts\"\n",
    "CHECKPOINT_DIR = RUN_DIR / \"checkpoints\" # Ultralytics will write here automatically\n",
    "for d in (RUN_DIR, ARTIFACTS_RUN_DIR):\n",
    "    d.mkdir(parents=True, exist_ok=True)\n",
    "\n",
    "# Save Environment Snapshot\n",
    "with open(ARTIFACTS_RUN_DIR / \"env.json\", \"w\") as f:\n",
    "    json.dump(ENV, f, indent=2)\n",
    "\n",
    "print(f\"PROJECT_ROOT: {PROJECT_ROOT}\")\n",
    "print(f\"DATA_ROOT:    {DATA_ROOT}\")\n",
    "print(f\"Unique Run Directory created at: {RUN_DIR}\")"
   ]
  },
  {
   "cell_type": "markdown",
   "id": "b2022d7e",
   "metadata": {},
   "source": [
    "# Centralized Hyperparameter Configuration (hyp.yaml)\n",
    "\n",
    "To ensure our runs are perfectly reproducible and easy to tune, we will define **all** training hyperparameters in a single YAML file. This file will be our \"single source of truth.\"\n",
    "\n",
    "**Advantages of this approach:**\n",
    "- **Reproducibility:** Anyone can replicate this exact run using this notebook and the generated `hyp.yaml`.\n",
    "- **Easy Tuning:** To change the learning rate or an augmentation, you only need to edit one value in one place.\n",
    "- **Clarity:** It separates the *configuration* of the experiment from the *execution logic*.\n",
    "\n",
    "The following hyperparameters are a strong starting point for **YOLO11**, optimized for a balance of speed and accuracy, leveraging state-of-the-art techniques like Focal Loss and Copy-Paste augmentation."
   ]
  },
  {
   "cell_type": "code",
   "execution_count": null,
   "id": "1edca4e5",
   "metadata": {},
   "outputs": [
    {
     "name": "stdout",
     "output_type": "stream",
     "text": [
      "Hyperparameters centralized and saved to: c:\\Users\\Mika\\Desktop\\New_Training_Run_Post_Bulgaria\\runs\\yolo_l3_base\\20250906_120047\\artifacts\\hyp.yaml\n",
      "\n",
      "--- Hyperparameter Summary ---\n",
      "box: 7.5\n",
      "cls: 0.5\n",
      "copy_paste: 0.1\n",
      "cos_lr: true\n",
      "degrees: 5.0\n",
      "dfl: 1.5\n",
      "fliplr: 0.5\n",
      "flipud: 0.0\n",
      "hsv_h: 0.015\n",
      "hsv_s: 0.7\n",
      "hsv_v: 0.4\n",
      "lr0: 0.01\n",
      "lrf: 0.01\n",
      "mixup: 0.1\n",
      "momentum: 0.937\n",
      "mosaic: 1.0\n",
      "perspective: 0.0\n",
      "scale: 0.5\n",
      "shear: 0.0\n",
      "translate: 0.1\n",
      "warmup_epochs: 3.0\n",
      "warmup_momentum: 0.8\n",
      "weight_decay: 0.0005\n",
      "\n"
     ]
    }
   ],
   "source": [
    "# Define and Save Centralized Hyperparameter Configuration\n",
    "\n",
    "# NOTE: These hyperparameters are a strong starting point for modern YOLO architectures.\n",
    "# Tuned for YOLO11 and compatible with recent Ultralytics releases.\n",
    "hyp_config = {\n",
    "    # Optimizer & Scheduler\n",
    "    'lr0': 0.01,          # Initial learning rate (for SGD, which 'auto' optimizer selects)\n",
    "    'lrf': 0.01,          # Final learning rate multiplier (final_lr = lr0 * lrf)\n",
    "    'momentum': 0.937,    # SGD momentum\n",
    "    'weight_decay': 0.0005,\n",
    "    'warmup_epochs': 3.0,\n",
    "    'warmup_momentum': 0.8,\n",
    "    'cos_lr': True,       # Use cosine learning rate scheduler\n",
    "\n",
    "    # Loss Components & Class Balancing\n",
    "    'box': 7.5,           # Box loss gain\n",
    "    'cls': 0.5,           # Classification loss gain (global multiplier for our per-class weights)\n",
    "    'dfl': 1.5,           # Distribution Focal Loss gain\n",
    "    #'fl_gamma': 1.5,      # Focal Loss gamma. > 0 turns on Focal Loss. 1.5 is a good start.\n",
    "\n",
    "    # Augmentations (Optimized for vehicle detection)\n",
    "    'mosaic': 1.0,        # Mosaic probability (powerful for object detection)\n",
    "    'mixup': 0.1,         # Mixup probability\n",
    "    'copy_paste': 0.1,    # Copy-paste augmentation gain. Excellent for rare classes.\n",
    "    'degrees': 5.0,       # Image rotation (+/- deg)\n",
    "    'translate': 0.1,     # Image translation (+/- fraction)\n",
    "    'scale': 0.5,         # Image scale (+/- gain)\n",
    "    'shear': 0.0,\n",
    "    'perspective': 0.0,\n",
    "    'flipud': 0.0,        # Flip up-down (usually not for vehicles)\n",
    "    'fliplr': 0.5,        # Flip left-right\n",
    "    'hsv_h': 0.015,       # Image HSV-Hue augmentation\n",
    "    'hsv_s': 0.7,         # Image HSV-Saturation augmentation\n",
    "    'hsv_v': 0.4,         # Image HSV-Value augmentation\n",
    "}\n",
    "\n",
    "# Save this config to the run's artifact directory for perfect reproducibility\n",
    "HYP_YAML_PATH = ARTIFACTS_RUN_DIR / \"hyp.yaml\"\n",
    "with open(HYP_YAML_PATH, 'w') as f:\n",
    "    yaml.dump(hyp_config, f, sort_keys=False)\n",
    "\n",
    "print(f\"Hyperparameters centralized and saved to: {HYP_YAML_PATH}\")\n",
    "print(\"\\n--- Hyperparameter Summary ---\")\n",
    "print(yaml.dump(hyp_config))"
   ]
  },
  {
   "cell_type": "markdown",
   "id": "d9376ba4",
   "metadata": {},
   "source": [
    "# Load Data Artifacts & Prepare Class Weights\n",
    "\n",
    "This cell is responsible for loading the essential artifacts produced by the `LabelConversion_VehicleOnly_Enhanced.py` script.\n",
    "\n",
    "**Workflow:**\n",
    "1.  **Verify Paths:** It first checks that `data.yaml`, `hierarchy.json`, and `class_weights.json` exist, providing clear error messages if they are missing.\n",
    "2.  **Load Class Counts:** It loads the pre-computed class instance counts for the leaf (L3) level from `class_weights.json`.\n",
    "3.  **Load or Compute Weights:**\n",
    "    *   It prioritizes loading the pre-calculated **effective-number (class-balanced)** weights, as these are generally superior for long-tailed distributions.\n",
    "    *   If for some reason the pre-calculated weights are missing, it falls back to re-computing them on the fly using the loaded counts.\n",
    "4.  **Prepare for Trainer:** The final weight vector (`CB_LEAF`) is prepared for injection into the Ultralytics trainer in a later step.\n",
    "\n",
    "This defensive approach ensures our notebook can run even if some artifacts are missing, while always prioritizing the most robust pre-computed data."
   ]
  },
  {
   "cell_type": "code",
   "execution_count": 5,
   "id": "0ec3c57b",
   "metadata": {},
   "outputs": [
    {
     "name": "stdout",
     "output_type": "stream",
     "text": [
      "Found DATA_YAML: data.yaml\n",
      "Found HIERARCHY_JSON: hierarchy.json\n",
      "Found CLASS_WEIGHTS_JSON: class_weights.json\n",
      "\n",
      "Successfully loaded pre-computed class counts and weights.\n",
      "\n",
      "--- Per-Class Counts & Effective-Number Weights (sorted by rarity) ---\n",
      "  - motorcycle           | Count:   1,273 | Weight: 2.2333\n",
      "  - bicycle              | Count:   1,578 | Weight: 1.8287\n",
      "  - single_unit_truck    | Count:   2,269 | Weight: 1.3150\n",
      "  - work_van             | Count:   4,100 | Weight: 0.7937\n",
      "  - articulated_truck    | Count:   4,830 | Weight: 0.6969\n",
      "  - bus                  | Count:   6,152 | Weight: 0.5810\n",
      "  - pickup_truck         | Count:  27,855 | Weight: 0.2845\n",
      "  - car                  | Count: 140,485 | Weight: 0.2670\n",
      "\n",
      "Saved a copy of the class weights for this run to: experiment_class_weights.json\n"
     ]
    }
   ],
   "source": [
    "# Load and Verify Data Artifacts, Prepare Class Weights\n",
    "\n",
    "from collections import Counter\n",
    "\n",
    "# Helper functions (mirroring the logic in the conversion script for consistency)\n",
    "def effective_num_weights(counts, beta=0.9999, eps=1e-12):\n",
    "    \"\"\"Computes class-balanced weights based on the effective number of samples.\"\"\"\n",
    "    counts = np.array(counts, dtype=np.float64)\n",
    "    eff = 1.0 - np.power(beta, counts)\n",
    "    eff[eff < eps] = eps\n",
    "    w = (1.0 - beta) / eff\n",
    "    return (w / np.mean(w)).astype(np.float32)\n",
    "\n",
    "# 1. Verify that essential files from the conversion script exist\n",
    "essential_files = {\n",
    "    \"DATA_YAML\": DATA_YAML,\n",
    "    \"HIERARCHY_JSON\": HIERARCHY_JSON,\n",
    "    \"CLASS_WEIGHTS_JSON\": CLASS_WEIGHTS_JSON,\n",
    "}\n",
    "for name, path in essential_files.items():\n",
    "    if not path.exists():\n",
    "        raise FileNotFoundError(f\"Critical file missing: {name} at {path}. Please run LabelConversion_VehicleOnly_Enhanced.py first.\")\n",
    "    else:\n",
    "        print(f\"Found {name}: {path.name}\")\n",
    "\n",
    "# 2. Load the pre-computed class weights and names\n",
    "with open(DATA_YAML, \"r\") as f:\n",
    "    data_cfg = yaml.safe_load(f)\n",
    "    class_names = data_cfg.get(\"names\", [])\n",
    "    if not class_names:\n",
    "        raise ValueError(\"Class names are empty in data.yaml.\")\n",
    "\n",
    "with open(CLASS_WEIGHTS_JSON, \"r\") as f:\n",
    "    weights_info = json.load(f)\n",
    "\n",
    "try:\n",
    "    leaf_level_info = weights_info[\"levels\"][\"leaf\"]\n",
    "    leaf_counts = np.array(leaf_level_info[\"counts\"], dtype=np.int64)\n",
    "    cb_leaf_precomputed = np.array(leaf_level_info[\"effective_num_weights\"], dtype=np.float32)\n",
    "    print(\"\\nSuccessfully loaded pre-computed class counts and weights.\")\n",
    "except KeyError as e:\n",
    "    print(f\"Warning: Could not find pre-computed weights in {CLASS_WEIGHTS_JSON}. Will re-compute. Missing key: {e}\")\n",
    "    # This section is a fallback, but the script should have produced the weights.\n",
    "    # You would need to add logic here to count from label files if this happens often.\n",
    "    raise\n",
    "\n",
    "# 3. Finalize the weight vector for this run\n",
    "# We will use the pre-computed class-balanced (effective number) weights as our primary strategy.\n",
    "CB_LEAF = cb_leaf_precomputed\n",
    "\n",
    "# 4. Sanity Check and Summary Display\n",
    "assert len(CB_LEAF) == len(class_names), f\"Mismatch between number of weights ({len(CB_LEAF)}) and number of classes ({len(class_names)}).\"\n",
    "\n",
    "print(\"\\n--- Per-Class Counts & Effective-Number Weights (sorted by rarity) ---\")\n",
    "rows = sorted(zip(class_names, leaf_counts, CB_LEAF), key=lambda x: x[1]) # Sort by count\n",
    "for name, count, weight in rows:\n",
    "    print(f\"  - {name:<20s} | Count: {count:>7,} | Weight: {weight:.4f}\")\n",
    "\n",
    "# 5. Persist the chosen weights to the run's artifact directory for record-keeping\n",
    "run_weights_summary = {\n",
    "    \"class_names\": class_names,\n",
    "    \"leaf_counts\": leaf_counts.tolist(),\n",
    "    \"effective_number_weights_beta_0.9999\": CB_LEAF.tolist(),\n",
    "}\n",
    "EXPERIMENT_WEIGHTS_PATH = ARTIFACTS_RUN_DIR / \"experiment_class_weights.json\"\n",
    "with open(EXPERIMENT_WEIGHTS_PATH, \"w\") as f:\n",
    "    json.dump(run_weights_summary, f, indent=2)\n",
    "print(f\"\\nSaved a copy of the class weights for this run to: {EXPERIMENT_WEIGHTS_PATH.name}\")"
   ]
  },
  {
   "cell_type": "markdown",
   "id": "8b134c2f",
   "metadata": {},
   "source": [
    "# Efficient Smoke Test (Dry Run)\n",
    "\n",
    "Before committing to a multi-hour training session, we must perform a quick \"smoke test.\" This is a critical MLOps practice to catch configuration, data, or memory errors early.\n",
    "\n",
    "**This test will:**\n",
    "1.  Create a temporary `smoke_data.yaml` pointing to a very small subset of the training and validation data (e.g., 32 images).\n",
    "2.  Initialize the **YOLO11n** model.\n",
    "3.  Run `model.train()` for a single epoch on this tiny dataset.\n",
    "\n",
    "**Expected Outcome:** The test should complete in **under a minute**. A successful run confirms that:\n",
    "- The data paths are correct and images can be loaded.\n",
    "- The model architecture is valid.\n",
    "- The batch size fits into GPU memory.\n",
    "- The training loop initializes without errors.\n",
    "\n",
    "If this cell passes, we can proceed to the full training run with high confidence."
   ]
  },
  {
   "cell_type": "code",
   "execution_count": null,
   "id": "2d36a05c",
   "metadata": {},
   "outputs": [
    {
     "data": {
      "text/plain": [
       "'# Cell 10: Efficient and Fast Smoke Test\\n\\nfrom ultralytics import YOLO\\nimport os\\n\\ndef create_smoke_test_yaml(data_yaml_path, run_dir, subset_size=32):\\n    \"\"\"\\n    Creates a temporary data.yaml pointing to a small, valid subset of images\\n    for a fast and reliable smoke test.\\n    \"\"\"\\n    with open(data_yaml_path, \\'r\\') as f:\\n        data_cfg = yaml.safe_load(f)\\n    \\n    base_path = Path(data_yaml_path).parent\\n    smoke_data_cfg = data_cfg.copy()\\n    \\n    print(f\"\\n💨 Generating smoke test dataset with {subset_size} images per split...\")\\n    \\n    for split in [\\'train\\', \\'val\\']:\\n        original_img_dir = base_path / data_cfg[split]\\n        # Robustly find images, handling potential .txt files from ultralytics cache\\n        image_extensions = [\\'.jpg\\', \\'.jpeg\\', \\'.png\\', \\'.bmp\\']\\n        all_images = sorted([p for p in original_img_dir.glob(\\'*\\') if p.suffix.lower() in image_extensions])\\n        \\n        if not all_images:\\n            print(f\"⚠️ No images found in \\'{original_img_dir}\\' for smoke test. Skipping split.\")\\n            continue\\n            \\n        subset_images = all_images[:subset_size]\\n        \\n        subset_file = run_dir / f\"smoke_{split}.txt\"\\n        with open(subset_file, \\'w\\') as f:\\n            for img_path in subset_images:\\n                f.write(str(img_path.resolve()) + \\'\\n\\')\\n        \\n        smoke_data_cfg[split] = str(subset_file.resolve())\\n\\n    smoke_yaml_path = run_dir / \"smoke_data.yaml\"\\n    with open(smoke_yaml_path, \\'w\\') as f:\\n        yaml.dump(smoke_data_cfg, f)\\n        \\n    print(f\"   - Created smoke test config at: {smoke_yaml_path.name}\")\\n    return smoke_yaml_path\\n\\n# --- Run the Smoke Test ---\\nprint(\"\\n🚀 Launching Smoke Test...\")\\ntry:\\n    # 1. Create the temporary data config\\n    smoke_yaml_path = create_smoke_test_yaml(DATA_YAML, ARTIFACTS_RUN_DIR)\\n\\n    # 2. Initialize the YOLOv11n model. This will download the weights the first time.\\n    model = YOLO(\"yolo11n.pt\")\\n\\n    # 3. Run a minimal training loop (with W&B disabled for the smoke test)\\n    prev_wandb_disabled = os.environ.get(\"WANDB_DISABLED\")\\n    os.environ[\"WANDB_DISABLED\"] = \"true\"\\n    try:\\n        # We override key parameters for a fast, low-resource run.\\n        model.train(\\n            data=str(smoke_yaml_path),\\n            epochs=1,\\n            batch=4, # Small batch size to guarantee it fits in VRAM\\n            imgsz=320, # Small image size for speed\\n            workers=0, # Avoid dataloader overhead for tiny dataset\\n            cache=False, # No need to cache for one epoch\\n            project=RUN_DIR.name, # Use a subdirectory to keep logs separate\\n            name=\"smoke_test\",\\n            verbose=False, # Keep the output clean\\n        )\\n    finally:\\n        # Restore previous WANDB_DISABLED state\\n        if prev_wandb_disabled is None:\\n            os.environ.pop(\"WANDB_DISABLED\", None)\\n        else:\\n            os.environ[\"WANDB_DISABLED\"] = prev_wandb_disabled\\n    \\n    # Clean up the .txt files but keep the yaml for inspection\\n    for split in [\\'train\\', \\'val\\']:\\n        (ARTIFACTS_RUN_DIR / f\"smoke_{split}.txt\").unlink(missing_ok=True)\\n\\n    print(\"\\n✅ Smoke test PASSED. The training pipeline is correctly configured for YOLOv11n.\")\\n\\nexcept Exception as e:\\n    print(\"\\n❌ Smoke test FAILED. Please check the error message below.\")\\n    raise e\\n\\n'"
      ]
     },
     "execution_count": 5,
     "metadata": {},
     "output_type": "execute_result"
    }
   ],
   "source": [
    "'''# Efficient and Fast Smoke Test\n",
    "\n",
    "from ultralytics import YOLO\n",
    "import os\n",
    "\n",
    "def create_smoke_test_yaml(data_yaml_path, run_dir, subset_size=32):\n",
    "    \"\"\"\n",
    "    Creates a temporary data.yaml pointing to a small, valid subset of images\n",
    "    for a fast and reliable smoke test.\n",
    "    \"\"\"\n",
    "    with open(data_yaml_path, 'r') as f:\n",
    "        data_cfg = yaml.safe_load(f)\n",
    "    \n",
    "    base_path = Path(data_yaml_path).parent\n",
    "    smoke_data_cfg = data_cfg.copy()\n",
    "    \n",
    "    print(f\"\\n💨 Generating smoke test dataset with {subset_size} images per split...\")\n",
    "    \n",
    "    for split in ['train', 'val']:\n",
    "        original_img_dir = base_path / data_cfg[split]\n",
    "        # Robustly find images, handling potential .txt files from ultralytics cache\n",
    "        image_extensions = ['.jpg', '.jpeg', '.png', '.bmp']\n",
    "        all_images = sorted([p for p in original_img_dir.glob('*') if p.suffix.lower() in image_extensions])\n",
    "        \n",
    "        if not all_images:\n",
    "            print(f\"No images found in '{original_img_dir}' for smoke test. Skipping split.\")\n",
    "            continue\n",
    "            \n",
    "        subset_images = all_images[:subset_size]\n",
    "        \n",
    "        subset_file = run_dir / f\"smoke_{split}.txt\"\n",
    "        with open(subset_file, 'w') as f:\n",
    "            for img_path in subset_images:\n",
    "                f.write(str(img_path.resolve()) + '\\n')\n",
    "        \n",
    "        smoke_data_cfg[split] = str(subset_file.resolve())\n",
    "\n",
    "    smoke_yaml_path = run_dir / \"smoke_data.yaml\"\n",
    "    with open(smoke_yaml_path, 'w') as f:\n",
    "        yaml.dump(smoke_data_cfg, f)\n",
    "        \n",
    "    print(f\"   - Created smoke test config at: {smoke_yaml_path.name}\")\n",
    "    return smoke_yaml_path\n",
    "\n",
    "# Run the Smoke Test\n",
    "print(\"\\nLaunching Smoke Test...\")\n",
    "try:\n",
    "    # 1. Create the temporary data config\n",
    "    smoke_yaml_path = create_smoke_test_yaml(DATA_YAML, ARTIFACTS_RUN_DIR)\n",
    "\n",
    "    # 2. Initialize the YOLOv11n model. This will download the weights the first time.\n",
    "    model = YOLO(\"yolo11n.pt\")\n",
    "\n",
    "    # 3. Run a minimal training loop (with W&B disabled for the smoke test)\n",
    "    prev_wandb_disabled = os.environ.get(\"WANDB_DISABLED\")\n",
    "    os.environ[\"WANDB_DISABLED\"] = \"true\"\n",
    "    try:\n",
    "        # We override key parameters for a fast, low-resource run.\n",
    "        model.train(\n",
    "            data=str(smoke_yaml_path),\n",
    "            epochs=1,\n",
    "            batch=4, # Small batch size to guarantee it fits in VRAM\n",
    "            imgsz=320, # Small image size for speed\n",
    "            workers=0, # Avoid dataloader overhead for tiny dataset\n",
    "            cache=False, # No need to cache for one epoch\n",
    "            project=RUN_DIR.name, # Use a subdirectory to keep logs separate\n",
    "            name=\"smoke_test\",\n",
    "            verbose=False, # Keep the output clean\n",
    "        )\n",
    "    finally:\n",
    "        # Restore previous WANDB_DISABLED state\n",
    "        if prev_wandb_disabled is None:\n",
    "            os.environ.pop(\"WANDB_DISABLED\", None)\n",
    "        else:\n",
    "            os.environ[\"WANDB_DISABLED\"] = prev_wandb_disabled\n",
    "    \n",
    "    # Clean up the .txt files but keep the yaml for inspection\n",
    "    for split in ['train', 'val']:\n",
    "        (ARTIFACTS_RUN_DIR / f\"smoke_{split}.txt\").unlink(missing_ok=True)\n",
    "\n",
    "    print(\"\\nSmoke test PASSED. The training pipeline is correctly configured for YOLOv11n.\")\n",
    "\n",
    "except Exception as e:\n",
    "    print(\"\\nSmoke test FAILED. Please check the error message below.\")\n",
    "    raise e\n",
    "\n",
    "'''"
   ]
  },
  {
   "cell_type": "markdown",
   "id": "99361c89",
   "metadata": {},
   "source": [
    "# Launching the Full Training Run\n",
    "\n",
    "With all configurations prepared and the pipeline validated by the smoke test, we are ready to launch the full training run.\n",
    "\n",
    "**This final step will:**\n",
    "1.  Initialize the **YOLO11n** model with its official **COCO pre-trained weights**.\n",
    "2.  Load our custom hyperparameters from the `hyp.yaml` file and pass them as individual arguments to the trainer.\n",
    "3.  **Apply the effective-number class weights** directly to the classification loss function to combat class imbalance.\n",
    "4.  Utilize hardware-specific optimizations (`cache=True`, `workers=8`, `amp=True`) to maximize training speed on your system.\n",
    "5.  Run for the full `150` epochs, saving the best checkpoint based on validation mAP@50.\n",
    "6.  Log all metrics, plots, and results to our unique `RUN_DIR` and, if enabled, to Weights & Biases."
   ]
  },
  {
   "cell_type": "code",
   "execution_count": null,
   "id": "56a9695c",
   "metadata": {},
   "outputs": [
    {
     "name": "stdout",
     "output_type": "stream",
     "text": [
      "Downloading https://github.com/ultralytics/assets/releases/download/v8.3.0/yolo11n.pt to 'yolo11n.pt'...\n"
     ]
    },
    {
     "name": "stderr",
     "output_type": "stream",
     "text": [
      "100%|██████████| 5.35M/5.35M [00:00<00:00, 29.1MB/s]\n",
      "\n"
     ]
    },
    {
     "name": "stdout",
     "output_type": "stream",
     "text": [
      "✅ Loaded hyperparameters from: hyp.yaml\n",
      "Skipping non-YOLOv11 resume candidate: c:\\Users\\Mika\\Desktop\\New_Training_Run_Post_Bulgaria\\runs\\yolo_l3_base\\20250831_1135262\n",
      "🔧 AMP probe disabled for training.\n",
      "\n",
      "🚀 Starting full training run...\n",
      "   - All artifacts will be saved to: c:\\Users\\Mika\\Desktop\\New_Training_Run_Post_Bulgaria\\runs\\yolo_l3_base\\20250831_120130\n",
      "   - Using 8 dataloader workers.\n",
      "   - Class-balanced weights have been applied to the loss function.\n",
      "New https://pypi.org/project/ultralytics/8.3.189 available  Update with 'pip install -U ultralytics'\n",
      "Ultralytics 8.3.0  Python-3.10.18 torch-2.5.1 CUDA:0 (NVIDIA GeForce RTX 3060 Ti, 8192MiB)\n",
      "Ultralytics 8.3.0  Python-3.10.18 torch-2.5.1 CUDA:0 (NVIDIA GeForce RTX 3060 Ti, 8192MiB)\n",
      "\u001b[34m\u001b[1mengine\\trainer: \u001b[0mtask=detect, mode=train, model=yolo11n.pt, data=c:\\Users\\Mika\\Desktop\\New_Training_Run_Post_Bulgaria\\mio_tcd_yolo_vehicles_only\\data.yaml, epochs=150, time=None, patience=20, batch=32, imgsz=640, save=True, save_period=5, cache=True, device=None, workers=8, project=yolo_l3_base, name=20250831_1201302, exist_ok=False, pretrained=True, optimizer=auto, verbose=True, seed=0, deterministic=True, single_cls=False, rect=False, cos_lr=True, close_mosaic=10, resume=False, amp=True, fraction=1.0, profile=False, freeze=None, multi_scale=False, overlap_mask=True, mask_ratio=4, dropout=0.0, val=True, split=val, save_json=False, save_hybrid=False, conf=None, iou=0.7, max_det=300, half=False, dnn=False, plots=True, source=None, vid_stride=1, stream_buffer=False, visualize=False, augment=False, agnostic_nms=False, classes=None, retina_masks=False, embed=None, show=False, save_frames=False, save_txt=False, save_conf=False, save_crop=False, show_labels=True, show_conf=True, show_boxes=True, line_width=None, format=torchscript, keras=False, optimize=False, int8=False, dynamic=False, simplify=True, opset=None, workspace=4, nms=False, lr0=0.01, lrf=0.01, momentum=0.937, weight_decay=0.0005, warmup_epochs=3.0, warmup_momentum=0.8, warmup_bias_lr=0.1, box=7.5, cls=0.5, dfl=1.5, pose=12.0, kobj=1.0, label_smoothing=0.0, nbs=64, hsv_h=0.015, hsv_s=0.7, hsv_v=0.4, degrees=5.0, translate=0.1, scale=0.5, shear=0.0, perspective=0.0, flipud=0.0, fliplr=0.5, bgr=0.0, mosaic=1.0, mixup=0.1, copy_paste=0.1, copy_paste_mode=flip, auto_augment=randaugment, erasing=0.4, crop_fraction=1.0, cfg=None, tracker=botsort.yaml, save_dir=yolo_l3_base\\20250831_1201302\n",
      "\u001b[34m\u001b[1mengine\\trainer: \u001b[0mtask=detect, mode=train, model=yolo11n.pt, data=c:\\Users\\Mika\\Desktop\\New_Training_Run_Post_Bulgaria\\mio_tcd_yolo_vehicles_only\\data.yaml, epochs=150, time=None, patience=20, batch=32, imgsz=640, save=True, save_period=5, cache=True, device=None, workers=8, project=yolo_l3_base, name=20250831_1201302, exist_ok=False, pretrained=True, optimizer=auto, verbose=True, seed=0, deterministic=True, single_cls=False, rect=False, cos_lr=True, close_mosaic=10, resume=False, amp=True, fraction=1.0, profile=False, freeze=None, multi_scale=False, overlap_mask=True, mask_ratio=4, dropout=0.0, val=True, split=val, save_json=False, save_hybrid=False, conf=None, iou=0.7, max_det=300, half=False, dnn=False, plots=True, source=None, vid_stride=1, stream_buffer=False, visualize=False, augment=False, agnostic_nms=False, classes=None, retina_masks=False, embed=None, show=False, save_frames=False, save_txt=False, save_conf=False, save_crop=False, show_labels=True, show_conf=True, show_boxes=True, line_width=None, format=torchscript, keras=False, optimize=False, int8=False, dynamic=False, simplify=True, opset=None, workspace=4, nms=False, lr0=0.01, lrf=0.01, momentum=0.937, weight_decay=0.0005, warmup_epochs=3.0, warmup_momentum=0.8, warmup_bias_lr=0.1, box=7.5, cls=0.5, dfl=1.5, pose=12.0, kobj=1.0, label_smoothing=0.0, nbs=64, hsv_h=0.015, hsv_s=0.7, hsv_v=0.4, degrees=5.0, translate=0.1, scale=0.5, shear=0.0, perspective=0.0, flipud=0.0, fliplr=0.5, bgr=0.0, mosaic=1.0, mixup=0.1, copy_paste=0.1, copy_paste_mode=flip, auto_augment=randaugment, erasing=0.4, crop_fraction=1.0, cfg=None, tracker=botsort.yaml, save_dir=yolo_l3_base\\20250831_1201302\n",
      "Overriding model.yaml nc=80 with nc=8\n",
      "\n",
      "                   from  n    params  module                                       arguments                     \n",
      "  0                  -1  1       464  ultralytics.nn.modules.conv.Conv             [3, 16, 3, 2]                 \n",
      "  1                  -1  1      4672  ultralytics.nn.modules.conv.Conv             [16, 32, 3, 2]                \n",
      "  2                  -1  1      6640  ultralytics.nn.modules.block.C3k2            [32, 64, 1, False, 0.25]      \n",
      "  3                  -1  1     36992  ultralytics.nn.modules.conv.Conv             [64, 64, 3, 2]                \n",
      "  4                  -1  1     26080  ultralytics.nn.modules.block.C3k2            [64, 128, 1, False, 0.25]     \n",
      "  5                  -1  1    147712  ultralytics.nn.modules.conv.Conv             [128, 128, 3, 2]              \n",
      "  6                  -1  1     87040  ultralytics.nn.modules.block.C3k2            [128, 128, 1, True]           \n",
      "Overriding model.yaml nc=80 with nc=8\n",
      "\n",
      "                   from  n    params  module                                       arguments                     \n",
      "  0                  -1  1       464  ultralytics.nn.modules.conv.Conv             [3, 16, 3, 2]                 \n",
      "  1                  -1  1      4672  ultralytics.nn.modules.conv.Conv             [16, 32, 3, 2]                \n",
      "  2                  -1  1      6640  ultralytics.nn.modules.block.C3k2            [32, 64, 1, False, 0.25]      \n",
      "  3                  -1  1     36992  ultralytics.nn.modules.conv.Conv             [64, 64, 3, 2]                \n",
      "  4                  -1  1     26080  ultralytics.nn.modules.block.C3k2            [64, 128, 1, False, 0.25]     \n",
      "  5                  -1  1    147712  ultralytics.nn.modules.conv.Conv             [128, 128, 3, 2]              \n",
      "  6                  -1  1     87040  ultralytics.nn.modules.block.C3k2            [128, 128, 1, True]           \n",
      "  7                  -1  1    295424  ultralytics.nn.modules.conv.Conv             [128, 256, 3, 2]              \n",
      "  8                  -1  1    346112  ultralytics.nn.modules.block.C3k2            [256, 256, 1, True]           \n",
      "  9                  -1  1    164608  ultralytics.nn.modules.block.SPPF            [256, 256, 5]                 \n",
      "  7                  -1  1    295424  ultralytics.nn.modules.conv.Conv             [128, 256, 3, 2]              \n",
      "  8                  -1  1    346112  ultralytics.nn.modules.block.C3k2            [256, 256, 1, True]           \n",
      "  9                  -1  1    164608  ultralytics.nn.modules.block.SPPF            [256, 256, 5]                 \n",
      " 10                  -1  1    249728  ultralytics.nn.modules.block.C2PSA           [256, 256, 1]                 \n",
      " 11                  -1  1         0  torch.nn.modules.upsampling.Upsample         [None, 2, 'nearest']          \n",
      " 12             [-1, 6]  1         0  ultralytics.nn.modules.conv.Concat           [1]                           \n",
      " 13                  -1  1    111296  ultralytics.nn.modules.block.C3k2            [384, 128, 1, False]          \n",
      " 14                  -1  1         0  torch.nn.modules.upsampling.Upsample         [None, 2, 'nearest']          \n",
      " 15             [-1, 4]  1         0  ultralytics.nn.modules.conv.Concat           [1]                           \n",
      " 16                  -1  1     32096  ultralytics.nn.modules.block.C3k2            [256, 64, 1, False]           \n",
      " 17                  -1  1     36992  ultralytics.nn.modules.conv.Conv             [64, 64, 3, 2]                \n",
      " 18            [-1, 13]  1         0  ultralytics.nn.modules.conv.Concat           [1]                           \n",
      " 19                  -1  1     86720  ultralytics.nn.modules.block.C3k2            [192, 128, 1, False]          \n",
      " 10                  -1  1    249728  ultralytics.nn.modules.block.C2PSA           [256, 256, 1]                 \n",
      " 11                  -1  1         0  torch.nn.modules.upsampling.Upsample         [None, 2, 'nearest']          \n",
      " 12             [-1, 6]  1         0  ultralytics.nn.modules.conv.Concat           [1]                           \n",
      " 13                  -1  1    111296  ultralytics.nn.modules.block.C3k2            [384, 128, 1, False]          \n",
      " 14                  -1  1         0  torch.nn.modules.upsampling.Upsample         [None, 2, 'nearest']          \n",
      " 15             [-1, 4]  1         0  ultralytics.nn.modules.conv.Concat           [1]                           \n",
      " 16                  -1  1     32096  ultralytics.nn.modules.block.C3k2            [256, 64, 1, False]           \n",
      " 17                  -1  1     36992  ultralytics.nn.modules.conv.Conv             [64, 64, 3, 2]                \n",
      " 18            [-1, 13]  1         0  ultralytics.nn.modules.conv.Concat           [1]                           \n",
      " 19                  -1  1     86720  ultralytics.nn.modules.block.C3k2            [192, 128, 1, False]          \n",
      " 20                  -1  1    147712  ultralytics.nn.modules.conv.Conv             [128, 128, 3, 2]              \n",
      " 21            [-1, 10]  1         0  ultralytics.nn.modules.conv.Concat           [1]                           \n",
      " 22                  -1  1    378880  ultralytics.nn.modules.block.C3k2            [384, 256, 1, True]           \n",
      " 23        [16, 19, 22]  1    432232  ultralytics.nn.modules.head.Detect           [8, [64, 128, 256]]           \n",
      " 20                  -1  1    147712  ultralytics.nn.modules.conv.Conv             [128, 128, 3, 2]              \n",
      " 21            [-1, 10]  1         0  ultralytics.nn.modules.conv.Concat           [1]                           \n",
      " 22                  -1  1    378880  ultralytics.nn.modules.block.C3k2            [384, 256, 1, True]           \n",
      " 23        [16, 19, 22]  1    432232  ultralytics.nn.modules.head.Detect           [8, [64, 128, 256]]           \n",
      "YOLO11n summary: 319 layers, 2,591,400 parameters, 2,591,384 gradients, 6.4 GFLOPs\n",
      "\n",
      "Transferred 448/499 items from pretrained weights\n",
      "YOLO11n summary: 319 layers, 2,591,400 parameters, 2,591,384 gradients, 6.4 GFLOPs\n",
      "\n",
      "Transferred 448/499 items from pretrained weights\n",
      "\u001b[34m\u001b[1mTensorBoard: \u001b[0mStart with 'tensorboard --logdir yolo_l3_base\\20250831_1201302', view at http://localhost:6006/\n",
      "\u001b[34m\u001b[1mTensorBoard: \u001b[0mStart with 'tensorboard --logdir yolo_l3_base\\20250831_1201302', view at http://localhost:6006/\n"
     ]
    },
    {
     "name": "stderr",
     "output_type": "stream",
     "text": [
      "wandb: Currently logged in as: mika47 (mika47-georg-august-uni) to https://api.wandb.ai. Use `wandb login --relogin` to force relogin\n"
     ]
    },
    {
     "data": {
      "text/html": [
       "Tracking run with wandb version 0.21.1"
      ],
      "text/plain": [
       "<IPython.core.display.HTML object>"
      ]
     },
     "metadata": {},
     "output_type": "display_data"
    },
    {
     "data": {
      "text/html": [
       "Run data is saved locally in <code>c:\\Users\\Mika\\Desktop\\New_Training_Run_Post_Bulgaria\\runs\\wandb\\run-20250831_140134-biuf8v2q</code>"
      ],
      "text/plain": [
       "<IPython.core.display.HTML object>"
      ]
     },
     "metadata": {},
     "output_type": "display_data"
    },
    {
     "data": {
      "text/html": [
       "Syncing run <strong><a href='https://wandb.ai/mika47-georg-august-uni/yolo_l3_base/runs/biuf8v2q' target=\"_blank\">20250831_1201302</a></strong> to <a href='https://wandb.ai/mika47-georg-august-uni/yolo_l3_base' target=\"_blank\">Weights & Biases</a> (<a href='https://wandb.me/developer-guide' target=\"_blank\">docs</a>)<br>"
      ],
      "text/plain": [
       "<IPython.core.display.HTML object>"
      ]
     },
     "metadata": {},
     "output_type": "display_data"
    },
    {
     "data": {
      "text/html": [
       " View project at <a href='https://wandb.ai/mika47-georg-august-uni/yolo_l3_base' target=\"_blank\">https://wandb.ai/mika47-georg-august-uni/yolo_l3_base</a>"
      ],
      "text/plain": [
       "<IPython.core.display.HTML object>"
      ]
     },
     "metadata": {},
     "output_type": "display_data"
    },
    {
     "data": {
      "text/html": [
       " View run at <a href='https://wandb.ai/mika47-georg-august-uni/yolo_l3_base/runs/biuf8v2q' target=\"_blank\">https://wandb.ai/mika47-georg-august-uni/yolo_l3_base/runs/biuf8v2q</a>"
      ],
      "text/plain": [
       "<IPython.core.display.HTML object>"
      ]
     },
     "metadata": {},
     "output_type": "display_data"
    },
    {
     "name": "stdout",
     "output_type": "stream",
     "text": [
      "Freezing layer 'model.23.dfl.conv.weight'\n"
     ]
    },
    {
     "name": "stderr",
     "output_type": "stream",
     "text": [
      "train: Scanning C:\\Users\\Mika\\Desktop\\New_Training_Run_Post_Bulgaria\\mio_tcd_yolo_vehicles_only\\labels\\train.cache... 74746 images, 0 backgrounds, 0 corrupt: 100%|██████████| 74746/74746 [00:00<?, ?it/s]Scanning C:\\Users\\Mika\\Desktop\\New_Training_Run_Post_Bulgaria\\mio_tcd_yolo_vehicles_only\\labels\\train.cache... 74746 images, 0 backgrounds, 0 corrupt: 100%|██████████| 74746/74746 [00:00<?, ?it/s]\n",
      "train: Scanning C:\\Users\\Mika\\Desktop\\New_Training_Run_Post_Bulgaria\\mio_tcd_yolo_vehicles_only\\labels\\train.cache... 74746 images, 0 backgrounds, 0 corrupt: 100%|██████████| 74746/74746 [00:00<?, ?it/s]Scanning C:\\Users\\Mika\\Desktop\\New_Training_Run_Post_Bulgaria\\mio_tcd_yolo_vehicles_only\\labels\\train.cache... 74746 images, 0 backgrounds, 0 corrupt: 100%|██████████| 74746/74746 [00:00<?, ?it/s]\n"
     ]
    },
    {
     "name": "stdout",
     "output_type": "stream",
     "text": [
      "\u001b[34m\u001b[1mtrain: \u001b[0m85.5GB RAM required to cache images with 50% safety margin but only 18.9/31.2GB available, not caching images \n"
     ]
    },
    {
     "name": "stderr",
     "output_type": "stream",
     "text": [
      "val: Scanning C:\\Users\\Mika\\Desktop\\New_Training_Run_Post_Bulgaria\\mio_tcd_yolo_vehicles_only\\labels\\val.cache... 13190 images, 0 backgrounds, 0 corrupt: 100%|██████████| 13190/13190 [00:00<?, ?it/s]Scanning C:\\Users\\Mika\\Desktop\\New_Training_Run_Post_Bulgaria\\mio_tcd_yolo_vehicles_only\\labels\\val.cache... 13190 images, 0 backgrounds, 0 corrupt: 100%|██████████| 13190/13190 [00:00<?, ?it/s]\n",
      "val: Scanning C:\\Users\\Mika\\Desktop\\New_Training_Run_Post_Bulgaria\\mio_tcd_yolo_vehicles_only\\labels\\val.cache... 13190 images, 0 backgrounds, 0 corrupt: 100%|██████████| 13190/13190 [00:00<?, ?it/s]Scanning C:\\Users\\Mika\\Desktop\\New_Training_Run_Post_Bulgaria\\mio_tcd_yolo_vehicles_only\\labels\\val.cache... 13190 images, 0 backgrounds, 0 corrupt: 100%|██████████| 13190/13190 [00:00<?, ?it/s]\n"
     ]
    },
    {
     "name": "stdout",
     "output_type": "stream",
     "text": [
      "\u001b[34m\u001b[1mval: \u001b[0m15.1GB RAM required to cache images with 50% safety margin but only 13.3/31.2GB available, not caching images \n",
      "Plotting labels to yolo_l3_base\\20250831_1201302\\labels.jpg... \n",
      "Plotting labels to yolo_l3_base\\20250831_1201302\\labels.jpg... \n",
      "\u001b[34m\u001b[1moptimizer:\u001b[0m 'optimizer=auto' found, ignoring 'lr0=0.01' and 'momentum=0.937' and determining best 'optimizer', 'lr0' and 'momentum' automatically... \n",
      "\u001b[34m\u001b[1moptimizer:\u001b[0m 'optimizer=auto' found, ignoring 'lr0=0.01' and 'momentum=0.937' and determining best 'optimizer', 'lr0' and 'momentum' automatically... \n",
      "\u001b[34m\u001b[1moptimizer:\u001b[0m SGD(lr=0.01, momentum=0.9) with parameter groups 81 weight(decay=0.0), 88 weight(decay=0.0005), 87 bias(decay=0.0)\n",
      "\u001b[34m\u001b[1moptimizer:\u001b[0m SGD(lr=0.01, momentum=0.9) with parameter groups 81 weight(decay=0.0), 88 weight(decay=0.0005), 87 bias(decay=0.0)\n",
      "\u001b[34m\u001b[1mTensorBoard: \u001b[0mmodel graph visualization added \n",
      "Image sizes 640 train, 640 val\n",
      "Using 8 dataloader workers\n",
      "Logging results to \u001b[1myolo_l3_base\\20250831_1201302\u001b[0m\n",
      "Starting training for 150 epochs...\n",
      "\n",
      "      Epoch    GPU_mem   box_loss   cls_loss   dfl_loss  Instances       Size\n",
      "\u001b[34m\u001b[1mTensorBoard: \u001b[0mmodel graph visualization added \n",
      "Image sizes 640 train, 640 val\n",
      "Using 8 dataloader workers\n",
      "Logging results to \u001b[1myolo_l3_base\\20250831_1201302\u001b[0m\n",
      "Starting training for 150 epochs...\n",
      "\n",
      "      Epoch    GPU_mem   box_loss   cls_loss   dfl_loss  Instances       Size\n"
     ]
    },
    {
     "name": "stderr",
     "output_type": "stream",
     "text": [
      "      1/150     0.755G      1.137      1.688      1.063        116        640: 100%|██████████| 2336/2336 [07:51<00:00,  4.95it/s]\n",
      "      1/150     0.755G      1.137      1.688      1.063        116        640: 100%|██████████| 2336/2336 [07:51<00:00,  4.95it/s]\n",
      "                 Class     Images  Instances      Box(P          R      mAP50  mAP50-95): 100%|██████████| 207/207 [00:53<00:00,  3.86it/s]\n",
      "                 Class     Images  Instances      Box(P          R      mAP50  mAP50-95): 100%|██████████| 207/207 [00:53<00:00,  3.86it/s]\n"
     ]
    },
    {
     "name": "stdout",
     "output_type": "stream",
     "text": [
      "                   all      13190      48226      0.505        0.5      0.503      0.349\n",
      "\n",
      "      Epoch    GPU_mem   box_loss   cls_loss   dfl_loss  Instances       Size\n",
      "\n",
      "      Epoch    GPU_mem   box_loss   cls_loss   dfl_loss  Instances       Size\n"
     ]
    },
    {
     "name": "stderr",
     "output_type": "stream",
     "text": [
      "      2/150      5.04G      1.056       1.03      1.017        158        640: 100%|██████████| 2336/2336 [07:36<00:00,  5.12it/s]\n",
      "      2/150      5.04G      1.056       1.03      1.017        158        640: 100%|██████████| 2336/2336 [07:36<00:00,  5.12it/s]\n",
      "                 Class     Images  Instances      Box(P          R      mAP50  mAP50-95): 100%|██████████| 207/207 [00:47<00:00,  4.36it/s]\n",
      "                 Class     Images  Instances      Box(P          R      mAP50  mAP50-95): 100%|██████████| 207/207 [00:47<00:00,  4.36it/s]\n"
     ]
    },
    {
     "name": "stdout",
     "output_type": "stream",
     "text": [
      "                   all      13190      48226      0.613      0.578      0.601      0.417\n",
      "\n",
      "      Epoch    GPU_mem   box_loss   cls_loss   dfl_loss  Instances       Size\n",
      "\n",
      "      Epoch    GPU_mem   box_loss   cls_loss   dfl_loss  Instances       Size\n"
     ]
    },
    {
     "name": "stderr",
     "output_type": "stream",
     "text": [
      "      3/150       4.8G      1.073     0.9426      1.033        102        640: 100%|██████████| 2336/2336 [07:27<00:00,  5.23it/s]\n",
      "      3/150       4.8G      1.073     0.9426      1.033        102        640: 100%|██████████| 2336/2336 [07:27<00:00,  5.23it/s]\n",
      "                 Class     Images  Instances      Box(P          R      mAP50  mAP50-95): 100%|██████████| 207/207 [00:51<00:00,  4.03it/s]\n",
      "                 Class     Images  Instances      Box(P          R      mAP50  mAP50-95): 100%|██████████| 207/207 [00:51<00:00,  4.03it/s]\n"
     ]
    },
    {
     "name": "stdout",
     "output_type": "stream",
     "text": [
      "                   all      13190      48226       0.62      0.535      0.579      0.396\n",
      "\n",
      "      Epoch    GPU_mem   box_loss   cls_loss   dfl_loss  Instances       Size\n",
      "\n",
      "      Epoch    GPU_mem   box_loss   cls_loss   dfl_loss  Instances       Size\n"
     ]
    },
    {
     "name": "stderr",
     "output_type": "stream",
     "text": [
      "      4/150      4.94G      1.065     0.8902      1.032        159        640: 100%|██████████| 2336/2336 [07:28<00:00,  5.21it/s]\n",
      "      4/150      4.94G      1.065     0.8902      1.032        159        640: 100%|██████████| 2336/2336 [07:28<00:00,  5.21it/s]\n",
      "                 Class     Images  Instances      Box(P          R      mAP50  mAP50-95): 100%|██████████| 207/207 [00:51<00:00,  3.99it/s]\n",
      "                 Class     Images  Instances      Box(P          R      mAP50  mAP50-95): 100%|██████████| 207/207 [00:51<00:00,  3.99it/s]\n"
     ]
    },
    {
     "name": "stdout",
     "output_type": "stream",
     "text": [
      "                   all      13190      48226      0.635      0.614      0.646      0.462\n",
      "\n",
      "      Epoch    GPU_mem   box_loss   cls_loss   dfl_loss  Instances       Size\n",
      "\n",
      "      Epoch    GPU_mem   box_loss   cls_loss   dfl_loss  Instances       Size\n"
     ]
    },
    {
     "name": "stderr",
     "output_type": "stream",
     "text": [
      "      5/150      4.86G      1.025      0.811      1.016        159        640: 100%|██████████| 2336/2336 [07:28<00:00,  5.21it/s]\n",
      "      5/150      4.86G      1.025      0.811      1.016        159        640: 100%|██████████| 2336/2336 [07:28<00:00,  5.21it/s]\n",
      "                 Class     Images  Instances      Box(P          R      mAP50  mAP50-95): 100%|██████████| 207/207 [00:51<00:00,  4.01it/s]\n",
      "                 Class     Images  Instances      Box(P          R      mAP50  mAP50-95): 100%|██████████| 207/207 [00:51<00:00,  4.01it/s]\n"
     ]
    },
    {
     "name": "stdout",
     "output_type": "stream",
     "text": [
      "                   all      13190      48226       0.71      0.628      0.691      0.502\n",
      "\n",
      "      Epoch    GPU_mem   box_loss   cls_loss   dfl_loss  Instances       Size\n",
      "\n",
      "      Epoch    GPU_mem   box_loss   cls_loss   dfl_loss  Instances       Size\n"
     ]
    },
    {
     "name": "stderr",
     "output_type": "stream",
     "text": [
      "      6/150      4.76G      1.003     0.7732      1.008        102        640: 100%|██████████| 2336/2336 [07:24<00:00,  5.26it/s]\n",
      "      6/150      4.76G      1.003     0.7732      1.008        102        640: 100%|██████████| 2336/2336 [07:24<00:00,  5.26it/s]\n",
      "                 Class     Images  Instances      Box(P          R      mAP50  mAP50-95): 100%|██████████| 207/207 [00:47<00:00,  4.35it/s]\n",
      "                 Class     Images  Instances      Box(P          R      mAP50  mAP50-95): 100%|██████████| 207/207 [00:47<00:00,  4.35it/s]\n"
     ]
    },
    {
     "name": "stdout",
     "output_type": "stream",
     "text": [
      "                   all      13190      48226      0.689      0.666      0.713      0.518\n",
      "\n",
      "      Epoch    GPU_mem   box_loss   cls_loss   dfl_loss  Instances       Size\n",
      "\n",
      "      Epoch    GPU_mem   box_loss   cls_loss   dfl_loss  Instances       Size\n"
     ]
    },
    {
     "name": "stderr",
     "output_type": "stream",
     "text": [
      "      7/150      4.77G       0.99     0.7477      1.001        119        640: 100%|██████████| 2336/2336 [07:21<00:00,  5.29it/s]\n",
      "      7/150      4.77G       0.99     0.7477      1.001        119        640: 100%|██████████| 2336/2336 [07:21<00:00,  5.29it/s]\n",
      "                 Class     Images  Instances      Box(P          R      mAP50  mAP50-95): 100%|██████████| 207/207 [00:51<00:00,  4.00it/s]\n",
      "                 Class     Images  Instances      Box(P          R      mAP50  mAP50-95): 100%|██████████| 207/207 [00:51<00:00,  4.00it/s]\n"
     ]
    },
    {
     "name": "stdout",
     "output_type": "stream",
     "text": [
      "                   all      13190      48226      0.719      0.664      0.732      0.537\n",
      "\n",
      "      Epoch    GPU_mem   box_loss   cls_loss   dfl_loss  Instances       Size\n",
      "\n",
      "      Epoch    GPU_mem   box_loss   cls_loss   dfl_loss  Instances       Size\n"
     ]
    },
    {
     "name": "stderr",
     "output_type": "stream",
     "text": [
      "      8/150      4.94G     0.9791     0.7294     0.9971        123        640: 100%|██████████| 2336/2336 [07:28<00:00,  5.21it/s]\n",
      "      8/150      4.94G     0.9791     0.7294     0.9971        123        640: 100%|██████████| 2336/2336 [07:28<00:00,  5.21it/s]\n",
      "                 Class     Images  Instances      Box(P          R      mAP50  mAP50-95): 100%|██████████| 207/207 [00:51<00:00,  3.98it/s]\n",
      "                 Class     Images  Instances      Box(P          R      mAP50  mAP50-95): 100%|██████████| 207/207 [00:51<00:00,  3.98it/s]\n"
     ]
    },
    {
     "name": "stdout",
     "output_type": "stream",
     "text": [
      "                   all      13190      48226      0.712      0.705      0.748       0.55\n",
      "\n",
      "      Epoch    GPU_mem   box_loss   cls_loss   dfl_loss  Instances       Size\n",
      "\n",
      "      Epoch    GPU_mem   box_loss   cls_loss   dfl_loss  Instances       Size\n"
     ]
    },
    {
     "name": "stderr",
     "output_type": "stream",
     "text": [
      "      9/150      4.96G     0.9718     0.7156     0.9936        138        640: 100%|██████████| 2336/2336 [07:27<00:00,  5.21it/s]\n",
      "      9/150      4.96G     0.9718     0.7156     0.9936        138        640: 100%|██████████| 2336/2336 [07:27<00:00,  5.21it/s]\n",
      "                 Class     Images  Instances      Box(P          R      mAP50  mAP50-95): 100%|██████████| 207/207 [00:51<00:00,  4.03it/s]\n",
      "                 Class     Images  Instances      Box(P          R      mAP50  mAP50-95): 100%|██████████| 207/207 [00:51<00:00,  4.03it/s]\n"
     ]
    },
    {
     "name": "stdout",
     "output_type": "stream",
     "text": [
      "                   all      13190      48226      0.739      0.694      0.753      0.555\n",
      "\n",
      "      Epoch    GPU_mem   box_loss   cls_loss   dfl_loss  Instances       Size\n",
      "\n",
      "      Epoch    GPU_mem   box_loss   cls_loss   dfl_loss  Instances       Size\n"
     ]
    },
    {
     "name": "stderr",
     "output_type": "stream",
     "text": [
      "     10/150       4.9G     0.9614     0.7054     0.9897        161        640: 100%|██████████| 2336/2336 [07:26<00:00,  5.23it/s]\n",
      "     10/150       4.9G     0.9614     0.7054     0.9897        161        640: 100%|██████████| 2336/2336 [07:26<00:00,  5.23it/s]\n",
      "                 Class     Images  Instances      Box(P          R      mAP50  mAP50-95): 100%|██████████| 207/207 [00:51<00:00,  4.01it/s]\n",
      "                 Class     Images  Instances      Box(P          R      mAP50  mAP50-95): 100%|██████████| 207/207 [00:51<00:00,  4.01it/s]\n"
     ]
    },
    {
     "name": "stdout",
     "output_type": "stream",
     "text": [
      "                   all      13190      48226      0.721       0.71      0.754      0.559\n",
      "\n",
      "      Epoch    GPU_mem   box_loss   cls_loss   dfl_loss  Instances       Size\n",
      "\n",
      "      Epoch    GPU_mem   box_loss   cls_loss   dfl_loss  Instances       Size\n"
     ]
    },
    {
     "name": "stderr",
     "output_type": "stream",
     "text": [
      "     11/150      4.83G      0.954     0.6977     0.9874        108        640: 100%|██████████| 2336/2336 [07:27<00:00,  5.22it/s]\n",
      "     11/150      4.83G      0.954     0.6977     0.9874        108        640: 100%|██████████| 2336/2336 [07:27<00:00,  5.22it/s]\n",
      "                 Class     Images  Instances      Box(P          R      mAP50  mAP50-95): 100%|██████████| 207/207 [00:51<00:00,  4.01it/s]\n",
      "                 Class     Images  Instances      Box(P          R      mAP50  mAP50-95): 100%|██████████| 207/207 [00:51<00:00,  4.01it/s]\n"
     ]
    },
    {
     "name": "stdout",
     "output_type": "stream",
     "text": [
      "                   all      13190      48226       0.73      0.711      0.758      0.563\n",
      "\n",
      "      Epoch    GPU_mem   box_loss   cls_loss   dfl_loss  Instances       Size\n",
      "\n",
      "      Epoch    GPU_mem   box_loss   cls_loss   dfl_loss  Instances       Size\n"
     ]
    },
    {
     "name": "stderr",
     "output_type": "stream",
     "text": [
      "     12/150      4.93G     0.9511     0.6888     0.9843        144        640: 100%|██████████| 2336/2336 [07:28<00:00,  5.21it/s]\n",
      "     12/150      4.93G     0.9511     0.6888     0.9843        144        640: 100%|██████████| 2336/2336 [07:28<00:00,  5.21it/s]\n",
      "                 Class     Images  Instances      Box(P          R      mAP50  mAP50-95): 100%|██████████| 207/207 [00:51<00:00,  4.02it/s]\n",
      "                 Class     Images  Instances      Box(P          R      mAP50  mAP50-95): 100%|██████████| 207/207 [00:51<00:00,  4.02it/s]\n"
     ]
    },
    {
     "name": "stdout",
     "output_type": "stream",
     "text": [
      "                   all      13190      48226      0.733      0.719      0.763      0.567\n",
      "\n",
      "      Epoch    GPU_mem   box_loss   cls_loss   dfl_loss  Instances       Size\n",
      "\n",
      "      Epoch    GPU_mem   box_loss   cls_loss   dfl_loss  Instances       Size\n"
     ]
    },
    {
     "name": "stderr",
     "output_type": "stream",
     "text": [
      "     13/150      5.01G      0.944     0.6854     0.9819        121        640: 100%|██████████| 2336/2336 [07:27<00:00,  5.22it/s]\n",
      "     13/150      5.01G      0.944     0.6854     0.9819        121        640: 100%|██████████| 2336/2336 [07:27<00:00,  5.22it/s]\n",
      "                 Class     Images  Instances      Box(P          R      mAP50  mAP50-95): 100%|██████████| 207/207 [00:48<00:00,  4.26it/s]\n",
      "                 Class     Images  Instances      Box(P          R      mAP50  mAP50-95): 100%|██████████| 207/207 [00:48<00:00,  4.26it/s]\n"
     ]
    },
    {
     "name": "stdout",
     "output_type": "stream",
     "text": [
      "                   all      13190      48226      0.745      0.715      0.767      0.571\n",
      "\n",
      "      Epoch    GPU_mem   box_loss   cls_loss   dfl_loss  Instances       Size\n",
      "\n",
      "      Epoch    GPU_mem   box_loss   cls_loss   dfl_loss  Instances       Size\n"
     ]
    },
    {
     "name": "stderr",
     "output_type": "stream",
     "text": [
      "     14/150      4.85G     0.9388     0.6778     0.9797        118        640: 100%|██████████| 2336/2336 [07:16<00:00,  5.35it/s]\n",
      "     14/150      4.85G     0.9388     0.6778     0.9797        118        640: 100%|██████████| 2336/2336 [07:16<00:00,  5.35it/s]\n",
      "                 Class     Images  Instances      Box(P          R      mAP50  mAP50-95): 100%|██████████| 207/207 [00:47<00:00,  4.35it/s]\n",
      "                 Class     Images  Instances      Box(P          R      mAP50  mAP50-95): 100%|██████████| 207/207 [00:47<00:00,  4.35it/s]\n"
     ]
    },
    {
     "name": "stdout",
     "output_type": "stream",
     "text": [
      "                   all      13190      48226      0.747      0.713      0.769      0.573\n",
      "\n",
      "      Epoch    GPU_mem   box_loss   cls_loss   dfl_loss  Instances       Size\n",
      "\n",
      "      Epoch    GPU_mem   box_loss   cls_loss   dfl_loss  Instances       Size\n"
     ]
    },
    {
     "name": "stderr",
     "output_type": "stream",
     "text": [
      "     15/150       4.8G     0.9379      0.673     0.9792        121        640: 100%|██████████| 2336/2336 [07:27<00:00,  5.22it/s]\n",
      "     15/150       4.8G     0.9379      0.673     0.9792        121        640: 100%|██████████| 2336/2336 [07:27<00:00,  5.22it/s]\n",
      "                 Class     Images  Instances      Box(P          R      mAP50  mAP50-95): 100%|██████████| 207/207 [00:51<00:00,  4.01it/s]\n",
      "                 Class     Images  Instances      Box(P          R      mAP50  mAP50-95): 100%|██████████| 207/207 [00:51<00:00,  4.01it/s]\n"
     ]
    },
    {
     "name": "stdout",
     "output_type": "stream",
     "text": [
      "                   all      13190      48226      0.744      0.713      0.771      0.575\n",
      "\n",
      "      Epoch    GPU_mem   box_loss   cls_loss   dfl_loss  Instances       Size\n",
      "\n",
      "      Epoch    GPU_mem   box_loss   cls_loss   dfl_loss  Instances       Size\n"
     ]
    },
    {
     "name": "stderr",
     "output_type": "stream",
     "text": [
      "     16/150      4.84G      0.933     0.6677     0.9759        119        640: 100%|██████████| 2336/2336 [07:28<00:00,  5.21it/s]\n",
      "     16/150      4.84G      0.933     0.6677     0.9759        119        640: 100%|██████████| 2336/2336 [07:28<00:00,  5.21it/s]\n",
      "                 Class     Images  Instances      Box(P          R      mAP50  mAP50-95): 100%|██████████| 207/207 [00:51<00:00,  4.02it/s]\n",
      "                 Class     Images  Instances      Box(P          R      mAP50  mAP50-95): 100%|██████████| 207/207 [00:51<00:00,  4.02it/s]\n"
     ]
    },
    {
     "name": "stdout",
     "output_type": "stream",
     "text": [
      "                   all      13190      48226      0.738      0.721      0.772      0.577\n",
      "\n",
      "      Epoch    GPU_mem   box_loss   cls_loss   dfl_loss  Instances       Size\n",
      "\n",
      "      Epoch    GPU_mem   box_loss   cls_loss   dfl_loss  Instances       Size\n"
     ]
    },
    {
     "name": "stderr",
     "output_type": "stream",
     "text": [
      "     17/150       4.9G     0.9313     0.6623     0.9754        110        640: 100%|██████████| 2336/2336 [07:27<00:00,  5.22it/s]\n",
      "     17/150       4.9G     0.9313     0.6623     0.9754        110        640: 100%|██████████| 2336/2336 [07:27<00:00,  5.22it/s]\n",
      "                 Class     Images  Instances      Box(P          R      mAP50  mAP50-95): 100%|██████████| 207/207 [00:51<00:00,  4.02it/s]\n",
      "                 Class     Images  Instances      Box(P          R      mAP50  mAP50-95): 100%|██████████| 207/207 [00:51<00:00,  4.02it/s]\n"
     ]
    },
    {
     "name": "stdout",
     "output_type": "stream",
     "text": [
      "                   all      13190      48226      0.744      0.719      0.774      0.578\n",
      "\n",
      "      Epoch    GPU_mem   box_loss   cls_loss   dfl_loss  Instances       Size\n",
      "\n",
      "      Epoch    GPU_mem   box_loss   cls_loss   dfl_loss  Instances       Size\n"
     ]
    },
    {
     "name": "stderr",
     "output_type": "stream",
     "text": [
      "     18/150      4.91G     0.9288     0.6632     0.9762        132        640: 100%|██████████| 2336/2336 [07:27<00:00,  5.22it/s]\n",
      "     18/150      4.91G     0.9288     0.6632     0.9762        132        640: 100%|██████████| 2336/2336 [07:27<00:00,  5.22it/s]\n",
      "                 Class     Images  Instances      Box(P          R      mAP50  mAP50-95): 100%|██████████| 207/207 [00:51<00:00,  4.00it/s]\n",
      "                 Class     Images  Instances      Box(P          R      mAP50  mAP50-95): 100%|██████████| 207/207 [00:51<00:00,  4.00it/s]\n"
     ]
    },
    {
     "name": "stdout",
     "output_type": "stream",
     "text": [
      "                   all      13190      48226      0.744      0.722      0.775      0.579\n",
      "\n",
      "      Epoch    GPU_mem   box_loss   cls_loss   dfl_loss  Instances       Size\n",
      "\n",
      "      Epoch    GPU_mem   box_loss   cls_loss   dfl_loss  Instances       Size\n"
     ]
    },
    {
     "name": "stderr",
     "output_type": "stream",
     "text": [
      "     19/150       4.9G     0.9267     0.6583      0.974        132        640: 100%|██████████| 2336/2336 [07:27<00:00,  5.22it/s]\n",
      "     19/150       4.9G     0.9267     0.6583      0.974        132        640: 100%|██████████| 2336/2336 [07:27<00:00,  5.22it/s]\n",
      "                 Class     Images  Instances      Box(P          R      mAP50  mAP50-95): 100%|██████████| 207/207 [00:51<00:00,  3.98it/s]\n",
      "                 Class     Images  Instances      Box(P          R      mAP50  mAP50-95): 100%|██████████| 207/207 [00:51<00:00,  3.98it/s]\n"
     ]
    },
    {
     "name": "stdout",
     "output_type": "stream",
     "text": [
      "                   all      13190      48226      0.744      0.723      0.776      0.581\n",
      "\n",
      "      Epoch    GPU_mem   box_loss   cls_loss   dfl_loss  Instances       Size\n",
      "\n",
      "      Epoch    GPU_mem   box_loss   cls_loss   dfl_loss  Instances       Size\n"
     ]
    },
    {
     "name": "stderr",
     "output_type": "stream",
     "text": [
      "     20/150      5.22G     0.9252     0.6582     0.9732        146        640: 100%|██████████| 2336/2336 [07:35<00:00,  5.13it/s]\n",
      "     20/150      5.22G     0.9252     0.6582     0.9732        146        640: 100%|██████████| 2336/2336 [07:35<00:00,  5.13it/s]\n",
      "                 Class     Images  Instances      Box(P          R      mAP50  mAP50-95): 100%|██████████| 207/207 [00:51<00:00,  3.98it/s]\n",
      "                 Class     Images  Instances      Box(P          R      mAP50  mAP50-95): 100%|██████████| 207/207 [00:51<00:00,  3.98it/s]\n"
     ]
    },
    {
     "name": "stdout",
     "output_type": "stream",
     "text": [
      "                   all      13190      48226      0.743      0.724      0.777      0.582\n",
      "\n",
      "      Epoch    GPU_mem   box_loss   cls_loss   dfl_loss  Instances       Size\n",
      "\n",
      "      Epoch    GPU_mem   box_loss   cls_loss   dfl_loss  Instances       Size\n"
     ]
    },
    {
     "name": "stderr",
     "output_type": "stream",
     "text": [
      "     21/150      4.78G     0.9224     0.6551     0.9724         98        640: 100%|██████████| 2336/2336 [07:27<00:00,  5.22it/s]\n",
      "     21/150      4.78G     0.9224     0.6551     0.9724         98        640: 100%|██████████| 2336/2336 [07:27<00:00,  5.22it/s]\n",
      "                 Class     Images  Instances      Box(P          R      mAP50  mAP50-95): 100%|██████████| 207/207 [00:51<00:00,  4.03it/s]\n",
      "                 Class     Images  Instances      Box(P          R      mAP50  mAP50-95): 100%|██████████| 207/207 [00:51<00:00,  4.03it/s]\n"
     ]
    },
    {
     "name": "stdout",
     "output_type": "stream",
     "text": [
      "                   all      13190      48226      0.745      0.724      0.776      0.582\n",
      "\n",
      "      Epoch    GPU_mem   box_loss   cls_loss   dfl_loss  Instances       Size\n",
      "\n",
      "      Epoch    GPU_mem   box_loss   cls_loss   dfl_loss  Instances       Size\n"
     ]
    },
    {
     "name": "stderr",
     "output_type": "stream",
     "text": [
      "     22/150      4.79G     0.9215     0.6519     0.9718        125        640: 100%|██████████| 2336/2336 [07:27<00:00,  5.22it/s]\n",
      "     22/150      4.79G     0.9215     0.6519     0.9718        125        640: 100%|██████████| 2336/2336 [07:27<00:00,  5.22it/s]\n",
      "                 Class     Images  Instances      Box(P          R      mAP50  mAP50-95): 100%|██████████| 207/207 [00:51<00:00,  4.01it/s]\n",
      "                 Class     Images  Instances      Box(P          R      mAP50  mAP50-95): 100%|██████████| 207/207 [00:51<00:00,  4.01it/s]\n"
     ]
    },
    {
     "name": "stdout",
     "output_type": "stream",
     "text": [
      "                   all      13190      48226      0.747      0.725      0.778      0.582\n",
      "\n",
      "      Epoch    GPU_mem   box_loss   cls_loss   dfl_loss  Instances       Size\n",
      "\n",
      "      Epoch    GPU_mem   box_loss   cls_loss   dfl_loss  Instances       Size\n"
     ]
    },
    {
     "name": "stderr",
     "output_type": "stream",
     "text": [
      "     23/150      5.02G     0.9213     0.6517     0.9728         92        640: 100%|██████████| 2336/2336 [07:27<00:00,  5.22it/s]\n",
      "     23/150      5.02G     0.9213     0.6517     0.9728         92        640: 100%|██████████| 2336/2336 [07:27<00:00,  5.22it/s]\n",
      "                 Class     Images  Instances      Box(P          R      mAP50  mAP50-95): 100%|██████████| 207/207 [00:51<00:00,  4.03it/s]\n",
      "                 Class     Images  Instances      Box(P          R      mAP50  mAP50-95): 100%|██████████| 207/207 [00:51<00:00,  4.03it/s]\n"
     ]
    },
    {
     "name": "stdout",
     "output_type": "stream",
     "text": [
      "                   all      13190      48226      0.751      0.721      0.779      0.583\n",
      "\n",
      "      Epoch    GPU_mem   box_loss   cls_loss   dfl_loss  Instances       Size\n",
      "\n",
      "      Epoch    GPU_mem   box_loss   cls_loss   dfl_loss  Instances       Size\n"
     ]
    },
    {
     "name": "stderr",
     "output_type": "stream",
     "text": [
      "     24/150      4.79G     0.9151     0.6462     0.9697        135        640: 100%|██████████| 2336/2336 [07:27<00:00,  5.22it/s]\n",
      "     24/150      4.79G     0.9151     0.6462     0.9697        135        640: 100%|██████████| 2336/2336 [07:27<00:00,  5.22it/s]\n",
      "                 Class     Images  Instances      Box(P          R      mAP50  mAP50-95): 100%|██████████| 207/207 [00:51<00:00,  4.04it/s]\n",
      "                 Class     Images  Instances      Box(P          R      mAP50  mAP50-95): 100%|██████████| 207/207 [00:51<00:00,  4.04it/s]\n"
     ]
    },
    {
     "name": "stdout",
     "output_type": "stream",
     "text": [
      "                   all      13190      48226      0.754       0.72      0.779      0.583\n",
      "\n",
      "      Epoch    GPU_mem   box_loss   cls_loss   dfl_loss  Instances       Size\n",
      "\n",
      "      Epoch    GPU_mem   box_loss   cls_loss   dfl_loss  Instances       Size\n"
     ]
    },
    {
     "name": "stderr",
     "output_type": "stream",
     "text": [
      "     25/150      4.94G     0.9183      0.646     0.9701        145        640: 100%|██████████| 2336/2336 [07:26<00:00,  5.23it/s]\n",
      "     25/150      4.94G     0.9183      0.646     0.9701        145        640: 100%|██████████| 2336/2336 [07:26<00:00,  5.23it/s]\n",
      "                 Class     Images  Instances      Box(P          R      mAP50  mAP50-95): 100%|██████████| 207/207 [00:51<00:00,  4.05it/s]\n",
      "                 Class     Images  Instances      Box(P          R      mAP50  mAP50-95): 100%|██████████| 207/207 [00:51<00:00,  4.05it/s]\n"
     ]
    },
    {
     "name": "stdout",
     "output_type": "stream",
     "text": [
      "                   all      13190      48226      0.756      0.715      0.779      0.584\n",
      "\n",
      "      Epoch    GPU_mem   box_loss   cls_loss   dfl_loss  Instances       Size\n",
      "\n",
      "      Epoch    GPU_mem   box_loss   cls_loss   dfl_loss  Instances       Size\n"
     ]
    },
    {
     "name": "stderr",
     "output_type": "stream",
     "text": [
      "     26/150      4.76G     0.9166     0.6444     0.9682        148        640: 100%|██████████| 2336/2336 [07:26<00:00,  5.23it/s]\n",
      "     26/150      4.76G     0.9166     0.6444     0.9682        148        640: 100%|██████████| 2336/2336 [07:26<00:00,  5.23it/s]\n",
      "                 Class     Images  Instances      Box(P          R      mAP50  mAP50-95): 100%|██████████| 207/207 [00:51<00:00,  4.00it/s]\n",
      "                 Class     Images  Instances      Box(P          R      mAP50  mAP50-95): 100%|██████████| 207/207 [00:51<00:00,  4.00it/s]\n"
     ]
    },
    {
     "name": "stdout",
     "output_type": "stream",
     "text": [
      "                   all      13190      48226      0.758      0.717       0.78      0.585\n",
      "\n",
      "      Epoch    GPU_mem   box_loss   cls_loss   dfl_loss  Instances       Size\n",
      "\n",
      "      Epoch    GPU_mem   box_loss   cls_loss   dfl_loss  Instances       Size\n"
     ]
    },
    {
     "name": "stderr",
     "output_type": "stream",
     "text": [
      "     27/150      4.78G     0.9126     0.6403     0.9681        187        640: 100%|██████████| 2336/2336 [07:26<00:00,  5.23it/s]\n",
      "     27/150      4.78G     0.9126     0.6403     0.9681        187        640: 100%|██████████| 2336/2336 [07:26<00:00,  5.23it/s]\n",
      "                 Class     Images  Instances      Box(P          R      mAP50  mAP50-95): 100%|██████████| 207/207 [00:51<00:00,  4.05it/s]\n",
      "                 Class     Images  Instances      Box(P          R      mAP50  mAP50-95): 100%|██████████| 207/207 [00:51<00:00,  4.05it/s]\n"
     ]
    },
    {
     "name": "stdout",
     "output_type": "stream",
     "text": [
      "                   all      13190      48226      0.752      0.722      0.781      0.585\n",
      "\n",
      "      Epoch    GPU_mem   box_loss   cls_loss   dfl_loss  Instances       Size\n",
      "\n",
      "      Epoch    GPU_mem   box_loss   cls_loss   dfl_loss  Instances       Size\n"
     ]
    },
    {
     "name": "stderr",
     "output_type": "stream",
     "text": [
      "     28/150      4.92G     0.9126     0.6385     0.9675        133        640: 100%|██████████| 2336/2336 [07:26<00:00,  5.23it/s]\n",
      "     28/150      4.92G     0.9126     0.6385     0.9675        133        640: 100%|██████████| 2336/2336 [07:26<00:00,  5.23it/s]\n",
      "                 Class     Images  Instances      Box(P          R      mAP50  mAP50-95): 100%|██████████| 207/207 [00:51<00:00,  4.01it/s]\n",
      "                 Class     Images  Instances      Box(P          R      mAP50  mAP50-95): 100%|██████████| 207/207 [00:51<00:00,  4.01it/s]\n"
     ]
    },
    {
     "name": "stdout",
     "output_type": "stream",
     "text": [
      "                   all      13190      48226      0.751      0.724      0.782      0.587\n",
      "\n",
      "      Epoch    GPU_mem   box_loss   cls_loss   dfl_loss  Instances       Size\n",
      "\n",
      "      Epoch    GPU_mem   box_loss   cls_loss   dfl_loss  Instances       Size\n"
     ]
    },
    {
     "name": "stderr",
     "output_type": "stream",
     "text": [
      "     29/150      5.06G     0.9131     0.6399     0.9682        123        640: 100%|██████████| 2336/2336 [07:27<00:00,  5.22it/s]\n",
      "     29/150      5.06G     0.9131     0.6399     0.9682        123        640: 100%|██████████| 2336/2336 [07:27<00:00,  5.22it/s]\n",
      "                 Class     Images  Instances      Box(P          R      mAP50  mAP50-95): 100%|██████████| 207/207 [00:51<00:00,  4.02it/s]\n",
      "                 Class     Images  Instances      Box(P          R      mAP50  mAP50-95): 100%|██████████| 207/207 [00:51<00:00,  4.02it/s]\n"
     ]
    },
    {
     "name": "stdout",
     "output_type": "stream",
     "text": [
      "                   all      13190      48226      0.759      0.721      0.784      0.588\n",
      "\n",
      "      Epoch    GPU_mem   box_loss   cls_loss   dfl_loss  Instances       Size\n",
      "\n",
      "      Epoch    GPU_mem   box_loss   cls_loss   dfl_loss  Instances       Size\n"
     ]
    },
    {
     "name": "stderr",
     "output_type": "stream",
     "text": [
      "     30/150      4.89G     0.9095     0.6365     0.9676        128        640: 100%|██████████| 2336/2336 [07:26<00:00,  5.23it/s]\n",
      "     30/150      4.89G     0.9095     0.6365     0.9676        128        640: 100%|██████████| 2336/2336 [07:26<00:00,  5.23it/s]\n",
      "                 Class     Images  Instances      Box(P          R      mAP50  mAP50-95): 100%|██████████| 207/207 [00:51<00:00,  4.00it/s]\n",
      "                 Class     Images  Instances      Box(P          R      mAP50  mAP50-95): 100%|██████████| 207/207 [00:51<00:00,  4.00it/s]\n"
     ]
    },
    {
     "name": "stdout",
     "output_type": "stream",
     "text": [
      "                   all      13190      48226      0.756      0.725      0.784      0.589\n",
      "\n",
      "      Epoch    GPU_mem   box_loss   cls_loss   dfl_loss  Instances       Size\n",
      "\n",
      "      Epoch    GPU_mem   box_loss   cls_loss   dfl_loss  Instances       Size\n"
     ]
    },
    {
     "name": "stderr",
     "output_type": "stream",
     "text": [
      "     31/150      4.77G     0.9098     0.6352     0.9667        134        640: 100%|██████████| 2336/2336 [07:27<00:00,  5.23it/s]\n",
      "     31/150      4.77G     0.9098     0.6352     0.9667        134        640: 100%|██████████| 2336/2336 [07:27<00:00,  5.23it/s]\n",
      "                 Class     Images  Instances      Box(P          R      mAP50  mAP50-95): 100%|██████████| 207/207 [00:51<00:00,  4.02it/s]\n",
      "                 Class     Images  Instances      Box(P          R      mAP50  mAP50-95): 100%|██████████| 207/207 [00:51<00:00,  4.02it/s]\n"
     ]
    },
    {
     "name": "stdout",
     "output_type": "stream",
     "text": [
      "                   all      13190      48226      0.758      0.724      0.785       0.59\n",
      "\n",
      "      Epoch    GPU_mem   box_loss   cls_loss   dfl_loss  Instances       Size\n",
      "\n",
      "      Epoch    GPU_mem   box_loss   cls_loss   dfl_loss  Instances       Size\n"
     ]
    },
    {
     "name": "stderr",
     "output_type": "stream",
     "text": [
      "     32/150      4.75G     0.9091     0.6357     0.9662        119        640: 100%|██████████| 2336/2336 [07:26<00:00,  5.23it/s]\n",
      "     32/150      4.75G     0.9091     0.6357     0.9662        119        640: 100%|██████████| 2336/2336 [07:26<00:00,  5.23it/s]\n",
      "                 Class     Images  Instances      Box(P          R      mAP50  mAP50-95): 100%|██████████| 207/207 [00:51<00:00,  4.02it/s]\n",
      "                 Class     Images  Instances      Box(P          R      mAP50  mAP50-95): 100%|██████████| 207/207 [00:51<00:00,  4.02it/s]\n"
     ]
    },
    {
     "name": "stdout",
     "output_type": "stream",
     "text": [
      "                   all      13190      48226      0.761      0.726      0.786      0.591\n",
      "\n",
      "      Epoch    GPU_mem   box_loss   cls_loss   dfl_loss  Instances       Size\n",
      "\n",
      "      Epoch    GPU_mem   box_loss   cls_loss   dfl_loss  Instances       Size\n"
     ]
    },
    {
     "name": "stderr",
     "output_type": "stream",
     "text": [
      "     33/150      4.73G     0.9078      0.631     0.9649        144        640: 100%|██████████| 2336/2336 [07:27<00:00,  5.22it/s]\n",
      "     33/150      4.73G     0.9078      0.631     0.9649        144        640: 100%|██████████| 2336/2336 [07:27<00:00,  5.22it/s]\n",
      "                 Class     Images  Instances      Box(P          R      mAP50  mAP50-95): 100%|██████████| 207/207 [00:51<00:00,  4.02it/s]\n",
      "                 Class     Images  Instances      Box(P          R      mAP50  mAP50-95): 100%|██████████| 207/207 [00:51<00:00,  4.02it/s]\n"
     ]
    },
    {
     "name": "stdout",
     "output_type": "stream",
     "text": [
      "                   all      13190      48226      0.758      0.729      0.787      0.592\n",
      "\n",
      "      Epoch    GPU_mem   box_loss   cls_loss   dfl_loss  Instances       Size\n",
      "\n",
      "      Epoch    GPU_mem   box_loss   cls_loss   dfl_loss  Instances       Size\n"
     ]
    },
    {
     "name": "stderr",
     "output_type": "stream",
     "text": [
      "     34/150      4.88G     0.9068     0.6303     0.9651        107        640: 100%|██████████| 2336/2336 [07:27<00:00,  5.22it/s]\n",
      "     34/150      4.88G     0.9068     0.6303     0.9651        107        640: 100%|██████████| 2336/2336 [07:27<00:00,  5.22it/s]\n",
      "                 Class     Images  Instances      Box(P          R      mAP50  mAP50-95): 100%|██████████| 207/207 [00:51<00:00,  3.99it/s]\n",
      "                 Class     Images  Instances      Box(P          R      mAP50  mAP50-95): 100%|██████████| 207/207 [00:51<00:00,  3.99it/s]\n"
     ]
    },
    {
     "name": "stdout",
     "output_type": "stream",
     "text": [
      "                   all      13190      48226      0.758      0.731      0.788      0.593\n",
      "\n",
      "      Epoch    GPU_mem   box_loss   cls_loss   dfl_loss  Instances       Size\n",
      "\n",
      "      Epoch    GPU_mem   box_loss   cls_loss   dfl_loss  Instances       Size\n"
     ]
    },
    {
     "name": "stderr",
     "output_type": "stream",
     "text": [
      "     35/150      4.84G     0.9052      0.629     0.9642        110        640: 100%|██████████| 2336/2336 [07:30<00:00,  5.19it/s]\n",
      "     35/150      4.84G     0.9052      0.629     0.9642        110        640: 100%|██████████| 2336/2336 [07:30<00:00,  5.19it/s]\n",
      "                 Class     Images  Instances      Box(P          R      mAP50  mAP50-95): 100%|██████████| 207/207 [00:51<00:00,  4.01it/s]\n",
      "                 Class     Images  Instances      Box(P          R      mAP50  mAP50-95): 100%|██████████| 207/207 [00:51<00:00,  4.01it/s]\n"
     ]
    },
    {
     "name": "stdout",
     "output_type": "stream",
     "text": [
      "                   all      13190      48226      0.755      0.733      0.789      0.593\n",
      "\n",
      "      Epoch    GPU_mem   box_loss   cls_loss   dfl_loss  Instances       Size\n",
      "\n",
      "      Epoch    GPU_mem   box_loss   cls_loss   dfl_loss  Instances       Size\n"
     ]
    },
    {
     "name": "stderr",
     "output_type": "stream",
     "text": [
      "     36/150      4.85G     0.9058     0.6285     0.9651        114        640: 100%|██████████| 2336/2336 [07:29<00:00,  5.20it/s]\n",
      "     36/150      4.85G     0.9058     0.6285     0.9651        114        640: 100%|██████████| 2336/2336 [07:29<00:00,  5.20it/s]\n",
      "                 Class     Images  Instances      Box(P          R      mAP50  mAP50-95): 100%|██████████| 207/207 [00:51<00:00,  4.05it/s]\n",
      "                 Class     Images  Instances      Box(P          R      mAP50  mAP50-95): 100%|██████████| 207/207 [00:51<00:00,  4.05it/s]\n"
     ]
    },
    {
     "name": "stdout",
     "output_type": "stream",
     "text": [
      "                   all      13190      48226      0.759      0.731      0.789      0.594\n",
      "\n",
      "      Epoch    GPU_mem   box_loss   cls_loss   dfl_loss  Instances       Size\n",
      "\n",
      "      Epoch    GPU_mem   box_loss   cls_loss   dfl_loss  Instances       Size\n"
     ]
    },
    {
     "name": "stderr",
     "output_type": "stream",
     "text": [
      "     37/150       4.9G     0.9041     0.6264     0.9634        107        640: 100%|██████████| 2336/2336 [07:28<00:00,  5.20it/s]\n",
      "     37/150       4.9G     0.9041     0.6264     0.9634        107        640: 100%|██████████| 2336/2336 [07:28<00:00,  5.20it/s]\n",
      "                 Class     Images  Instances      Box(P          R      mAP50  mAP50-95): 100%|██████████| 207/207 [00:51<00:00,  4.00it/s]\n",
      "                 Class     Images  Instances      Box(P          R      mAP50  mAP50-95): 100%|██████████| 207/207 [00:51<00:00,  4.00it/s]\n"
     ]
    },
    {
     "name": "stdout",
     "output_type": "stream",
     "text": [
      "                   all      13190      48226      0.763      0.728      0.791      0.595\n",
      "\n",
      "      Epoch    GPU_mem   box_loss   cls_loss   dfl_loss  Instances       Size\n",
      "\n",
      "      Epoch    GPU_mem   box_loss   cls_loss   dfl_loss  Instances       Size\n"
     ]
    },
    {
     "name": "stderr",
     "output_type": "stream",
     "text": [
      "     38/150      4.93G     0.9043     0.6252     0.9644        134        640: 100%|██████████| 2336/2336 [07:30<00:00,  5.19it/s]\n",
      "     38/150      4.93G     0.9043     0.6252     0.9644        134        640: 100%|██████████| 2336/2336 [07:30<00:00,  5.19it/s]\n",
      "                 Class     Images  Instances      Box(P          R      mAP50  mAP50-95): 100%|██████████| 207/207 [00:51<00:00,  3.99it/s]\n",
      "                 Class     Images  Instances      Box(P          R      mAP50  mAP50-95): 100%|██████████| 207/207 [00:51<00:00,  3.99it/s]\n"
     ]
    },
    {
     "name": "stdout",
     "output_type": "stream",
     "text": [
      "                   all      13190      48226      0.767      0.726      0.792      0.596\n",
      "\n",
      "      Epoch    GPU_mem   box_loss   cls_loss   dfl_loss  Instances       Size\n",
      "\n",
      "      Epoch    GPU_mem   box_loss   cls_loss   dfl_loss  Instances       Size\n"
     ]
    },
    {
     "name": "stderr",
     "output_type": "stream",
     "text": [
      "     39/150      4.77G      0.902      0.623     0.9623        121        640: 100%|██████████| 2336/2336 [07:27<00:00,  5.22it/s]\n",
      "     39/150      4.77G      0.902      0.623     0.9623        121        640: 100%|██████████| 2336/2336 [07:27<00:00,  5.22it/s]\n",
      "                 Class     Images  Instances      Box(P          R      mAP50  mAP50-95): 100%|██████████| 207/207 [00:52<00:00,  3.98it/s]\n",
      "                 Class     Images  Instances      Box(P          R      mAP50  mAP50-95): 100%|██████████| 207/207 [00:52<00:00,  3.98it/s]\n"
     ]
    },
    {
     "name": "stdout",
     "output_type": "stream",
     "text": [
      "                   all      13190      48226      0.766      0.727      0.792      0.597\n",
      "\n",
      "      Epoch    GPU_mem   box_loss   cls_loss   dfl_loss  Instances       Size\n",
      "\n",
      "      Epoch    GPU_mem   box_loss   cls_loss   dfl_loss  Instances       Size\n"
     ]
    },
    {
     "name": "stderr",
     "output_type": "stream",
     "text": [
      "     40/150      4.94G        0.9     0.6236     0.9615        146        640: 100%|██████████| 2336/2336 [07:27<00:00,  5.22it/s]\n",
      "     40/150      4.94G        0.9     0.6236     0.9615        146        640: 100%|██████████| 2336/2336 [07:27<00:00,  5.22it/s]\n",
      "                 Class     Images  Instances      Box(P          R      mAP50  mAP50-95): 100%|██████████| 207/207 [00:51<00:00,  4.03it/s]\n",
      "                 Class     Images  Instances      Box(P          R      mAP50  mAP50-95): 100%|██████████| 207/207 [00:51<00:00,  4.03it/s]\n"
     ]
    },
    {
     "name": "stdout",
     "output_type": "stream",
     "text": [
      "                   all      13190      48226      0.764      0.729      0.793      0.598\n",
      "\n",
      "      Epoch    GPU_mem   box_loss   cls_loss   dfl_loss  Instances       Size\n",
      "\n",
      "      Epoch    GPU_mem   box_loss   cls_loss   dfl_loss  Instances       Size\n"
     ]
    },
    {
     "name": "stderr",
     "output_type": "stream",
     "text": [
      "     41/150      4.77G     0.9029     0.6227     0.9628        142        640: 100%|██████████| 2336/2336 [07:27<00:00,  5.22it/s]\n",
      "     41/150      4.77G     0.9029     0.6227     0.9628        142        640: 100%|██████████| 2336/2336 [07:27<00:00,  5.22it/s]\n",
      "                 Class     Images  Instances      Box(P          R      mAP50  mAP50-95): 100%|██████████| 207/207 [00:50<00:00,  4.07it/s]\n",
      "                 Class     Images  Instances      Box(P          R      mAP50  mAP50-95): 100%|██████████| 207/207 [00:50<00:00,  4.07it/s]\n"
     ]
    },
    {
     "name": "stdout",
     "output_type": "stream",
     "text": [
      "                   all      13190      48226      0.766       0.73      0.793      0.598\n",
      "\n",
      "      Epoch    GPU_mem   box_loss   cls_loss   dfl_loss  Instances       Size\n",
      "\n",
      "      Epoch    GPU_mem   box_loss   cls_loss   dfl_loss  Instances       Size\n"
     ]
    },
    {
     "name": "stderr",
     "output_type": "stream",
     "text": [
      "     42/150      4.96G     0.9022     0.6218     0.9617        155        640: 100%|██████████| 2336/2336 [07:27<00:00,  5.22it/s]\n",
      "     42/150      4.96G     0.9022     0.6218     0.9617        155        640: 100%|██████████| 2336/2336 [07:27<00:00,  5.22it/s]\n",
      "                 Class     Images  Instances      Box(P          R      mAP50  mAP50-95): 100%|██████████| 207/207 [00:51<00:00,  4.05it/s]\n",
      "                 Class     Images  Instances      Box(P          R      mAP50  mAP50-95): 100%|██████████| 207/207 [00:51<00:00,  4.05it/s]\n"
     ]
    },
    {
     "name": "stdout",
     "output_type": "stream",
     "text": [
      "                   all      13190      48226      0.768      0.729      0.794      0.599\n",
      "\n",
      "      Epoch    GPU_mem   box_loss   cls_loss   dfl_loss  Instances       Size\n",
      "\n",
      "      Epoch    GPU_mem   box_loss   cls_loss   dfl_loss  Instances       Size\n"
     ]
    },
    {
     "name": "stderr",
     "output_type": "stream",
     "text": [
      "     43/150      4.88G     0.8978     0.6164     0.9618        125        640: 100%|██████████| 2336/2336 [07:26<00:00,  5.23it/s]\n",
      "     43/150      4.88G     0.8978     0.6164     0.9618        125        640: 100%|██████████| 2336/2336 [07:26<00:00,  5.23it/s]\n",
      "                 Class     Images  Instances      Box(P          R      mAP50  mAP50-95): 100%|██████████| 207/207 [00:51<00:00,  4.00it/s]\n",
      "                 Class     Images  Instances      Box(P          R      mAP50  mAP50-95): 100%|██████████| 207/207 [00:51<00:00,  4.00it/s]\n"
     ]
    },
    {
     "name": "stdout",
     "output_type": "stream",
     "text": [
      "                   all      13190      48226       0.78       0.72      0.795        0.6\n",
      "\n",
      "      Epoch    GPU_mem   box_loss   cls_loss   dfl_loss  Instances       Size\n",
      "\n",
      "      Epoch    GPU_mem   box_loss   cls_loss   dfl_loss  Instances       Size\n"
     ]
    },
    {
     "name": "stderr",
     "output_type": "stream",
     "text": [
      "     44/150      5.13G     0.8979     0.6184     0.9617        115        640: 100%|██████████| 2336/2336 [07:33<00:00,  5.15it/s]\n",
      "     44/150      5.13G     0.8979     0.6184     0.9617        115        640: 100%|██████████| 2336/2336 [07:33<00:00,  5.15it/s]\n",
      "                 Class     Images  Instances      Box(P          R      mAP50  mAP50-95): 100%|██████████| 207/207 [00:52<00:00,  3.97it/s]\n",
      "                 Class     Images  Instances      Box(P          R      mAP50  mAP50-95): 100%|██████████| 207/207 [00:52<00:00,  3.97it/s]\n"
     ]
    },
    {
     "name": "stdout",
     "output_type": "stream",
     "text": [
      "                   all      13190      48226      0.772      0.724      0.796        0.6\n",
      "\n",
      "      Epoch    GPU_mem   box_loss   cls_loss   dfl_loss  Instances       Size\n",
      "\n",
      "      Epoch    GPU_mem   box_loss   cls_loss   dfl_loss  Instances       Size\n"
     ]
    },
    {
     "name": "stderr",
     "output_type": "stream",
     "text": [
      "     45/150      4.84G      0.897     0.6173     0.9614        159        640: 100%|██████████| 2336/2336 [07:27<00:00,  5.22it/s]\n",
      "     45/150      4.84G      0.897     0.6173     0.9614        159        640: 100%|██████████| 2336/2336 [07:27<00:00,  5.22it/s]\n",
      "                 Class     Images  Instances      Box(P          R      mAP50  mAP50-95): 100%|██████████| 207/207 [00:50<00:00,  4.07it/s]\n",
      "                 Class     Images  Instances      Box(P          R      mAP50  mAP50-95): 100%|██████████| 207/207 [00:50<00:00,  4.07it/s]\n"
     ]
    },
    {
     "name": "stdout",
     "output_type": "stream",
     "text": [
      "                   all      13190      48226      0.772      0.727      0.797      0.601\n",
      "\n",
      "      Epoch    GPU_mem   box_loss   cls_loss   dfl_loss  Instances       Size\n",
      "\n",
      "      Epoch    GPU_mem   box_loss   cls_loss   dfl_loss  Instances       Size\n"
     ]
    },
    {
     "name": "stderr",
     "output_type": "stream",
     "text": [
      "     46/150      4.83G     0.8985     0.6162     0.9626        145        640: 100%|██████████| 2336/2336 [07:27<00:00,  5.22it/s]\n",
      "     46/150      4.83G     0.8985     0.6162     0.9626        145        640: 100%|██████████| 2336/2336 [07:27<00:00,  5.22it/s]\n",
      "                 Class     Images  Instances      Box(P          R      mAP50  mAP50-95): 100%|██████████| 207/207 [00:51<00:00,  4.02it/s]\n",
      "                 Class     Images  Instances      Box(P          R      mAP50  mAP50-95): 100%|██████████| 207/207 [00:51<00:00,  4.02it/s]\n"
     ]
    },
    {
     "name": "stdout",
     "output_type": "stream",
     "text": [
      "                   all      13190      48226      0.767      0.732      0.798      0.602\n",
      "\n",
      "      Epoch    GPU_mem   box_loss   cls_loss   dfl_loss  Instances       Size\n",
      "\n",
      "      Epoch    GPU_mem   box_loss   cls_loss   dfl_loss  Instances       Size\n"
     ]
    },
    {
     "name": "stderr",
     "output_type": "stream",
     "text": [
      "     47/150      5.16G     0.8977     0.6155     0.9602        131        640: 100%|██████████| 2336/2336 [07:34<00:00,  5.14it/s]\n",
      "     47/150      5.16G     0.8977     0.6155     0.9602        131        640: 100%|██████████| 2336/2336 [07:34<00:00,  5.14it/s]\n",
      "                 Class     Images  Instances      Box(P          R      mAP50  mAP50-95): 100%|██████████| 207/207 [00:52<00:00,  3.98it/s]\n",
      "                 Class     Images  Instances      Box(P          R      mAP50  mAP50-95): 100%|██████████| 207/207 [00:52<00:00,  3.98it/s]\n"
     ]
    },
    {
     "name": "stdout",
     "output_type": "stream",
     "text": [
      "                   all      13190      48226       0.77      0.733      0.799      0.603\n",
      "\n",
      "      Epoch    GPU_mem   box_loss   cls_loss   dfl_loss  Instances       Size\n",
      "\n",
      "      Epoch    GPU_mem   box_loss   cls_loss   dfl_loss  Instances       Size\n"
     ]
    },
    {
     "name": "stderr",
     "output_type": "stream",
     "text": [
      "     48/150      4.89G     0.8951     0.6142     0.9604        164        640: 100%|██████████| 2336/2336 [07:25<00:00,  5.24it/s]\n",
      "     48/150      4.89G     0.8951     0.6142     0.9604        164        640: 100%|██████████| 2336/2336 [07:25<00:00,  5.24it/s]\n",
      "                 Class     Images  Instances      Box(P          R      mAP50  mAP50-95): 100%|██████████| 207/207 [00:49<00:00,  4.18it/s]\n",
      "                 Class     Images  Instances      Box(P          R      mAP50  mAP50-95): 100%|██████████| 207/207 [00:49<00:00,  4.18it/s]\n"
     ]
    },
    {
     "name": "stdout",
     "output_type": "stream",
     "text": [
      "                   all      13190      48226      0.765      0.739        0.8      0.603\n",
      "\n",
      "      Epoch    GPU_mem   box_loss   cls_loss   dfl_loss  Instances       Size\n",
      "\n",
      "      Epoch    GPU_mem   box_loss   cls_loss   dfl_loss  Instances       Size\n"
     ]
    },
    {
     "name": "stderr",
     "output_type": "stream",
     "text": [
      "     49/150      5.01G     0.8936     0.6116     0.9607        130        640: 100%|██████████| 2336/2336 [07:30<00:00,  5.19it/s]\n",
      "     49/150      5.01G     0.8936     0.6116     0.9607        130        640: 100%|██████████| 2336/2336 [07:30<00:00,  5.19it/s]\n",
      "                 Class     Images  Instances      Box(P          R      mAP50  mAP50-95): 100%|██████████| 207/207 [00:52<00:00,  3.97it/s]\n",
      "                 Class     Images  Instances      Box(P          R      mAP50  mAP50-95): 100%|██████████| 207/207 [00:52<00:00,  3.97it/s]\n"
     ]
    },
    {
     "name": "stdout",
     "output_type": "stream",
     "text": [
      "                   all      13190      48226      0.769      0.737      0.801      0.604\n",
      "\n",
      "      Epoch    GPU_mem   box_loss   cls_loss   dfl_loss  Instances       Size\n",
      "\n",
      "      Epoch    GPU_mem   box_loss   cls_loss   dfl_loss  Instances       Size\n"
     ]
    },
    {
     "name": "stderr",
     "output_type": "stream",
     "text": [
      "     50/150      4.92G     0.8955     0.6128     0.9601        112        640: 100%|██████████| 2336/2336 [07:47<00:00,  5.00it/s]\n",
      "     50/150      4.92G     0.8955     0.6128     0.9601        112        640: 100%|██████████| 2336/2336 [07:47<00:00,  5.00it/s]\n",
      "                 Class     Images  Instances      Box(P          R      mAP50  mAP50-95): 100%|██████████| 207/207 [00:53<00:00,  3.88it/s]\n",
      "                 Class     Images  Instances      Box(P          R      mAP50  mAP50-95): 100%|██████████| 207/207 [00:53<00:00,  3.88it/s]\n"
     ]
    },
    {
     "name": "stdout",
     "output_type": "stream",
     "text": [
      "                   all      13190      48226      0.769      0.736      0.802      0.605\n",
      "\n",
      "      Epoch    GPU_mem   box_loss   cls_loss   dfl_loss  Instances       Size\n",
      "\n",
      "      Epoch    GPU_mem   box_loss   cls_loss   dfl_loss  Instances       Size\n"
     ]
    },
    {
     "name": "stderr",
     "output_type": "stream",
     "text": [
      "     51/150      5.27G     0.8932       0.61     0.9592        119        640: 100%|██████████| 2336/2336 [08:08<00:00,  4.79it/s]\n",
      "     51/150      5.27G     0.8932       0.61     0.9592        119        640: 100%|██████████| 2336/2336 [08:08<00:00,  4.79it/s]\n",
      "                 Class     Images  Instances      Box(P          R      mAP50  mAP50-95): 100%|██████████| 207/207 [00:54<00:00,  3.82it/s]\n",
      "                 Class     Images  Instances      Box(P          R      mAP50  mAP50-95): 100%|██████████| 207/207 [00:54<00:00,  3.82it/s]\n"
     ]
    },
    {
     "name": "stdout",
     "output_type": "stream",
     "text": [
      "                   all      13190      48226      0.773      0.737      0.803      0.606\n",
      "\n",
      "      Epoch    GPU_mem   box_loss   cls_loss   dfl_loss  Instances       Size\n",
      "\n",
      "      Epoch    GPU_mem   box_loss   cls_loss   dfl_loss  Instances       Size\n"
     ]
    },
    {
     "name": "stderr",
     "output_type": "stream",
     "text": [
      "     52/150       5.1G     0.8921     0.6082     0.9586        121        640: 100%|██████████| 2336/2336 [07:47<00:00,  5.00it/s]\n",
      "     52/150       5.1G     0.8921     0.6082     0.9586        121        640: 100%|██████████| 2336/2336 [07:47<00:00,  5.00it/s]\n",
      "                 Class     Images  Instances      Box(P          R      mAP50  mAP50-95): 100%|██████████| 207/207 [00:50<00:00,  4.10it/s]\n",
      "                 Class     Images  Instances      Box(P          R      mAP50  mAP50-95): 100%|██████████| 207/207 [00:50<00:00,  4.10it/s]\n"
     ]
    },
    {
     "name": "stdout",
     "output_type": "stream",
     "text": [
      "                   all      13190      48226      0.763      0.746      0.803      0.606\n",
      "\n",
      "      Epoch    GPU_mem   box_loss   cls_loss   dfl_loss  Instances       Size\n",
      "\n",
      "      Epoch    GPU_mem   box_loss   cls_loss   dfl_loss  Instances       Size\n"
     ]
    },
    {
     "name": "stderr",
     "output_type": "stream",
     "text": [
      "     53/150      5.01G     0.8898     0.6084     0.9585        116        640: 100%|██████████| 2336/2336 [07:38<00:00,  5.09it/s]\n",
      "     53/150      5.01G     0.8898     0.6084     0.9585        116        640: 100%|██████████| 2336/2336 [07:38<00:00,  5.09it/s]\n",
      "                 Class     Images  Instances      Box(P          R      mAP50  mAP50-95): 100%|██████████| 207/207 [00:52<00:00,  3.96it/s]\n",
      "                 Class     Images  Instances      Box(P          R      mAP50  mAP50-95): 100%|██████████| 207/207 [00:52<00:00,  3.96it/s]\n"
     ]
    },
    {
     "name": "stdout",
     "output_type": "stream",
     "text": [
      "                   all      13190      48226       0.76      0.749      0.804      0.608\n",
      "\n",
      "      Epoch    GPU_mem   box_loss   cls_loss   dfl_loss  Instances       Size\n",
      "\n",
      "      Epoch    GPU_mem   box_loss   cls_loss   dfl_loss  Instances       Size\n"
     ]
    },
    {
     "name": "stderr",
     "output_type": "stream",
     "text": [
      "     54/150      4.76G     0.8911      0.606     0.9584        111        640: 100%|██████████| 2336/2336 [07:42<00:00,  5.05it/s]\n",
      "     54/150      4.76G     0.8911      0.606     0.9584        111        640: 100%|██████████| 2336/2336 [07:42<00:00,  5.05it/s]\n",
      "                 Class     Images  Instances      Box(P          R      mAP50  mAP50-95): 100%|██████████| 207/207 [00:49<00:00,  4.15it/s]\n",
      "                 Class     Images  Instances      Box(P          R      mAP50  mAP50-95): 100%|██████████| 207/207 [00:49<00:00,  4.15it/s]\n"
     ]
    },
    {
     "name": "stdout",
     "output_type": "stream",
     "text": [
      "                   all      13190      48226      0.758       0.75      0.805      0.607\n",
      "\n",
      "      Epoch    GPU_mem   box_loss   cls_loss   dfl_loss  Instances       Size\n",
      "\n",
      "      Epoch    GPU_mem   box_loss   cls_loss   dfl_loss  Instances       Size\n"
     ]
    },
    {
     "name": "stderr",
     "output_type": "stream",
     "text": [
      "     55/150      4.79G     0.8863     0.6032     0.9563        162        640: 100%|██████████| 2336/2336 [07:21<00:00,  5.29it/s]\n",
      "     55/150      4.79G     0.8863     0.6032     0.9563        162        640: 100%|██████████| 2336/2336 [07:21<00:00,  5.29it/s]\n",
      "                 Class     Images  Instances      Box(P          R      mAP50  mAP50-95): 100%|██████████| 207/207 [00:50<00:00,  4.12it/s]\n",
      "                 Class     Images  Instances      Box(P          R      mAP50  mAP50-95): 100%|██████████| 207/207 [00:50<00:00,  4.12it/s]\n"
     ]
    },
    {
     "name": "stdout",
     "output_type": "stream",
     "text": [
      "                   all      13190      48226      0.758      0.753      0.804      0.608\n",
      "\n",
      "      Epoch    GPU_mem   box_loss   cls_loss   dfl_loss  Instances       Size\n",
      "\n",
      "      Epoch    GPU_mem   box_loss   cls_loss   dfl_loss  Instances       Size\n"
     ]
    },
    {
     "name": "stderr",
     "output_type": "stream",
     "text": [
      "     56/150      4.77G     0.8878     0.6036     0.9559         84        640: 100%|██████████| 2336/2336 [07:21<00:00,  5.29it/s]\n",
      "     56/150      4.77G     0.8878     0.6036     0.9559         84        640: 100%|██████████| 2336/2336 [07:21<00:00,  5.29it/s]\n",
      "                 Class     Images  Instances      Box(P          R      mAP50  mAP50-95): 100%|██████████| 207/207 [00:50<00:00,  4.12it/s]\n",
      "                 Class     Images  Instances      Box(P          R      mAP50  mAP50-95): 100%|██████████| 207/207 [00:50<00:00,  4.12it/s]\n"
     ]
    },
    {
     "name": "stdout",
     "output_type": "stream",
     "text": [
      "                   all      13190      48226      0.758      0.751      0.805      0.608\n",
      "\n",
      "      Epoch    GPU_mem   box_loss   cls_loss   dfl_loss  Instances       Size\n",
      "\n",
      "      Epoch    GPU_mem   box_loss   cls_loss   dfl_loss  Instances       Size\n"
     ]
    },
    {
     "name": "stderr",
     "output_type": "stream",
     "text": [
      "     57/150      4.77G     0.8859     0.5995     0.9572        104        640: 100%|██████████| 2336/2336 [07:18<00:00,  5.32it/s]\n",
      "     57/150      4.77G     0.8859     0.5995     0.9572        104        640: 100%|██████████| 2336/2336 [07:18<00:00,  5.32it/s]\n",
      "                 Class     Images  Instances      Box(P          R      mAP50  mAP50-95): 100%|██████████| 207/207 [00:50<00:00,  4.09it/s]\n",
      "                 Class     Images  Instances      Box(P          R      mAP50  mAP50-95): 100%|██████████| 207/207 [00:50<00:00,  4.09it/s]\n"
     ]
    },
    {
     "name": "stdout",
     "output_type": "stream",
     "text": [
      "                   all      13190      48226      0.759      0.753      0.805      0.609\n",
      "\n",
      "      Epoch    GPU_mem   box_loss   cls_loss   dfl_loss  Instances       Size\n",
      "\n",
      "      Epoch    GPU_mem   box_loss   cls_loss   dfl_loss  Instances       Size\n"
     ]
    },
    {
     "name": "stderr",
     "output_type": "stream",
     "text": [
      "     58/150      4.84G     0.8862      0.599     0.9562        102        640: 100%|██████████| 2336/2336 [07:19<00:00,  5.31it/s]\n",
      "     58/150      4.84G     0.8862      0.599     0.9562        102        640: 100%|██████████| 2336/2336 [07:19<00:00,  5.31it/s]\n",
      "                 Class     Images  Instances      Box(P          R      mAP50  mAP50-95): 100%|██████████| 207/207 [00:50<00:00,  4.14it/s]\n",
      "                 Class     Images  Instances      Box(P          R      mAP50  mAP50-95): 100%|██████████| 207/207 [00:50<00:00,  4.14it/s]\n"
     ]
    },
    {
     "name": "stdout",
     "output_type": "stream",
     "text": [
      "                   all      13190      48226      0.762       0.75      0.806       0.61\n",
      "\n",
      "      Epoch    GPU_mem   box_loss   cls_loss   dfl_loss  Instances       Size\n",
      "\n",
      "      Epoch    GPU_mem   box_loss   cls_loss   dfl_loss  Instances       Size\n"
     ]
    },
    {
     "name": "stderr",
     "output_type": "stream",
     "text": [
      "     59/150      5.09G     0.8864     0.5982     0.9552        109        640: 100%|██████████| 2336/2336 [07:18<00:00,  5.32it/s]\n",
      "     59/150      5.09G     0.8864     0.5982     0.9552        109        640: 100%|██████████| 2336/2336 [07:18<00:00,  5.32it/s]\n",
      "                 Class     Images  Instances      Box(P          R      mAP50  mAP50-95): 100%|██████████| 207/207 [00:49<00:00,  4.14it/s]\n",
      "                 Class     Images  Instances      Box(P          R      mAP50  mAP50-95): 100%|██████████| 207/207 [00:49<00:00,  4.14it/s]\n"
     ]
    },
    {
     "name": "stdout",
     "output_type": "stream",
     "text": [
      "                   all      13190      48226       0.77      0.747      0.806       0.61\n",
      "\n",
      "      Epoch    GPU_mem   box_loss   cls_loss   dfl_loss  Instances       Size\n",
      "\n",
      "      Epoch    GPU_mem   box_loss   cls_loss   dfl_loss  Instances       Size\n"
     ]
    },
    {
     "name": "stderr",
     "output_type": "stream",
     "text": [
      "     60/150      4.78G     0.8826     0.5964     0.9537        118        640: 100%|██████████| 2336/2336 [07:19<00:00,  5.32it/s]\n",
      "     60/150      4.78G     0.8826     0.5964     0.9537        118        640: 100%|██████████| 2336/2336 [07:19<00:00,  5.32it/s]\n",
      "                 Class     Images  Instances      Box(P          R      mAP50  mAP50-95): 100%|██████████| 207/207 [00:50<00:00,  4.11it/s]\n",
      "                 Class     Images  Instances      Box(P          R      mAP50  mAP50-95): 100%|██████████| 207/207 [00:50<00:00,  4.11it/s]\n"
     ]
    },
    {
     "name": "stdout",
     "output_type": "stream",
     "text": [
      "                   all      13190      48226      0.774      0.745      0.807      0.611\n",
      "\n",
      "      Epoch    GPU_mem   box_loss   cls_loss   dfl_loss  Instances       Size\n",
      "\n",
      "      Epoch    GPU_mem   box_loss   cls_loss   dfl_loss  Instances       Size\n"
     ]
    },
    {
     "name": "stderr",
     "output_type": "stream",
     "text": [
      "     61/150      4.99G     0.8847     0.5977     0.9553        159        640: 100%|██████████| 2336/2336 [07:19<00:00,  5.32it/s]\n",
      "     61/150      4.99G     0.8847     0.5977     0.9553        159        640: 100%|██████████| 2336/2336 [07:19<00:00,  5.32it/s]\n",
      "                 Class     Images  Instances      Box(P          R      mAP50  mAP50-95): 100%|██████████| 207/207 [00:50<00:00,  4.12it/s]\n",
      "                 Class     Images  Instances      Box(P          R      mAP50  mAP50-95): 100%|██████████| 207/207 [00:50<00:00,  4.12it/s]\n"
     ]
    },
    {
     "name": "stdout",
     "output_type": "stream",
     "text": [
      "                   all      13190      48226      0.772      0.751      0.808      0.612\n",
      "\n",
      "      Epoch    GPU_mem   box_loss   cls_loss   dfl_loss  Instances       Size\n",
      "\n",
      "      Epoch    GPU_mem   box_loss   cls_loss   dfl_loss  Instances       Size\n"
     ]
    },
    {
     "name": "stderr",
     "output_type": "stream",
     "text": [
      "     62/150      4.77G     0.8797     0.5946     0.9542        179        640: 100%|██████████| 2336/2336 [07:19<00:00,  5.32it/s]\n",
      "     62/150      4.77G     0.8797     0.5946     0.9542        179        640: 100%|██████████| 2336/2336 [07:19<00:00,  5.32it/s]\n",
      "                 Class     Images  Instances      Box(P          R      mAP50  mAP50-95): 100%|██████████| 207/207 [00:51<00:00,  3.98it/s]\n",
      "                 Class     Images  Instances      Box(P          R      mAP50  mAP50-95): 100%|██████████| 207/207 [00:51<00:00,  3.98it/s]\n"
     ]
    },
    {
     "name": "stdout",
     "output_type": "stream",
     "text": [
      "                   all      13190      48226      0.774       0.75      0.809      0.612\n",
      "\n",
      "      Epoch    GPU_mem   box_loss   cls_loss   dfl_loss  Instances       Size\n",
      "\n",
      "      Epoch    GPU_mem   box_loss   cls_loss   dfl_loss  Instances       Size\n"
     ]
    },
    {
     "name": "stderr",
     "output_type": "stream",
     "text": [
      "     63/150      4.83G     0.8811     0.5931     0.9528        111        640: 100%|██████████| 2336/2336 [07:19<00:00,  5.31it/s]\n",
      "     63/150      4.83G     0.8811     0.5931     0.9528        111        640: 100%|██████████| 2336/2336 [07:19<00:00,  5.31it/s]\n",
      "                 Class     Images  Instances      Box(P          R      mAP50  mAP50-95): 100%|██████████| 207/207 [00:51<00:00,  4.00it/s]\n",
      "                 Class     Images  Instances      Box(P          R      mAP50  mAP50-95): 100%|██████████| 207/207 [00:51<00:00,  4.00it/s]\n"
     ]
    },
    {
     "name": "stdout",
     "output_type": "stream",
     "text": [
      "                   all      13190      48226      0.773       0.75      0.809      0.612\n",
      "\n",
      "      Epoch    GPU_mem   box_loss   cls_loss   dfl_loss  Instances       Size\n",
      "\n",
      "      Epoch    GPU_mem   box_loss   cls_loss   dfl_loss  Instances       Size\n"
     ]
    },
    {
     "name": "stderr",
     "output_type": "stream",
     "text": [
      "     64/150      4.93G     0.8796     0.5914     0.9538        117        640: 100%|██████████| 2336/2336 [07:28<00:00,  5.21it/s]\n",
      "     64/150      4.93G     0.8796     0.5914     0.9538        117        640: 100%|██████████| 2336/2336 [07:28<00:00,  5.21it/s]\n",
      "                 Class     Images  Instances      Box(P          R      mAP50  mAP50-95): 100%|██████████| 207/207 [00:51<00:00,  4.01it/s]\n",
      "                 Class     Images  Instances      Box(P          R      mAP50  mAP50-95): 100%|██████████| 207/207 [00:51<00:00,  4.01it/s]\n"
     ]
    },
    {
     "name": "stdout",
     "output_type": "stream",
     "text": [
      "                   all      13190      48226      0.781      0.744       0.81      0.613\n",
      "\n",
      "      Epoch    GPU_mem   box_loss   cls_loss   dfl_loss  Instances       Size\n",
      "\n",
      "      Epoch    GPU_mem   box_loss   cls_loss   dfl_loss  Instances       Size\n"
     ]
    },
    {
     "name": "stderr",
     "output_type": "stream",
     "text": [
      "     65/150      4.92G     0.8812     0.5919     0.9534        156        640: 100%|██████████| 2336/2336 [07:19<00:00,  5.31it/s]\n",
      "     65/150      4.92G     0.8812     0.5919     0.9534        156        640: 100%|██████████| 2336/2336 [07:19<00:00,  5.31it/s]\n",
      "                 Class     Images  Instances      Box(P          R      mAP50  mAP50-95): 100%|██████████| 207/207 [00:47<00:00,  4.37it/s]\n",
      "                 Class     Images  Instances      Box(P          R      mAP50  mAP50-95): 100%|██████████| 207/207 [00:47<00:00,  4.37it/s]\n"
     ]
    },
    {
     "name": "stdout",
     "output_type": "stream",
     "text": [
      "                   all      13190      48226      0.781      0.745       0.81      0.613\n",
      "\n",
      "      Epoch    GPU_mem   box_loss   cls_loss   dfl_loss  Instances       Size\n",
      "\n",
      "      Epoch    GPU_mem   box_loss   cls_loss   dfl_loss  Instances       Size\n"
     ]
    },
    {
     "name": "stderr",
     "output_type": "stream",
     "text": [
      "     66/150      5.01G     0.8793       0.59     0.9525        118        640: 100%|██████████| 2336/2336 [07:25<00:00,  5.25it/s]\n",
      "     66/150      5.01G     0.8793       0.59     0.9525        118        640: 100%|██████████| 2336/2336 [07:25<00:00,  5.25it/s]\n",
      "                 Class     Images  Instances      Box(P          R      mAP50  mAP50-95): 100%|██████████| 207/207 [00:52<00:00,  3.94it/s]\n",
      "                 Class     Images  Instances      Box(P          R      mAP50  mAP50-95): 100%|██████████| 207/207 [00:52<00:00,  3.94it/s]\n"
     ]
    },
    {
     "name": "stdout",
     "output_type": "stream",
     "text": [
      "                   all      13190      48226      0.788      0.739      0.809      0.613\n",
      "\n",
      "      Epoch    GPU_mem   box_loss   cls_loss   dfl_loss  Instances       Size\n",
      "\n",
      "      Epoch    GPU_mem   box_loss   cls_loss   dfl_loss  Instances       Size\n"
     ]
    },
    {
     "name": "stderr",
     "output_type": "stream",
     "text": [
      "     67/150      4.94G     0.8782     0.5874     0.9519        122        640: 100%|██████████| 2336/2336 [07:29<00:00,  5.20it/s]\n",
      "     67/150      4.94G     0.8782     0.5874     0.9519        122        640: 100%|██████████| 2336/2336 [07:29<00:00,  5.20it/s]\n",
      "                 Class     Images  Instances      Box(P          R      mAP50  mAP50-95): 100%|██████████| 207/207 [00:50<00:00,  4.07it/s]\n",
      "                 Class     Images  Instances      Box(P          R      mAP50  mAP50-95): 100%|██████████| 207/207 [00:50<00:00,  4.07it/s]\n"
     ]
    },
    {
     "name": "stdout",
     "output_type": "stream",
     "text": [
      "                   all      13190      48226      0.785      0.742      0.809      0.614\n",
      "\n",
      "      Epoch    GPU_mem   box_loss   cls_loss   dfl_loss  Instances       Size\n",
      "\n",
      "      Epoch    GPU_mem   box_loss   cls_loss   dfl_loss  Instances       Size\n"
     ]
    },
    {
     "name": "stderr",
     "output_type": "stream",
     "text": [
      "     68/150      5.06G     0.8774     0.5846     0.9524        118        640: 100%|██████████| 2336/2336 [07:26<00:00,  5.23it/s]\n",
      "     68/150      5.06G     0.8774     0.5846     0.9524        118        640: 100%|██████████| 2336/2336 [07:26<00:00,  5.23it/s]\n",
      "                 Class     Images  Instances      Box(P          R      mAP50  mAP50-95): 100%|██████████| 207/207 [00:51<00:00,  4.02it/s]\n",
      "                 Class     Images  Instances      Box(P          R      mAP50  mAP50-95): 100%|██████████| 207/207 [00:51<00:00,  4.02it/s]\n"
     ]
    },
    {
     "name": "stdout",
     "output_type": "stream",
     "text": [
      "                   all      13190      48226      0.787      0.741      0.809      0.614\n",
      "\n",
      "      Epoch    GPU_mem   box_loss   cls_loss   dfl_loss  Instances       Size\n",
      "\n",
      "      Epoch    GPU_mem   box_loss   cls_loss   dfl_loss  Instances       Size\n"
     ]
    },
    {
     "name": "stderr",
     "output_type": "stream",
     "text": [
      "     69/150      4.78G     0.8763     0.5865     0.9523        118        640: 100%|██████████| 2336/2336 [07:27<00:00,  5.23it/s]\n",
      "     69/150      4.78G     0.8763     0.5865     0.9523        118        640: 100%|██████████| 2336/2336 [07:27<00:00,  5.23it/s]\n",
      "                 Class     Images  Instances      Box(P          R      mAP50  mAP50-95): 100%|██████████| 207/207 [00:51<00:00,  4.02it/s]\n",
      "                 Class     Images  Instances      Box(P          R      mAP50  mAP50-95): 100%|██████████| 207/207 [00:51<00:00,  4.02it/s]\n"
     ]
    },
    {
     "name": "stdout",
     "output_type": "stream",
     "text": [
      "                   all      13190      48226      0.783      0.744       0.81      0.615\n",
      "\n",
      "      Epoch    GPU_mem   box_loss   cls_loss   dfl_loss  Instances       Size\n",
      "\n",
      "      Epoch    GPU_mem   box_loss   cls_loss   dfl_loss  Instances       Size\n"
     ]
    },
    {
     "name": "stderr",
     "output_type": "stream",
     "text": [
      "     70/150         5G     0.8746      0.582     0.9516        135        640: 100%|██████████| 2336/2336 [07:27<00:00,  5.22it/s]\n",
      "     70/150         5G     0.8746      0.582     0.9516        135        640: 100%|██████████| 2336/2336 [07:27<00:00,  5.22it/s]\n",
      "                 Class     Images  Instances      Box(P          R      mAP50  mAP50-95): 100%|██████████| 207/207 [00:51<00:00,  4.04it/s]\n",
      "                 Class     Images  Instances      Box(P          R      mAP50  mAP50-95): 100%|██████████| 207/207 [00:51<00:00,  4.04it/s]\n"
     ]
    },
    {
     "name": "stdout",
     "output_type": "stream",
     "text": [
      "                   all      13190      48226      0.787      0.744       0.81      0.615\n",
      "\n",
      "      Epoch    GPU_mem   box_loss   cls_loss   dfl_loss  Instances       Size\n",
      "\n",
      "      Epoch    GPU_mem   box_loss   cls_loss   dfl_loss  Instances       Size\n"
     ]
    },
    {
     "name": "stderr",
     "output_type": "stream",
     "text": [
      "     71/150      4.85G     0.8725     0.5808       0.95        109        640: 100%|██████████| 2336/2336 [07:27<00:00,  5.22it/s]\n",
      "     71/150      4.85G     0.8725     0.5808       0.95        109        640: 100%|██████████| 2336/2336 [07:27<00:00,  5.22it/s]\n",
      "                 Class     Images  Instances      Box(P          R      mAP50  mAP50-95): 100%|██████████| 207/207 [00:51<00:00,  4.06it/s]\n",
      "                 Class     Images  Instances      Box(P          R      mAP50  mAP50-95): 100%|██████████| 207/207 [00:51<00:00,  4.06it/s]\n"
     ]
    },
    {
     "name": "stdout",
     "output_type": "stream",
     "text": [
      "                   all      13190      48226      0.782      0.746      0.811      0.616\n",
      "\n",
      "      Epoch    GPU_mem   box_loss   cls_loss   dfl_loss  Instances       Size\n",
      "\n",
      "      Epoch    GPU_mem   box_loss   cls_loss   dfl_loss  Instances       Size\n"
     ]
    },
    {
     "name": "stderr",
     "output_type": "stream",
     "text": [
      "     72/150      4.78G     0.8718     0.5788     0.9513        163        640: 100%|██████████| 2336/2336 [07:27<00:00,  5.22it/s]\n",
      "     72/150      4.78G     0.8718     0.5788     0.9513        163        640: 100%|██████████| 2336/2336 [07:27<00:00,  5.22it/s]\n",
      "                 Class     Images  Instances      Box(P          R      mAP50  mAP50-95): 100%|██████████| 207/207 [00:51<00:00,  4.04it/s]\n",
      "                 Class     Images  Instances      Box(P          R      mAP50  mAP50-95): 100%|██████████| 207/207 [00:51<00:00,  4.04it/s]\n"
     ]
    },
    {
     "name": "stdout",
     "output_type": "stream",
     "text": [
      "                   all      13190      48226      0.775       0.75      0.811      0.617\n",
      "\n",
      "      Epoch    GPU_mem   box_loss   cls_loss   dfl_loss  Instances       Size\n",
      "\n",
      "      Epoch    GPU_mem   box_loss   cls_loss   dfl_loss  Instances       Size\n"
     ]
    },
    {
     "name": "stderr",
     "output_type": "stream",
     "text": [
      "     73/150      5.03G     0.8715     0.5789     0.9494        128        640: 100%|██████████| 2336/2336 [07:27<00:00,  5.22it/s]\n",
      "     73/150      5.03G     0.8715     0.5789     0.9494        128        640: 100%|██████████| 2336/2336 [07:27<00:00,  5.22it/s]\n",
      "                 Class     Images  Instances      Box(P          R      mAP50  mAP50-95): 100%|██████████| 207/207 [00:51<00:00,  4.05it/s]\n",
      "                 Class     Images  Instances      Box(P          R      mAP50  mAP50-95): 100%|██████████| 207/207 [00:51<00:00,  4.05it/s]\n"
     ]
    },
    {
     "name": "stdout",
     "output_type": "stream",
     "text": [
      "                   all      13190      48226      0.779      0.749      0.812      0.617\n",
      "\n",
      "      Epoch    GPU_mem   box_loss   cls_loss   dfl_loss  Instances       Size\n",
      "\n",
      "      Epoch    GPU_mem   box_loss   cls_loss   dfl_loss  Instances       Size\n"
     ]
    },
    {
     "name": "stderr",
     "output_type": "stream",
     "text": [
      "     74/150      4.92G     0.8703      0.576     0.9493        104        640: 100%|██████████| 2336/2336 [07:27<00:00,  5.22it/s]\n",
      "     74/150      4.92G     0.8703      0.576     0.9493        104        640: 100%|██████████| 2336/2336 [07:27<00:00,  5.22it/s]\n",
      "                 Class     Images  Instances      Box(P          R      mAP50  mAP50-95): 100%|██████████| 207/207 [00:51<00:00,  4.04it/s]\n",
      "                 Class     Images  Instances      Box(P          R      mAP50  mAP50-95): 100%|██████████| 207/207 [00:51<00:00,  4.04it/s]\n"
     ]
    },
    {
     "name": "stdout",
     "output_type": "stream",
     "text": [
      "                   all      13190      48226      0.781      0.751      0.813      0.618\n",
      "\n",
      "      Epoch    GPU_mem   box_loss   cls_loss   dfl_loss  Instances       Size\n",
      "\n",
      "      Epoch    GPU_mem   box_loss   cls_loss   dfl_loss  Instances       Size\n"
     ]
    },
    {
     "name": "stderr",
     "output_type": "stream",
     "text": [
      "     75/150       4.9G     0.8691     0.5755     0.9479        107        640: 100%|██████████| 2336/2336 [07:27<00:00,  5.22it/s]\n",
      "     75/150       4.9G     0.8691     0.5755     0.9479        107        640: 100%|██████████| 2336/2336 [07:27<00:00,  5.22it/s]\n",
      "                 Class     Images  Instances      Box(P          R      mAP50  mAP50-95): 100%|██████████| 207/207 [00:51<00:00,  4.01it/s]\n",
      "                 Class     Images  Instances      Box(P          R      mAP50  mAP50-95): 100%|██████████| 207/207 [00:51<00:00,  4.01it/s]\n"
     ]
    },
    {
     "name": "stdout",
     "output_type": "stream",
     "text": [
      "                   all      13190      48226      0.785      0.749      0.814      0.618\n",
      "\n",
      "      Epoch    GPU_mem   box_loss   cls_loss   dfl_loss  Instances       Size\n",
      "\n",
      "      Epoch    GPU_mem   box_loss   cls_loss   dfl_loss  Instances       Size\n"
     ]
    },
    {
     "name": "stderr",
     "output_type": "stream",
     "text": [
      "     76/150      4.94G     0.8699     0.5746     0.9479        106        640: 100%|██████████| 2336/2336 [07:27<00:00,  5.22it/s]\n",
      "     76/150      4.94G     0.8699     0.5746     0.9479        106        640: 100%|██████████| 2336/2336 [07:27<00:00,  5.22it/s]\n",
      "                 Class     Images  Instances      Box(P          R      mAP50  mAP50-95): 100%|██████████| 207/207 [00:51<00:00,  4.05it/s]\n",
      "                 Class     Images  Instances      Box(P          R      mAP50  mAP50-95): 100%|██████████| 207/207 [00:51<00:00,  4.05it/s]\n"
     ]
    },
    {
     "name": "stdout",
     "output_type": "stream",
     "text": [
      "                   all      13190      48226      0.782       0.75      0.814      0.619\n",
      "\n",
      "      Epoch    GPU_mem   box_loss   cls_loss   dfl_loss  Instances       Size\n",
      "\n",
      "      Epoch    GPU_mem   box_loss   cls_loss   dfl_loss  Instances       Size\n"
     ]
    },
    {
     "name": "stderr",
     "output_type": "stream",
     "text": [
      "     77/150      4.77G     0.8675     0.5706     0.9485        114        640: 100%|██████████| 2336/2336 [07:26<00:00,  5.23it/s]\n",
      "     77/150      4.77G     0.8675     0.5706     0.9485        114        640: 100%|██████████| 2336/2336 [07:26<00:00,  5.23it/s]\n",
      "                 Class     Images  Instances      Box(P          R      mAP50  mAP50-95): 100%|██████████| 207/207 [00:51<00:00,  4.03it/s]\n",
      "                 Class     Images  Instances      Box(P          R      mAP50  mAP50-95): 100%|██████████| 207/207 [00:51<00:00,  4.03it/s]\n"
     ]
    },
    {
     "name": "stdout",
     "output_type": "stream",
     "text": [
      "                   all      13190      48226      0.784      0.752      0.814      0.619\n",
      "\n",
      "      Epoch    GPU_mem   box_loss   cls_loss   dfl_loss  Instances       Size\n",
      "\n",
      "      Epoch    GPU_mem   box_loss   cls_loss   dfl_loss  Instances       Size\n"
     ]
    },
    {
     "name": "stderr",
     "output_type": "stream",
     "text": [
      "     78/150      4.99G     0.8668     0.5707     0.9461        149        640: 100%|██████████| 2336/2336 [07:26<00:00,  5.23it/s]\n",
      "     78/150      4.99G     0.8668     0.5707     0.9461        149        640: 100%|██████████| 2336/2336 [07:26<00:00,  5.23it/s]\n",
      "                 Class     Images  Instances      Box(P          R      mAP50  mAP50-95): 100%|██████████| 207/207 [00:51<00:00,  4.03it/s]\n",
      "                 Class     Images  Instances      Box(P          R      mAP50  mAP50-95): 100%|██████████| 207/207 [00:51<00:00,  4.03it/s]\n"
     ]
    },
    {
     "name": "stdout",
     "output_type": "stream",
     "text": [
      "                   all      13190      48226      0.786      0.755      0.815       0.62\n",
      "\n",
      "      Epoch    GPU_mem   box_loss   cls_loss   dfl_loss  Instances       Size\n",
      "\n",
      "      Epoch    GPU_mem   box_loss   cls_loss   dfl_loss  Instances       Size\n"
     ]
    },
    {
     "name": "stderr",
     "output_type": "stream",
     "text": [
      "     79/150      4.83G     0.8648     0.5664     0.9448        146        640: 100%|██████████| 2336/2336 [07:27<00:00,  5.22it/s]\n",
      "     79/150      4.83G     0.8648     0.5664     0.9448        146        640: 100%|██████████| 2336/2336 [07:27<00:00,  5.22it/s]\n",
      "                 Class     Images  Instances      Box(P          R      mAP50  mAP50-95): 100%|██████████| 207/207 [00:51<00:00,  4.03it/s]\n",
      "                 Class     Images  Instances      Box(P          R      mAP50  mAP50-95): 100%|██████████| 207/207 [00:51<00:00,  4.03it/s]\n"
     ]
    },
    {
     "name": "stdout",
     "output_type": "stream",
     "text": [
      "                   all      13190      48226      0.788      0.755      0.815       0.62\n",
      "\n",
      "      Epoch    GPU_mem   box_loss   cls_loss   dfl_loss  Instances       Size\n",
      "\n",
      "      Epoch    GPU_mem   box_loss   cls_loss   dfl_loss  Instances       Size\n"
     ]
    },
    {
     "name": "stderr",
     "output_type": "stream",
     "text": [
      "     80/150      5.07G     0.8638     0.5667     0.9459        111        640: 100%|██████████| 2336/2336 [07:27<00:00,  5.22it/s]\n",
      "     80/150      5.07G     0.8638     0.5667     0.9459        111        640: 100%|██████████| 2336/2336 [07:27<00:00,  5.22it/s]\n",
      "                 Class     Images  Instances      Box(P          R      mAP50  mAP50-95): 100%|██████████| 207/207 [00:51<00:00,  4.03it/s]\n",
      "                 Class     Images  Instances      Box(P          R      mAP50  mAP50-95): 100%|██████████| 207/207 [00:51<00:00,  4.03it/s]\n"
     ]
    },
    {
     "name": "stdout",
     "output_type": "stream",
     "text": [
      "                   all      13190      48226      0.787      0.757      0.816       0.62\n",
      "\n",
      "      Epoch    GPU_mem   box_loss   cls_loss   dfl_loss  Instances       Size\n",
      "\n",
      "      Epoch    GPU_mem   box_loss   cls_loss   dfl_loss  Instances       Size\n"
     ]
    },
    {
     "name": "stderr",
     "output_type": "stream",
     "text": [
      "     81/150      4.93G     0.8636     0.5661      0.945        132        640: 100%|██████████| 2336/2336 [07:27<00:00,  5.22it/s]\n",
      "     81/150      4.93G     0.8636     0.5661      0.945        132        640: 100%|██████████| 2336/2336 [07:27<00:00,  5.22it/s]\n",
      "                 Class     Images  Instances      Box(P          R      mAP50  mAP50-95): 100%|██████████| 207/207 [00:51<00:00,  4.02it/s]\n",
      "                 Class     Images  Instances      Box(P          R      mAP50  mAP50-95): 100%|██████████| 207/207 [00:51<00:00,  4.02it/s]\n"
     ]
    },
    {
     "name": "stdout",
     "output_type": "stream",
     "text": [
      "                   all      13190      48226      0.786      0.757      0.816       0.62\n",
      "\n",
      "      Epoch    GPU_mem   box_loss   cls_loss   dfl_loss  Instances       Size\n",
      "\n",
      "      Epoch    GPU_mem   box_loss   cls_loss   dfl_loss  Instances       Size\n"
     ]
    },
    {
     "name": "stderr",
     "output_type": "stream",
     "text": [
      "     82/150      4.92G     0.8626      0.565     0.9453        137        640: 100%|██████████| 2336/2336 [07:27<00:00,  5.21it/s]\n",
      "     82/150      4.92G     0.8626      0.565     0.9453        137        640: 100%|██████████| 2336/2336 [07:27<00:00,  5.21it/s]\n",
      "                 Class     Images  Instances      Box(P          R      mAP50  mAP50-95): 100%|██████████| 207/207 [00:51<00:00,  4.04it/s]\n",
      "                 Class     Images  Instances      Box(P          R      mAP50  mAP50-95): 100%|██████████| 207/207 [00:51<00:00,  4.04it/s]\n"
     ]
    },
    {
     "name": "stdout",
     "output_type": "stream",
     "text": [
      "                   all      13190      48226      0.788      0.756      0.816      0.621\n",
      "\n",
      "      Epoch    GPU_mem   box_loss   cls_loss   dfl_loss  Instances       Size\n",
      "\n",
      "      Epoch    GPU_mem   box_loss   cls_loss   dfl_loss  Instances       Size\n"
     ]
    },
    {
     "name": "stderr",
     "output_type": "stream",
     "text": [
      "     83/150      4.99G     0.8607     0.5634     0.9453        123        640: 100%|██████████| 2336/2336 [07:26<00:00,  5.23it/s]\n",
      "     83/150      4.99G     0.8607     0.5634     0.9453        123        640: 100%|██████████| 2336/2336 [07:26<00:00,  5.23it/s]\n",
      "                 Class     Images  Instances      Box(P          R      mAP50  mAP50-95): 100%|██████████| 207/207 [00:51<00:00,  4.01it/s]\n",
      "                 Class     Images  Instances      Box(P          R      mAP50  mAP50-95): 100%|██████████| 207/207 [00:51<00:00,  4.01it/s]\n"
     ]
    },
    {
     "name": "stdout",
     "output_type": "stream",
     "text": [
      "                   all      13190      48226       0.79      0.758      0.817      0.622\n",
      "\n",
      "      Epoch    GPU_mem   box_loss   cls_loss   dfl_loss  Instances       Size\n",
      "\n",
      "      Epoch    GPU_mem   box_loss   cls_loss   dfl_loss  Instances       Size\n"
     ]
    },
    {
     "name": "stderr",
     "output_type": "stream",
     "text": [
      "     84/150      4.97G     0.8611     0.5617      0.947        130        640: 100%|██████████| 2336/2336 [07:27<00:00,  5.22it/s]\n",
      "     84/150      4.97G     0.8611     0.5617      0.947        130        640: 100%|██████████| 2336/2336 [07:27<00:00,  5.22it/s]\n",
      "                 Class     Images  Instances      Box(P          R      mAP50  mAP50-95): 100%|██████████| 207/207 [00:51<00:00,  4.03it/s]\n",
      "                 Class     Images  Instances      Box(P          R      mAP50  mAP50-95): 100%|██████████| 207/207 [00:51<00:00,  4.03it/s]\n"
     ]
    },
    {
     "name": "stdout",
     "output_type": "stream",
     "text": [
      "                   all      13190      48226      0.792      0.757      0.817      0.622\n",
      "\n",
      "      Epoch    GPU_mem   box_loss   cls_loss   dfl_loss  Instances       Size\n",
      "\n",
      "      Epoch    GPU_mem   box_loss   cls_loss   dfl_loss  Instances       Size\n"
     ]
    },
    {
     "name": "stderr",
     "output_type": "stream",
     "text": [
      "     85/150       4.8G     0.8596     0.5602     0.9441        135        640: 100%|██████████| 2336/2336 [07:27<00:00,  5.21it/s]\n",
      "     85/150       4.8G     0.8596     0.5602     0.9441        135        640: 100%|██████████| 2336/2336 [07:27<00:00,  5.21it/s]\n",
      "                 Class     Images  Instances      Box(P          R      mAP50  mAP50-95): 100%|██████████| 207/207 [00:51<00:00,  4.03it/s]\n",
      "                 Class     Images  Instances      Box(P          R      mAP50  mAP50-95): 100%|██████████| 207/207 [00:51<00:00,  4.03it/s]\n"
     ]
    },
    {
     "name": "stdout",
     "output_type": "stream",
     "text": [
      "                   all      13190      48226      0.793      0.756      0.819      0.622\n",
      "\n",
      "      Epoch    GPU_mem   box_loss   cls_loss   dfl_loss  Instances       Size\n",
      "\n",
      "      Epoch    GPU_mem   box_loss   cls_loss   dfl_loss  Instances       Size\n"
     ]
    },
    {
     "name": "stderr",
     "output_type": "stream",
     "text": [
      "     86/150      4.82G     0.8577     0.5571      0.944        158        640: 100%|██████████| 2336/2336 [07:26<00:00,  5.23it/s]\n",
      "     86/150      4.82G     0.8577     0.5571      0.944        158        640: 100%|██████████| 2336/2336 [07:26<00:00,  5.23it/s]\n",
      "                 Class     Images  Instances      Box(P          R      mAP50  mAP50-95): 100%|██████████| 207/207 [00:51<00:00,  4.05it/s]\n",
      "                 Class     Images  Instances      Box(P          R      mAP50  mAP50-95): 100%|██████████| 207/207 [00:51<00:00,  4.05it/s]\n"
     ]
    },
    {
     "name": "stdout",
     "output_type": "stream",
     "text": [
      "                   all      13190      48226      0.793      0.755      0.819      0.623\n",
      "\n",
      "      Epoch    GPU_mem   box_loss   cls_loss   dfl_loss  Instances       Size\n",
      "\n",
      "      Epoch    GPU_mem   box_loss   cls_loss   dfl_loss  Instances       Size\n"
     ]
    },
    {
     "name": "stderr",
     "output_type": "stream",
     "text": [
      "     87/150      5.05G     0.8544     0.5531     0.9424        129        640: 100%|██████████| 2336/2336 [07:27<00:00,  5.22it/s]\n",
      "     87/150      5.05G     0.8544     0.5531     0.9424        129        640: 100%|██████████| 2336/2336 [07:27<00:00,  5.22it/s]\n",
      "                 Class     Images  Instances      Box(P          R      mAP50  mAP50-95): 100%|██████████| 207/207 [00:51<00:00,  4.00it/s]\n",
      "                 Class     Images  Instances      Box(P          R      mAP50  mAP50-95): 100%|██████████| 207/207 [00:51<00:00,  4.00it/s]\n"
     ]
    },
    {
     "name": "stdout",
     "output_type": "stream",
     "text": [
      "                   all      13190      48226      0.792      0.756      0.819      0.624\n",
      "\n",
      "      Epoch    GPU_mem   box_loss   cls_loss   dfl_loss  Instances       Size\n",
      "\n",
      "      Epoch    GPU_mem   box_loss   cls_loss   dfl_loss  Instances       Size\n"
     ]
    },
    {
     "name": "stderr",
     "output_type": "stream",
     "text": [
      "     88/150      4.82G     0.8544     0.5522      0.942        119        640: 100%|██████████| 2336/2336 [07:27<00:00,  5.22it/s]\n",
      "     88/150      4.82G     0.8544     0.5522      0.942        119        640: 100%|██████████| 2336/2336 [07:27<00:00,  5.22it/s]\n",
      "                 Class     Images  Instances      Box(P          R      mAP50  mAP50-95): 100%|██████████| 207/207 [00:51<00:00,  4.06it/s]\n",
      "                 Class     Images  Instances      Box(P          R      mAP50  mAP50-95): 100%|██████████| 207/207 [00:51<00:00,  4.06it/s]\n"
     ]
    },
    {
     "name": "stdout",
     "output_type": "stream",
     "text": [
      "                   all      13190      48226      0.796      0.753       0.82      0.624\n",
      "\n",
      "      Epoch    GPU_mem   box_loss   cls_loss   dfl_loss  Instances       Size\n",
      "\n",
      "      Epoch    GPU_mem   box_loss   cls_loss   dfl_loss  Instances       Size\n"
     ]
    },
    {
     "name": "stderr",
     "output_type": "stream",
     "text": [
      "     89/150       4.9G     0.8557     0.5524     0.9416         88        640: 100%|██████████| 2336/2336 [07:28<00:00,  5.21it/s]\n",
      "     89/150       4.9G     0.8557     0.5524     0.9416         88        640: 100%|██████████| 2336/2336 [07:28<00:00,  5.21it/s]\n",
      "                 Class     Images  Instances      Box(P          R      mAP50  mAP50-95): 100%|██████████| 207/207 [00:51<00:00,  4.05it/s]\n",
      "                 Class     Images  Instances      Box(P          R      mAP50  mAP50-95): 100%|██████████| 207/207 [00:51<00:00,  4.05it/s]\n"
     ]
    },
    {
     "name": "stdout",
     "output_type": "stream",
     "text": [
      "                   all      13190      48226      0.797       0.75       0.82      0.625\n",
      "\n",
      "      Epoch    GPU_mem   box_loss   cls_loss   dfl_loss  Instances       Size\n",
      "\n",
      "      Epoch    GPU_mem   box_loss   cls_loss   dfl_loss  Instances       Size\n"
     ]
    },
    {
     "name": "stderr",
     "output_type": "stream",
     "text": [
      "     90/150       4.9G     0.8526     0.5515     0.9412        175        640: 100%|██████████| 2336/2336 [07:27<00:00,  5.22it/s]\n",
      "     90/150       4.9G     0.8526     0.5515     0.9412        175        640: 100%|██████████| 2336/2336 [07:27<00:00,  5.22it/s]\n",
      "                 Class     Images  Instances      Box(P          R      mAP50  mAP50-95): 100%|██████████| 207/207 [00:51<00:00,  4.01it/s]\n",
      "                 Class     Images  Instances      Box(P          R      mAP50  mAP50-95): 100%|██████████| 207/207 [00:51<00:00,  4.01it/s]\n"
     ]
    },
    {
     "name": "stdout",
     "output_type": "stream",
     "text": [
      "                   all      13190      48226      0.802      0.745       0.82      0.625\n",
      "\n",
      "      Epoch    GPU_mem   box_loss   cls_loss   dfl_loss  Instances       Size\n",
      "\n",
      "      Epoch    GPU_mem   box_loss   cls_loss   dfl_loss  Instances       Size\n"
     ]
    },
    {
     "name": "stderr",
     "output_type": "stream",
     "text": [
      "     91/150      5.01G     0.8508     0.5477     0.9419        130        640: 100%|██████████| 2336/2336 [07:27<00:00,  5.22it/s]\n",
      "     91/150      5.01G     0.8508     0.5477     0.9419        130        640: 100%|██████████| 2336/2336 [07:27<00:00,  5.22it/s]\n",
      "                 Class     Images  Instances      Box(P          R      mAP50  mAP50-95): 100%|██████████| 207/207 [00:51<00:00,  4.04it/s]\n",
      "                 Class     Images  Instances      Box(P          R      mAP50  mAP50-95): 100%|██████████| 207/207 [00:51<00:00,  4.04it/s]\n"
     ]
    },
    {
     "name": "stdout",
     "output_type": "stream",
     "text": [
      "                   all      13190      48226      0.808      0.741      0.821      0.625\n",
      "\n",
      "      Epoch    GPU_mem   box_loss   cls_loss   dfl_loss  Instances       Size\n",
      "\n",
      "      Epoch    GPU_mem   box_loss   cls_loss   dfl_loss  Instances       Size\n"
     ]
    },
    {
     "name": "stderr",
     "output_type": "stream",
     "text": [
      "     92/150      4.97G     0.8492     0.5474     0.9405        119        640: 100%|██████████| 2336/2336 [07:27<00:00,  5.22it/s]\n",
      "     92/150      4.97G     0.8492     0.5474     0.9405        119        640: 100%|██████████| 2336/2336 [07:27<00:00,  5.22it/s]\n",
      "                 Class     Images  Instances      Box(P          R      mAP50  mAP50-95): 100%|██████████| 207/207 [00:51<00:00,  4.03it/s]\n",
      "                 Class     Images  Instances      Box(P          R      mAP50  mAP50-95): 100%|██████████| 207/207 [00:51<00:00,  4.03it/s]\n"
     ]
    },
    {
     "name": "stdout",
     "output_type": "stream",
     "text": [
      "                   all      13190      48226      0.804      0.746      0.821      0.626\n",
      "\n",
      "      Epoch    GPU_mem   box_loss   cls_loss   dfl_loss  Instances       Size\n",
      "\n",
      "      Epoch    GPU_mem   box_loss   cls_loss   dfl_loss  Instances       Size\n"
     ]
    },
    {
     "name": "stderr",
     "output_type": "stream",
     "text": [
      "     93/150      4.87G     0.8521     0.5459     0.9407        119        640: 100%|██████████| 2336/2336 [07:27<00:00,  5.22it/s]\n",
      "     93/150      4.87G     0.8521     0.5459     0.9407        119        640: 100%|██████████| 2336/2336 [07:27<00:00,  5.22it/s]\n",
      "                 Class     Images  Instances      Box(P          R      mAP50  mAP50-95): 100%|██████████| 207/207 [00:51<00:00,  4.06it/s]\n",
      "                 Class     Images  Instances      Box(P          R      mAP50  mAP50-95): 100%|██████████| 207/207 [00:51<00:00,  4.06it/s]\n"
     ]
    },
    {
     "name": "stdout",
     "output_type": "stream",
     "text": [
      "                   all      13190      48226      0.803      0.747      0.821      0.626\n",
      "\n",
      "      Epoch    GPU_mem   box_loss   cls_loss   dfl_loss  Instances       Size\n",
      "\n",
      "      Epoch    GPU_mem   box_loss   cls_loss   dfl_loss  Instances       Size\n"
     ]
    },
    {
     "name": "stderr",
     "output_type": "stream",
     "text": [
      "     94/150      5.04G     0.8484      0.545     0.9399        127        640: 100%|██████████| 2336/2336 [07:27<00:00,  5.21it/s]\n",
      "     94/150      5.04G     0.8484      0.545     0.9399        127        640: 100%|██████████| 2336/2336 [07:27<00:00,  5.21it/s]\n",
      "                 Class     Images  Instances      Box(P          R      mAP50  mAP50-95): 100%|██████████| 207/207 [00:51<00:00,  4.03it/s]\n",
      "                 Class     Images  Instances      Box(P          R      mAP50  mAP50-95): 100%|██████████| 207/207 [00:51<00:00,  4.03it/s]\n"
     ]
    },
    {
     "name": "stdout",
     "output_type": "stream",
     "text": [
      "                   all      13190      48226      0.809      0.744      0.821      0.626\n",
      "\n",
      "      Epoch    GPU_mem   box_loss   cls_loss   dfl_loss  Instances       Size\n",
      "\n",
      "      Epoch    GPU_mem   box_loss   cls_loss   dfl_loss  Instances       Size\n"
     ]
    },
    {
     "name": "stderr",
     "output_type": "stream",
     "text": [
      "     95/150         5G     0.8473     0.5415      0.939         96        640: 100%|██████████| 2336/2336 [07:26<00:00,  5.23it/s]\n",
      "     95/150         5G     0.8473     0.5415      0.939         96        640: 100%|██████████| 2336/2336 [07:26<00:00,  5.23it/s]\n",
      "                 Class     Images  Instances      Box(P          R      mAP50  mAP50-95): 100%|██████████| 207/207 [00:50<00:00,  4.07it/s]\n",
      "                 Class     Images  Instances      Box(P          R      mAP50  mAP50-95): 100%|██████████| 207/207 [00:50<00:00,  4.07it/s]\n"
     ]
    },
    {
     "name": "stdout",
     "output_type": "stream",
     "text": [
      "                   all      13190      48226      0.807      0.745      0.821      0.626\n",
      "\n",
      "      Epoch    GPU_mem   box_loss   cls_loss   dfl_loss  Instances       Size\n",
      "\n",
      "      Epoch    GPU_mem   box_loss   cls_loss   dfl_loss  Instances       Size\n"
     ]
    },
    {
     "name": "stderr",
     "output_type": "stream",
     "text": [
      "     96/150      5.01G     0.8451     0.5376      0.938        145        640: 100%|██████████| 2336/2336 [07:27<00:00,  5.22it/s]\n",
      "     96/150      5.01G     0.8451     0.5376      0.938        145        640: 100%|██████████| 2336/2336 [07:27<00:00,  5.22it/s]\n",
      "                 Class     Images  Instances      Box(P          R      mAP50  mAP50-95): 100%|██████████| 207/207 [00:51<00:00,  4.03it/s]\n",
      "                 Class     Images  Instances      Box(P          R      mAP50  mAP50-95): 100%|██████████| 207/207 [00:51<00:00,  4.03it/s]\n"
     ]
    },
    {
     "name": "stdout",
     "output_type": "stream",
     "text": [
      "                   all      13190      48226      0.805      0.745      0.821      0.626\n",
      "\n",
      "      Epoch    GPU_mem   box_loss   cls_loss   dfl_loss  Instances       Size\n",
      "\n",
      "      Epoch    GPU_mem   box_loss   cls_loss   dfl_loss  Instances       Size\n"
     ]
    },
    {
     "name": "stderr",
     "output_type": "stream",
     "text": [
      "     97/150         5G     0.8436     0.5382     0.9362        125        640: 100%|██████████| 2336/2336 [07:28<00:00,  5.21it/s]\n",
      "     97/150         5G     0.8436     0.5382     0.9362        125        640: 100%|██████████| 2336/2336 [07:28<00:00,  5.21it/s]\n",
      "                 Class     Images  Instances      Box(P          R      mAP50  mAP50-95): 100%|██████████| 207/207 [00:51<00:00,  4.03it/s]\n",
      "                 Class     Images  Instances      Box(P          R      mAP50  mAP50-95): 100%|██████████| 207/207 [00:51<00:00,  4.03it/s]\n"
     ]
    },
    {
     "name": "stdout",
     "output_type": "stream",
     "text": [
      "                   all      13190      48226      0.809      0.742      0.821      0.626\n",
      "\n",
      "      Epoch    GPU_mem   box_loss   cls_loss   dfl_loss  Instances       Size\n",
      "\n",
      "      Epoch    GPU_mem   box_loss   cls_loss   dfl_loss  Instances       Size\n"
     ]
    },
    {
     "name": "stderr",
     "output_type": "stream",
     "text": [
      "     98/150       4.8G     0.8438     0.5367      0.939        117        640: 100%|██████████| 2336/2336 [07:26<00:00,  5.23it/s]\n",
      "     98/150       4.8G     0.8438     0.5367      0.939        117        640: 100%|██████████| 2336/2336 [07:26<00:00,  5.23it/s]\n",
      "                 Class     Images  Instances      Box(P          R      mAP50  mAP50-95): 100%|██████████| 207/207 [00:51<00:00,  4.03it/s]\n",
      "                 Class     Images  Instances      Box(P          R      mAP50  mAP50-95): 100%|██████████| 207/207 [00:51<00:00,  4.03it/s]\n"
     ]
    },
    {
     "name": "stdout",
     "output_type": "stream",
     "text": [
      "                   all      13190      48226      0.813      0.742      0.821      0.626\n",
      "\n",
      "      Epoch    GPU_mem   box_loss   cls_loss   dfl_loss  Instances       Size\n",
      "\n",
      "      Epoch    GPU_mem   box_loss   cls_loss   dfl_loss  Instances       Size\n"
     ]
    },
    {
     "name": "stderr",
     "output_type": "stream",
     "text": [
      "     99/150      4.89G     0.8429      0.534     0.9369        128        640: 100%|██████████| 2336/2336 [07:27<00:00,  5.22it/s]\n",
      "     99/150      4.89G     0.8429      0.534     0.9369        128        640: 100%|██████████| 2336/2336 [07:27<00:00,  5.22it/s]\n",
      "                 Class     Images  Instances      Box(P          R      mAP50  mAP50-95): 100%|██████████| 207/207 [00:51<00:00,  4.04it/s]\n",
      "                 Class     Images  Instances      Box(P          R      mAP50  mAP50-95): 100%|██████████| 207/207 [00:51<00:00,  4.04it/s]\n"
     ]
    },
    {
     "name": "stdout",
     "output_type": "stream",
     "text": [
      "                   all      13190      48226      0.818      0.739      0.821      0.627\n",
      "\n",
      "      Epoch    GPU_mem   box_loss   cls_loss   dfl_loss  Instances       Size\n",
      "\n",
      "      Epoch    GPU_mem   box_loss   cls_loss   dfl_loss  Instances       Size\n"
     ]
    },
    {
     "name": "stderr",
     "output_type": "stream",
     "text": [
      "    100/150      5.08G     0.8401     0.5326     0.9362        134        640: 100%|██████████| 2336/2336 [07:27<00:00,  5.22it/s]\n",
      "    100/150      5.08G     0.8401     0.5326     0.9362        134        640: 100%|██████████| 2336/2336 [07:27<00:00,  5.22it/s]\n",
      "                 Class     Images  Instances      Box(P          R      mAP50  mAP50-95): 100%|██████████| 207/207 [00:50<00:00,  4.06it/s]\n",
      "                 Class     Images  Instances      Box(P          R      mAP50  mAP50-95): 100%|██████████| 207/207 [00:50<00:00,  4.06it/s]\n"
     ]
    },
    {
     "name": "stdout",
     "output_type": "stream",
     "text": [
      "                   all      13190      48226      0.821      0.737      0.822      0.628\n",
      "\n",
      "      Epoch    GPU_mem   box_loss   cls_loss   dfl_loss  Instances       Size\n",
      "\n",
      "      Epoch    GPU_mem   box_loss   cls_loss   dfl_loss  Instances       Size\n"
     ]
    },
    {
     "name": "stderr",
     "output_type": "stream",
     "text": [
      "    101/150      4.99G     0.8406     0.5292     0.9366        138        640: 100%|██████████| 2336/2336 [07:27<00:00,  5.21it/s]\n",
      "    101/150      4.99G     0.8406     0.5292     0.9366        138        640: 100%|██████████| 2336/2336 [07:27<00:00,  5.21it/s]\n",
      "                 Class     Images  Instances      Box(P          R      mAP50  mAP50-95): 100%|██████████| 207/207 [00:51<00:00,  4.03it/s]\n",
      "                 Class     Images  Instances      Box(P          R      mAP50  mAP50-95): 100%|██████████| 207/207 [00:51<00:00,  4.03it/s]\n"
     ]
    },
    {
     "name": "stdout",
     "output_type": "stream",
     "text": [
      "                   all      13190      48226       0.82      0.739      0.822      0.628\n",
      "\n",
      "      Epoch    GPU_mem   box_loss   cls_loss   dfl_loss  Instances       Size\n",
      "\n",
      "      Epoch    GPU_mem   box_loss   cls_loss   dfl_loss  Instances       Size\n"
     ]
    },
    {
     "name": "stderr",
     "output_type": "stream",
     "text": [
      "    102/150      4.88G     0.8384     0.5288     0.9359        139        640: 100%|██████████| 2336/2336 [07:27<00:00,  5.22it/s]\n",
      "    102/150      4.88G     0.8384     0.5288     0.9359        139        640: 100%|██████████| 2336/2336 [07:27<00:00,  5.22it/s]\n",
      "                 Class     Images  Instances      Box(P          R      mAP50  mAP50-95): 100%|██████████| 207/207 [00:51<00:00,  4.04it/s]\n",
      "                 Class     Images  Instances      Box(P          R      mAP50  mAP50-95): 100%|██████████| 207/207 [00:51<00:00,  4.04it/s]\n"
     ]
    },
    {
     "name": "stdout",
     "output_type": "stream",
     "text": [
      "                   all      13190      48226      0.818      0.741      0.822      0.629\n",
      "\n",
      "      Epoch    GPU_mem   box_loss   cls_loss   dfl_loss  Instances       Size\n",
      "\n",
      "      Epoch    GPU_mem   box_loss   cls_loss   dfl_loss  Instances       Size\n"
     ]
    },
    {
     "name": "stderr",
     "output_type": "stream",
     "text": [
      "    103/150      4.78G     0.8368     0.5248     0.9333        107        640: 100%|██████████| 2336/2336 [07:27<00:00,  5.22it/s]\n",
      "    103/150      4.78G     0.8368     0.5248     0.9333        107        640: 100%|██████████| 2336/2336 [07:27<00:00,  5.22it/s]\n",
      "                 Class     Images  Instances      Box(P          R      mAP50  mAP50-95): 100%|██████████| 207/207 [00:51<00:00,  4.03it/s]\n",
      "                 Class     Images  Instances      Box(P          R      mAP50  mAP50-95): 100%|██████████| 207/207 [00:51<00:00,  4.03it/s]\n"
     ]
    },
    {
     "name": "stdout",
     "output_type": "stream",
     "text": [
      "                   all      13190      48226      0.817      0.743      0.823      0.629\n",
      "\n",
      "      Epoch    GPU_mem   box_loss   cls_loss   dfl_loss  Instances       Size\n",
      "\n",
      "      Epoch    GPU_mem   box_loss   cls_loss   dfl_loss  Instances       Size\n"
     ]
    },
    {
     "name": "stderr",
     "output_type": "stream",
     "text": [
      "    104/150      4.91G     0.8369     0.5268      0.934        131        640: 100%|██████████| 2336/2336 [07:27<00:00,  5.22it/s]\n",
      "    104/150      4.91G     0.8369     0.5268      0.934        131        640: 100%|██████████| 2336/2336 [07:27<00:00,  5.22it/s]\n",
      "                 Class     Images  Instances      Box(P          R      mAP50  mAP50-95): 100%|██████████| 207/207 [00:51<00:00,  4.05it/s]\n",
      "                 Class     Images  Instances      Box(P          R      mAP50  mAP50-95): 100%|██████████| 207/207 [00:51<00:00,  4.05it/s]\n"
     ]
    },
    {
     "name": "stdout",
     "output_type": "stream",
     "text": [
      "                   all      13190      48226      0.816      0.745      0.823      0.629\n",
      "\n",
      "      Epoch    GPU_mem   box_loss   cls_loss   dfl_loss  Instances       Size\n",
      "\n",
      "      Epoch    GPU_mem   box_loss   cls_loss   dfl_loss  Instances       Size\n"
     ]
    },
    {
     "name": "stderr",
     "output_type": "stream",
     "text": [
      "    105/150      4.88G      0.835     0.5225     0.9338        136        640: 100%|██████████| 2336/2336 [07:27<00:00,  5.22it/s]\n",
      "    105/150      4.88G      0.835     0.5225     0.9338        136        640: 100%|██████████| 2336/2336 [07:27<00:00,  5.22it/s]\n",
      "                 Class     Images  Instances      Box(P          R      mAP50  mAP50-95): 100%|██████████| 207/207 [00:51<00:00,  4.03it/s]\n",
      "                 Class     Images  Instances      Box(P          R      mAP50  mAP50-95): 100%|██████████| 207/207 [00:51<00:00,  4.03it/s]\n"
     ]
    },
    {
     "name": "stdout",
     "output_type": "stream",
     "text": [
      "                   all      13190      48226       0.82      0.744      0.824      0.629\n",
      "\n",
      "      Epoch    GPU_mem   box_loss   cls_loss   dfl_loss  Instances       Size\n",
      "\n",
      "      Epoch    GPU_mem   box_loss   cls_loss   dfl_loss  Instances       Size\n"
     ]
    },
    {
     "name": "stderr",
     "output_type": "stream",
     "text": [
      "    106/150      4.82G     0.8337     0.5218      0.935        157        640: 100%|██████████| 2336/2336 [07:27<00:00,  5.23it/s]\n",
      "    106/150      4.82G     0.8337     0.5218      0.935        157        640: 100%|██████████| 2336/2336 [07:27<00:00,  5.23it/s]\n",
      "                 Class     Images  Instances      Box(P          R      mAP50  mAP50-95): 100%|██████████| 207/207 [00:51<00:00,  4.06it/s]\n",
      "                 Class     Images  Instances      Box(P          R      mAP50  mAP50-95): 100%|██████████| 207/207 [00:51<00:00,  4.06it/s]\n"
     ]
    },
    {
     "name": "stdout",
     "output_type": "stream",
     "text": [
      "                   all      13190      48226      0.825      0.741      0.824      0.629\n",
      "\n",
      "      Epoch    GPU_mem   box_loss   cls_loss   dfl_loss  Instances       Size\n",
      "\n",
      "      Epoch    GPU_mem   box_loss   cls_loss   dfl_loss  Instances       Size\n"
     ]
    },
    {
     "name": "stderr",
     "output_type": "stream",
     "text": [
      "    107/150      4.96G      0.833      0.519      0.932        102        640: 100%|██████████| 2336/2336 [07:27<00:00,  5.22it/s]\n",
      "    107/150      4.96G      0.833      0.519      0.932        102        640: 100%|██████████| 2336/2336 [07:27<00:00,  5.22it/s]\n",
      "                 Class     Images  Instances      Box(P          R      mAP50  mAP50-95): 100%|██████████| 207/207 [00:51<00:00,  4.01it/s]\n",
      "                 Class     Images  Instances      Box(P          R      mAP50  mAP50-95): 100%|██████████| 207/207 [00:51<00:00,  4.01it/s]\n"
     ]
    },
    {
     "name": "stdout",
     "output_type": "stream",
     "text": [
      "                   all      13190      48226      0.822      0.743      0.824       0.63\n",
      "\n",
      "      Epoch    GPU_mem   box_loss   cls_loss   dfl_loss  Instances       Size\n",
      "\n",
      "      Epoch    GPU_mem   box_loss   cls_loss   dfl_loss  Instances       Size\n"
     ]
    },
    {
     "name": "stderr",
     "output_type": "stream",
     "text": [
      "    108/150      4.98G     0.8294     0.5171     0.9318        131        640: 100%|██████████| 2336/2336 [07:27<00:00,  5.22it/s]\n",
      "    108/150      4.98G     0.8294     0.5171     0.9318        131        640: 100%|██████████| 2336/2336 [07:27<00:00,  5.22it/s]\n",
      "                 Class     Images  Instances      Box(P          R      mAP50  mAP50-95): 100%|██████████| 207/207 [00:51<00:00,  4.03it/s]\n",
      "                 Class     Images  Instances      Box(P          R      mAP50  mAP50-95): 100%|██████████| 207/207 [00:51<00:00,  4.03it/s]\n"
     ]
    },
    {
     "name": "stdout",
     "output_type": "stream",
     "text": [
      "                   all      13190      48226      0.817      0.746      0.824       0.63\n",
      "\n",
      "      Epoch    GPU_mem   box_loss   cls_loss   dfl_loss  Instances       Size\n",
      "\n",
      "      Epoch    GPU_mem   box_loss   cls_loss   dfl_loss  Instances       Size\n"
     ]
    },
    {
     "name": "stderr",
     "output_type": "stream",
     "text": [
      "    109/150      4.88G     0.8284     0.5129     0.9326        156        640: 100%|██████████| 2336/2336 [07:27<00:00,  5.22it/s]\n",
      "    109/150      4.88G     0.8284     0.5129     0.9326        156        640: 100%|██████████| 2336/2336 [07:27<00:00,  5.22it/s]\n",
      "                 Class     Images  Instances      Box(P          R      mAP50  mAP50-95): 100%|██████████| 207/207 [00:51<00:00,  4.04it/s]\n",
      "                 Class     Images  Instances      Box(P          R      mAP50  mAP50-95): 100%|██████████| 207/207 [00:51<00:00,  4.04it/s]\n"
     ]
    },
    {
     "name": "stdout",
     "output_type": "stream",
     "text": [
      "                   all      13190      48226      0.818      0.746      0.824       0.63\n",
      "\n",
      "      Epoch    GPU_mem   box_loss   cls_loss   dfl_loss  Instances       Size\n",
      "\n",
      "      Epoch    GPU_mem   box_loss   cls_loss   dfl_loss  Instances       Size\n"
     ]
    },
    {
     "name": "stderr",
     "output_type": "stream",
     "text": [
      "    110/150      4.89G     0.8285      0.513     0.9299        125        640: 100%|██████████| 2336/2336 [07:27<00:00,  5.22it/s]\n",
      "    110/150      4.89G     0.8285      0.513     0.9299        125        640: 100%|██████████| 2336/2336 [07:27<00:00,  5.22it/s]\n",
      "                 Class     Images  Instances      Box(P          R      mAP50  mAP50-95): 100%|██████████| 207/207 [00:51<00:00,  4.00it/s]\n",
      "                 Class     Images  Instances      Box(P          R      mAP50  mAP50-95): 100%|██████████| 207/207 [00:51<00:00,  4.00it/s]\n"
     ]
    },
    {
     "name": "stdout",
     "output_type": "stream",
     "text": [
      "                   all      13190      48226      0.819      0.745      0.825      0.631\n",
      "\n",
      "      Epoch    GPU_mem   box_loss   cls_loss   dfl_loss  Instances       Size\n",
      "\n",
      "      Epoch    GPU_mem   box_loss   cls_loss   dfl_loss  Instances       Size\n"
     ]
    },
    {
     "name": "stderr",
     "output_type": "stream",
     "text": [
      "    111/150      4.91G     0.8246     0.5093      0.929        120        640: 100%|██████████| 2336/2336 [07:28<00:00,  5.21it/s]\n",
      "    111/150      4.91G     0.8246     0.5093      0.929        120        640: 100%|██████████| 2336/2336 [07:28<00:00,  5.21it/s]\n",
      "                 Class     Images  Instances      Box(P          R      mAP50  mAP50-95): 100%|██████████| 207/207 [00:51<00:00,  4.02it/s]\n",
      "                 Class     Images  Instances      Box(P          R      mAP50  mAP50-95): 100%|██████████| 207/207 [00:51<00:00,  4.02it/s]\n"
     ]
    },
    {
     "name": "stdout",
     "output_type": "stream",
     "text": [
      "                   all      13190      48226      0.812       0.75      0.825      0.631\n",
      "\n",
      "      Epoch    GPU_mem   box_loss   cls_loss   dfl_loss  Instances       Size\n",
      "\n",
      "      Epoch    GPU_mem   box_loss   cls_loss   dfl_loss  Instances       Size\n"
     ]
    },
    {
     "name": "stderr",
     "output_type": "stream",
     "text": [
      "    112/150      5.01G     0.8246     0.5077     0.9303        152        640: 100%|██████████| 2336/2336 [07:28<00:00,  5.21it/s]\n",
      "    112/150      5.01G     0.8246     0.5077     0.9303        152        640: 100%|██████████| 2336/2336 [07:28<00:00,  5.21it/s]\n",
      "                 Class     Images  Instances      Box(P          R      mAP50  mAP50-95): 100%|██████████| 207/207 [00:51<00:00,  4.05it/s]\n",
      "                 Class     Images  Instances      Box(P          R      mAP50  mAP50-95): 100%|██████████| 207/207 [00:51<00:00,  4.05it/s]\n"
     ]
    },
    {
     "name": "stdout",
     "output_type": "stream",
     "text": [
      "                   all      13190      48226      0.819      0.747      0.826      0.632\n",
      "\n",
      "      Epoch    GPU_mem   box_loss   cls_loss   dfl_loss  Instances       Size\n",
      "\n",
      "      Epoch    GPU_mem   box_loss   cls_loss   dfl_loss  Instances       Size\n"
     ]
    },
    {
     "name": "stderr",
     "output_type": "stream",
     "text": [
      "    113/150      4.98G     0.8223     0.5047     0.9284        109        640: 100%|██████████| 2336/2336 [07:27<00:00,  5.22it/s]\n",
      "    113/150      4.98G     0.8223     0.5047     0.9284        109        640: 100%|██████████| 2336/2336 [07:27<00:00,  5.22it/s]\n",
      "                 Class     Images  Instances      Box(P          R      mAP50  mAP50-95): 100%|██████████| 207/207 [00:51<00:00,  4.02it/s]\n",
      "                 Class     Images  Instances      Box(P          R      mAP50  mAP50-95): 100%|██████████| 207/207 [00:51<00:00,  4.02it/s]\n"
     ]
    },
    {
     "name": "stdout",
     "output_type": "stream",
     "text": [
      "                   all      13190      48226      0.824      0.743      0.827      0.632\n",
      "\n",
      "      Epoch    GPU_mem   box_loss   cls_loss   dfl_loss  Instances       Size\n",
      "\n",
      "      Epoch    GPU_mem   box_loss   cls_loss   dfl_loss  Instances       Size\n"
     ]
    },
    {
     "name": "stderr",
     "output_type": "stream",
     "text": [
      "    114/150      4.87G     0.8229     0.5049     0.9287        128        640: 100%|██████████| 2336/2336 [07:27<00:00,  5.22it/s]\n",
      "    114/150      4.87G     0.8229     0.5049     0.9287        128        640: 100%|██████████| 2336/2336 [07:27<00:00,  5.22it/s]\n",
      "                 Class     Images  Instances      Box(P          R      mAP50  mAP50-95): 100%|██████████| 207/207 [00:51<00:00,  4.04it/s]\n",
      "                 Class     Images  Instances      Box(P          R      mAP50  mAP50-95): 100%|██████████| 207/207 [00:51<00:00,  4.04it/s]\n"
     ]
    },
    {
     "name": "stdout",
     "output_type": "stream",
     "text": [
      "                   all      13190      48226      0.823      0.745      0.828      0.633\n",
      "\n",
      "      Epoch    GPU_mem   box_loss   cls_loss   dfl_loss  Instances       Size\n",
      "\n",
      "      Epoch    GPU_mem   box_loss   cls_loss   dfl_loss  Instances       Size\n"
     ]
    },
    {
     "name": "stderr",
     "output_type": "stream",
     "text": [
      "    115/150      4.94G     0.8206     0.5034      0.928        121        640: 100%|██████████| 2336/2336 [07:26<00:00,  5.23it/s]\n",
      "    115/150      4.94G     0.8206     0.5034      0.928        121        640: 100%|██████████| 2336/2336 [07:26<00:00,  5.23it/s]\n",
      "                 Class     Images  Instances      Box(P          R      mAP50  mAP50-95): 100%|██████████| 207/207 [00:50<00:00,  4.06it/s]\n",
      "                 Class     Images  Instances      Box(P          R      mAP50  mAP50-95): 100%|██████████| 207/207 [00:50<00:00,  4.06it/s]\n"
     ]
    },
    {
     "name": "stdout",
     "output_type": "stream",
     "text": [
      "                   all      13190      48226      0.823      0.747      0.828      0.633\n",
      "\n",
      "      Epoch    GPU_mem   box_loss   cls_loss   dfl_loss  Instances       Size\n",
      "\n",
      "      Epoch    GPU_mem   box_loss   cls_loss   dfl_loss  Instances       Size\n"
     ]
    },
    {
     "name": "stderr",
     "output_type": "stream",
     "text": [
      "    116/150      4.94G     0.8195     0.5024     0.9289        111        640: 100%|██████████| 2336/2336 [07:27<00:00,  5.22it/s]\n",
      "    116/150      4.94G     0.8195     0.5024     0.9289        111        640: 100%|██████████| 2336/2336 [07:27<00:00,  5.22it/s]\n",
      "                 Class     Images  Instances      Box(P          R      mAP50  mAP50-95): 100%|██████████| 207/207 [00:51<00:00,  4.01it/s]\n",
      "                 Class     Images  Instances      Box(P          R      mAP50  mAP50-95): 100%|██████████| 207/207 [00:51<00:00,  4.01it/s]\n"
     ]
    },
    {
     "name": "stdout",
     "output_type": "stream",
     "text": [
      "                   all      13190      48226      0.825      0.746      0.828      0.633\n",
      "\n",
      "      Epoch    GPU_mem   box_loss   cls_loss   dfl_loss  Instances       Size\n",
      "\n",
      "      Epoch    GPU_mem   box_loss   cls_loss   dfl_loss  Instances       Size\n"
     ]
    },
    {
     "name": "stderr",
     "output_type": "stream",
     "text": [
      "    117/150      4.95G      0.818     0.4993     0.9269        149        640: 100%|██████████| 2336/2336 [07:27<00:00,  5.22it/s]\n",
      "    117/150      4.95G      0.818     0.4993     0.9269        149        640: 100%|██████████| 2336/2336 [07:27<00:00,  5.22it/s]\n",
      "                 Class     Images  Instances      Box(P          R      mAP50  mAP50-95): 100%|██████████| 207/207 [00:51<00:00,  4.03it/s]\n",
      "                 Class     Images  Instances      Box(P          R      mAP50  mAP50-95): 100%|██████████| 207/207 [00:51<00:00,  4.03it/s]\n"
     ]
    },
    {
     "name": "stdout",
     "output_type": "stream",
     "text": [
      "                   all      13190      48226      0.826      0.744      0.828      0.634\n",
      "\n",
      "      Epoch    GPU_mem   box_loss   cls_loss   dfl_loss  Instances       Size\n",
      "\n",
      "      Epoch    GPU_mem   box_loss   cls_loss   dfl_loss  Instances       Size\n"
     ]
    },
    {
     "name": "stderr",
     "output_type": "stream",
     "text": [
      "    118/150      4.82G     0.8172     0.4973     0.9266        114        640: 100%|██████████| 2336/2336 [07:27<00:00,  5.22it/s]\n",
      "    118/150      4.82G     0.8172     0.4973     0.9266        114        640: 100%|██████████| 2336/2336 [07:27<00:00,  5.22it/s]\n",
      "                 Class     Images  Instances      Box(P          R      mAP50  mAP50-95): 100%|██████████| 207/207 [00:50<00:00,  4.06it/s]\n",
      "                 Class     Images  Instances      Box(P          R      mAP50  mAP50-95): 100%|██████████| 207/207 [00:50<00:00,  4.06it/s]\n"
     ]
    },
    {
     "name": "stdout",
     "output_type": "stream",
     "text": [
      "                   all      13190      48226      0.821      0.749      0.829      0.634\n",
      "\n",
      "      Epoch    GPU_mem   box_loss   cls_loss   dfl_loss  Instances       Size\n",
      "\n",
      "      Epoch    GPU_mem   box_loss   cls_loss   dfl_loss  Instances       Size\n"
     ]
    },
    {
     "name": "stderr",
     "output_type": "stream",
     "text": [
      "    119/150      4.98G     0.8145      0.493      0.925        140        640: 100%|██████████| 2336/2336 [07:27<00:00,  5.22it/s]\n",
      "    119/150      4.98G     0.8145      0.493      0.925        140        640: 100%|██████████| 2336/2336 [07:27<00:00,  5.22it/s]\n",
      "                 Class     Images  Instances      Box(P          R      mAP50  mAP50-95): 100%|██████████| 207/207 [00:51<00:00,  4.04it/s]\n",
      "                 Class     Images  Instances      Box(P          R      mAP50  mAP50-95): 100%|██████████| 207/207 [00:51<00:00,  4.04it/s]\n"
     ]
    },
    {
     "name": "stdout",
     "output_type": "stream",
     "text": [
      "                   all      13190      48226      0.822      0.748      0.829      0.634\n",
      "\n",
      "      Epoch    GPU_mem   box_loss   cls_loss   dfl_loss  Instances       Size\n",
      "\n",
      "      Epoch    GPU_mem   box_loss   cls_loss   dfl_loss  Instances       Size\n"
     ]
    },
    {
     "name": "stderr",
     "output_type": "stream",
     "text": [
      "    120/150      4.78G     0.8132     0.4921     0.9246        132        640: 100%|██████████| 2336/2336 [07:28<00:00,  5.21it/s]\n",
      "    120/150      4.78G     0.8132     0.4921     0.9246        132        640: 100%|██████████| 2336/2336 [07:28<00:00,  5.21it/s]\n",
      "                 Class     Images  Instances      Box(P          R      mAP50  mAP50-95): 100%|██████████| 207/207 [00:51<00:00,  4.04it/s]\n",
      "                 Class     Images  Instances      Box(P          R      mAP50  mAP50-95): 100%|██████████| 207/207 [00:51<00:00,  4.04it/s]\n"
     ]
    },
    {
     "name": "stdout",
     "output_type": "stream",
     "text": [
      "                   all      13190      48226      0.823       0.75      0.829      0.635\n",
      "\n",
      "      Epoch    GPU_mem   box_loss   cls_loss   dfl_loss  Instances       Size\n",
      "\n",
      "      Epoch    GPU_mem   box_loss   cls_loss   dfl_loss  Instances       Size\n"
     ]
    },
    {
     "name": "stderr",
     "output_type": "stream",
     "text": [
      "    121/150         5G     0.8116     0.4915     0.9255        142        640: 100%|██████████| 2336/2336 [07:27<00:00,  5.22it/s]\n",
      "    121/150         5G     0.8116     0.4915     0.9255        142        640: 100%|██████████| 2336/2336 [07:27<00:00,  5.22it/s]\n",
      "                 Class     Images  Instances      Box(P          R      mAP50  mAP50-95): 100%|██████████| 207/207 [00:51<00:00,  4.04it/s]\n",
      "                 Class     Images  Instances      Box(P          R      mAP50  mAP50-95): 100%|██████████| 207/207 [00:51<00:00,  4.04it/s]\n"
     ]
    },
    {
     "name": "stdout",
     "output_type": "stream",
     "text": [
      "                   all      13190      48226      0.824       0.75      0.829      0.634\n",
      "\n",
      "      Epoch    GPU_mem   box_loss   cls_loss   dfl_loss  Instances       Size\n",
      "\n",
      "      Epoch    GPU_mem   box_loss   cls_loss   dfl_loss  Instances       Size\n"
     ]
    },
    {
     "name": "stderr",
     "output_type": "stream",
     "text": [
      "    122/150      4.86G     0.8116     0.4904     0.9258        138        640: 100%|██████████| 2336/2336 [07:27<00:00,  5.22it/s]\n",
      "    122/150      4.86G     0.8116     0.4904     0.9258        138        640: 100%|██████████| 2336/2336 [07:27<00:00,  5.22it/s]\n",
      "                 Class     Images  Instances      Box(P          R      mAP50  mAP50-95): 100%|██████████| 207/207 [00:51<00:00,  4.02it/s]\n",
      "                 Class     Images  Instances      Box(P          R      mAP50  mAP50-95): 100%|██████████| 207/207 [00:51<00:00,  4.02it/s]\n"
     ]
    },
    {
     "name": "stdout",
     "output_type": "stream",
     "text": [
      "                   all      13190      48226      0.821      0.752      0.829      0.635\n",
      "\n",
      "      Epoch    GPU_mem   box_loss   cls_loss   dfl_loss  Instances       Size\n",
      "\n",
      "      Epoch    GPU_mem   box_loss   cls_loss   dfl_loss  Instances       Size\n"
     ]
    },
    {
     "name": "stderr",
     "output_type": "stream",
     "text": [
      "    123/150      4.95G     0.8107     0.4889     0.9252        133        640: 100%|██████████| 2336/2336 [07:27<00:00,  5.22it/s]\n",
      "    123/150      4.95G     0.8107     0.4889     0.9252        133        640: 100%|██████████| 2336/2336 [07:27<00:00,  5.22it/s]\n",
      "                 Class     Images  Instances      Box(P          R      mAP50  mAP50-95): 100%|██████████| 207/207 [00:50<00:00,  4.06it/s]\n",
      "                 Class     Images  Instances      Box(P          R      mAP50  mAP50-95): 100%|██████████| 207/207 [00:50<00:00,  4.06it/s]\n"
     ]
    },
    {
     "name": "stdout",
     "output_type": "stream",
     "text": [
      "                   all      13190      48226      0.823      0.751      0.829      0.635\n",
      "\n",
      "      Epoch    GPU_mem   box_loss   cls_loss   dfl_loss  Instances       Size\n",
      "\n",
      "      Epoch    GPU_mem   box_loss   cls_loss   dfl_loss  Instances       Size\n"
     ]
    },
    {
     "name": "stderr",
     "output_type": "stream",
     "text": [
      "    124/150      4.85G     0.8074     0.4845     0.9234        137        640: 100%|██████████| 2336/2336 [07:27<00:00,  5.22it/s]\n",
      "    124/150      4.85G     0.8074     0.4845     0.9234        137        640: 100%|██████████| 2336/2336 [07:27<00:00,  5.22it/s]\n",
      "                 Class     Images  Instances      Box(P          R      mAP50  mAP50-95): 100%|██████████| 207/207 [00:51<00:00,  4.02it/s]\n",
      "                 Class     Images  Instances      Box(P          R      mAP50  mAP50-95): 100%|██████████| 207/207 [00:51<00:00,  4.02it/s]\n"
     ]
    },
    {
     "name": "stdout",
     "output_type": "stream",
     "text": [
      "                   all      13190      48226      0.823      0.752      0.829      0.634\n",
      "\n",
      "      Epoch    GPU_mem   box_loss   cls_loss   dfl_loss  Instances       Size\n",
      "\n",
      "      Epoch    GPU_mem   box_loss   cls_loss   dfl_loss  Instances       Size\n"
     ]
    },
    {
     "name": "stderr",
     "output_type": "stream",
     "text": [
      "    125/150      4.92G     0.8077     0.4832     0.9227        105        640: 100%|██████████| 2336/2336 [07:27<00:00,  5.22it/s]\n",
      "    125/150      4.92G     0.8077     0.4832     0.9227        105        640: 100%|██████████| 2336/2336 [07:27<00:00,  5.22it/s]\n",
      "                 Class     Images  Instances      Box(P          R      mAP50  mAP50-95): 100%|██████████| 207/207 [00:51<00:00,  4.02it/s]\n",
      "                 Class     Images  Instances      Box(P          R      mAP50  mAP50-95): 100%|██████████| 207/207 [00:51<00:00,  4.02it/s]\n"
     ]
    },
    {
     "name": "stdout",
     "output_type": "stream",
     "text": [
      "                   all      13190      48226      0.826       0.75      0.829      0.635\n",
      "\n",
      "      Epoch    GPU_mem   box_loss   cls_loss   dfl_loss  Instances       Size\n",
      "\n",
      "      Epoch    GPU_mem   box_loss   cls_loss   dfl_loss  Instances       Size\n"
     ]
    },
    {
     "name": "stderr",
     "output_type": "stream",
     "text": [
      "    126/150      4.87G     0.8055     0.4806     0.9228        126        640: 100%|██████████| 2336/2336 [07:28<00:00,  5.21it/s]\n",
      "    126/150      4.87G     0.8055     0.4806     0.9228        126        640: 100%|██████████| 2336/2336 [07:28<00:00,  5.21it/s]\n",
      "                 Class     Images  Instances      Box(P          R      mAP50  mAP50-95): 100%|██████████| 207/207 [00:51<00:00,  3.99it/s]\n",
      "                 Class     Images  Instances      Box(P          R      mAP50  mAP50-95): 100%|██████████| 207/207 [00:51<00:00,  3.99it/s]\n"
     ]
    },
    {
     "name": "stdout",
     "output_type": "stream",
     "text": [
      "                   all      13190      48226      0.824      0.753      0.829      0.635\n",
      "\n",
      "      Epoch    GPU_mem   box_loss   cls_loss   dfl_loss  Instances       Size\n",
      "\n",
      "      Epoch    GPU_mem   box_loss   cls_loss   dfl_loss  Instances       Size\n"
     ]
    },
    {
     "name": "stderr",
     "output_type": "stream",
     "text": [
      "    127/150      4.79G      0.805     0.4798     0.9215        109        640: 100%|██████████| 2336/2336 [07:28<00:00,  5.21it/s]\n",
      "    127/150      4.79G      0.805     0.4798     0.9215        109        640: 100%|██████████| 2336/2336 [07:28<00:00,  5.21it/s]\n",
      "                 Class     Images  Instances      Box(P          R      mAP50  mAP50-95): 100%|██████████| 207/207 [00:51<00:00,  4.01it/s]\n",
      "                 Class     Images  Instances      Box(P          R      mAP50  mAP50-95): 100%|██████████| 207/207 [00:51<00:00,  4.01it/s]\n"
     ]
    },
    {
     "name": "stdout",
     "output_type": "stream",
     "text": [
      "                   all      13190      48226      0.824      0.755      0.829      0.635\n",
      "\n",
      "      Epoch    GPU_mem   box_loss   cls_loss   dfl_loss  Instances       Size\n",
      "\n",
      "      Epoch    GPU_mem   box_loss   cls_loss   dfl_loss  Instances       Size\n"
     ]
    },
    {
     "name": "stderr",
     "output_type": "stream",
     "text": [
      "    128/150      4.96G     0.8027     0.4777     0.9225        119        640: 100%|██████████| 2336/2336 [07:28<00:00,  5.21it/s]\n",
      "    128/150      4.96G     0.8027     0.4777     0.9225        119        640: 100%|██████████| 2336/2336 [07:28<00:00,  5.21it/s]\n",
      "                 Class     Images  Instances      Box(P          R      mAP50  mAP50-95): 100%|██████████| 207/207 [00:51<00:00,  4.04it/s]\n",
      "                 Class     Images  Instances      Box(P          R      mAP50  mAP50-95): 100%|██████████| 207/207 [00:51<00:00,  4.04it/s]\n"
     ]
    },
    {
     "name": "stdout",
     "output_type": "stream",
     "text": [
      "                   all      13190      48226      0.827      0.753      0.829      0.634\n",
      "\n",
      "      Epoch    GPU_mem   box_loss   cls_loss   dfl_loss  Instances       Size\n",
      "\n",
      "      Epoch    GPU_mem   box_loss   cls_loss   dfl_loss  Instances       Size\n"
     ]
    },
    {
     "name": "stderr",
     "output_type": "stream",
     "text": [
      "    129/150      4.85G     0.8005     0.4754     0.9213        114        640: 100%|██████████| 2336/2336 [07:28<00:00,  5.21it/s]\n",
      "    129/150      4.85G     0.8005     0.4754     0.9213        114        640: 100%|██████████| 2336/2336 [07:28<00:00,  5.21it/s]\n",
      "                 Class     Images  Instances      Box(P          R      mAP50  mAP50-95): 100%|██████████| 207/207 [00:51<00:00,  4.01it/s]\n",
      "                 Class     Images  Instances      Box(P          R      mAP50  mAP50-95): 100%|██████████| 207/207 [00:51<00:00,  4.01it/s]\n"
     ]
    },
    {
     "name": "stdout",
     "output_type": "stream",
     "text": [
      "                   all      13190      48226      0.825      0.755      0.829      0.635\n",
      "\n",
      "      Epoch    GPU_mem   box_loss   cls_loss   dfl_loss  Instances       Size\n",
      "\n",
      "      Epoch    GPU_mem   box_loss   cls_loss   dfl_loss  Instances       Size\n"
     ]
    },
    {
     "name": "stderr",
     "output_type": "stream",
     "text": [
      "    130/150      4.91G     0.8011     0.4736     0.9218        121        640: 100%|██████████| 2336/2336 [07:28<00:00,  5.21it/s]\n",
      "    130/150      4.91G     0.8011     0.4736     0.9218        121        640: 100%|██████████| 2336/2336 [07:28<00:00,  5.21it/s]\n",
      "                 Class     Images  Instances      Box(P          R      mAP50  mAP50-95): 100%|██████████| 207/207 [00:51<00:00,  4.02it/s]\n",
      "                 Class     Images  Instances      Box(P          R      mAP50  mAP50-95): 100%|██████████| 207/207 [00:51<00:00,  4.02it/s]\n"
     ]
    },
    {
     "name": "stdout",
     "output_type": "stream",
     "text": [
      "                   all      13190      48226      0.827      0.754      0.829      0.634\n",
      "\n",
      "      Epoch    GPU_mem   box_loss   cls_loss   dfl_loss  Instances       Size\n",
      "\n",
      "      Epoch    GPU_mem   box_loss   cls_loss   dfl_loss  Instances       Size\n"
     ]
    },
    {
     "name": "stderr",
     "output_type": "stream",
     "text": [
      "    131/150      4.97G     0.7984     0.4722     0.9197        159        640: 100%|██████████| 2336/2336 [07:28<00:00,  5.21it/s]\n",
      "    131/150      4.97G     0.7984     0.4722     0.9197        159        640: 100%|██████████| 2336/2336 [07:28<00:00,  5.21it/s]\n",
      "                 Class     Images  Instances      Box(P          R      mAP50  mAP50-95): 100%|██████████| 207/207 [00:51<00:00,  3.99it/s]\n",
      "                 Class     Images  Instances      Box(P          R      mAP50  mAP50-95): 100%|██████████| 207/207 [00:51<00:00,  3.99it/s]\n"
     ]
    },
    {
     "name": "stdout",
     "output_type": "stream",
     "text": [
      "                   all      13190      48226      0.831       0.75      0.829      0.635\n",
      "\n",
      "      Epoch    GPU_mem   box_loss   cls_loss   dfl_loss  Instances       Size\n",
      "\n",
      "      Epoch    GPU_mem   box_loss   cls_loss   dfl_loss  Instances       Size\n"
     ]
    },
    {
     "name": "stderr",
     "output_type": "stream",
     "text": [
      "    132/150      4.93G     0.7962     0.4689     0.9201        145        640: 100%|██████████| 2336/2336 [07:28<00:00,  5.21it/s]\n",
      "    132/150      4.93G     0.7962     0.4689     0.9201        145        640: 100%|██████████| 2336/2336 [07:28<00:00,  5.21it/s]\n",
      "                 Class     Images  Instances      Box(P          R      mAP50  mAP50-95): 100%|██████████| 207/207 [00:51<00:00,  4.01it/s]\n",
      "                 Class     Images  Instances      Box(P          R      mAP50  mAP50-95): 100%|██████████| 207/207 [00:51<00:00,  4.01it/s]\n"
     ]
    },
    {
     "name": "stdout",
     "output_type": "stream",
     "text": [
      "                   all      13190      48226      0.828      0.752      0.829      0.635\n",
      "\n",
      "      Epoch    GPU_mem   box_loss   cls_loss   dfl_loss  Instances       Size\n",
      "\n",
      "      Epoch    GPU_mem   box_loss   cls_loss   dfl_loss  Instances       Size\n"
     ]
    },
    {
     "name": "stderr",
     "output_type": "stream",
     "text": [
      "    133/150      4.89G     0.7984     0.4706     0.9207        149        640: 100%|██████████| 2336/2336 [07:28<00:00,  5.21it/s]\n",
      "    133/150      4.89G     0.7984     0.4706     0.9207        149        640: 100%|██████████| 2336/2336 [07:28<00:00,  5.21it/s]\n",
      "                 Class     Images  Instances      Box(P          R      mAP50  mAP50-95): 100%|██████████| 207/207 [00:51<00:00,  4.02it/s]\n",
      "                 Class     Images  Instances      Box(P          R      mAP50  mAP50-95): 100%|██████████| 207/207 [00:51<00:00,  4.02it/s]\n"
     ]
    },
    {
     "name": "stdout",
     "output_type": "stream",
     "text": [
      "                   all      13190      48226      0.825      0.755      0.829      0.635\n",
      "\n",
      "      Epoch    GPU_mem   box_loss   cls_loss   dfl_loss  Instances       Size\n",
      "\n",
      "      Epoch    GPU_mem   box_loss   cls_loss   dfl_loss  Instances       Size\n"
     ]
    },
    {
     "name": "stderr",
     "output_type": "stream",
     "text": [
      "    134/150      4.84G     0.7943     0.4675     0.9194        107        640: 100%|██████████| 2336/2336 [07:27<00:00,  5.22it/s]\n",
      "    134/150      4.84G     0.7943     0.4675     0.9194        107        640: 100%|██████████| 2336/2336 [07:27<00:00,  5.22it/s]\n",
      "                 Class     Images  Instances      Box(P          R      mAP50  mAP50-95): 100%|██████████| 207/207 [00:51<00:00,  3.99it/s]\n",
      "                 Class     Images  Instances      Box(P          R      mAP50  mAP50-95): 100%|██████████| 207/207 [00:51<00:00,  3.99it/s]\n"
     ]
    },
    {
     "name": "stdout",
     "output_type": "stream",
     "text": [
      "                   all      13190      48226      0.827      0.755      0.829      0.635\n",
      "\n",
      "      Epoch    GPU_mem   box_loss   cls_loss   dfl_loss  Instances       Size\n",
      "\n",
      "      Epoch    GPU_mem   box_loss   cls_loss   dfl_loss  Instances       Size\n"
     ]
    },
    {
     "name": "stderr",
     "output_type": "stream",
     "text": [
      "    135/150       4.8G     0.7951     0.4669     0.9187        132        640: 100%|██████████| 2336/2336 [07:27<00:00,  5.22it/s]\n",
      "    135/150       4.8G     0.7951     0.4669     0.9187        132        640: 100%|██████████| 2336/2336 [07:27<00:00,  5.22it/s]\n",
      "                 Class     Images  Instances      Box(P          R      mAP50  mAP50-95): 100%|██████████| 207/207 [00:51<00:00,  3.99it/s]\n",
      "                 Class     Images  Instances      Box(P          R      mAP50  mAP50-95): 100%|██████████| 207/207 [00:51<00:00,  3.99it/s]\n"
     ]
    },
    {
     "name": "stdout",
     "output_type": "stream",
     "text": [
      "                   all      13190      48226      0.827      0.755      0.829      0.635\n",
      "\n",
      "      Epoch    GPU_mem   box_loss   cls_loss   dfl_loss  Instances       Size\n",
      "\n",
      "      Epoch    GPU_mem   box_loss   cls_loss   dfl_loss  Instances       Size\n"
     ]
    },
    {
     "name": "stderr",
     "output_type": "stream",
     "text": [
      "    136/150      4.89G     0.7933     0.4657     0.9176        127        640: 100%|██████████| 2336/2336 [07:28<00:00,  5.21it/s]\n",
      "    136/150      4.89G     0.7933     0.4657     0.9176        127        640: 100%|██████████| 2336/2336 [07:28<00:00,  5.21it/s]\n",
      "                 Class     Images  Instances      Box(P          R      mAP50  mAP50-95): 100%|██████████| 207/207 [00:51<00:00,  4.00it/s]\n",
      "                 Class     Images  Instances      Box(P          R      mAP50  mAP50-95): 100%|██████████| 207/207 [00:51<00:00,  4.00it/s]\n"
     ]
    },
    {
     "name": "stdout",
     "output_type": "stream",
     "text": [
      "                   all      13190      48226      0.829      0.753      0.829      0.635\n",
      "\n",
      "      Epoch    GPU_mem   box_loss   cls_loss   dfl_loss  Instances       Size\n",
      "\n",
      "      Epoch    GPU_mem   box_loss   cls_loss   dfl_loss  Instances       Size\n"
     ]
    },
    {
     "name": "stderr",
     "output_type": "stream",
     "text": [
      "    137/150      4.92G     0.7917     0.4643     0.9186        153        640: 100%|██████████| 2336/2336 [07:27<00:00,  5.21it/s]\n",
      "    137/150      4.92G     0.7917     0.4643     0.9186        153        640: 100%|██████████| 2336/2336 [07:27<00:00,  5.21it/s]\n",
      "                 Class     Images  Instances      Box(P          R      mAP50  mAP50-95): 100%|██████████| 207/207 [00:51<00:00,  4.01it/s]\n",
      "                 Class     Images  Instances      Box(P          R      mAP50  mAP50-95): 100%|██████████| 207/207 [00:51<00:00,  4.01it/s]\n"
     ]
    },
    {
     "name": "stdout",
     "output_type": "stream",
     "text": [
      "                   all      13190      48226      0.833      0.751      0.829      0.635\n",
      "\n",
      "      Epoch    GPU_mem   box_loss   cls_loss   dfl_loss  Instances       Size\n",
      "\n",
      "      Epoch    GPU_mem   box_loss   cls_loss   dfl_loss  Instances       Size\n"
     ]
    },
    {
     "name": "stderr",
     "output_type": "stream",
     "text": [
      "    138/150      4.82G     0.7926     0.4622     0.9178        127        640: 100%|██████████| 2336/2336 [07:28<00:00,  5.21it/s]\n",
      "    138/150      4.82G     0.7926     0.4622     0.9178        127        640: 100%|██████████| 2336/2336 [07:28<00:00,  5.21it/s]\n",
      "                 Class     Images  Instances      Box(P          R      mAP50  mAP50-95): 100%|██████████| 207/207 [00:51<00:00,  4.02it/s]\n",
      "                 Class     Images  Instances      Box(P          R      mAP50  mAP50-95): 100%|██████████| 207/207 [00:51<00:00,  4.02it/s]\n"
     ]
    },
    {
     "name": "stdout",
     "output_type": "stream",
     "text": [
      "                   all      13190      48226      0.832       0.75       0.83      0.635\n",
      "\n",
      "      Epoch    GPU_mem   box_loss   cls_loss   dfl_loss  Instances       Size\n",
      "\n",
      "      Epoch    GPU_mem   box_loss   cls_loss   dfl_loss  Instances       Size\n"
     ]
    },
    {
     "name": "stderr",
     "output_type": "stream",
     "text": [
      "    139/150       4.9G     0.7943     0.4619     0.9176        142        640: 100%|██████████| 2336/2336 [07:27<00:00,  5.22it/s]\n",
      "    139/150       4.9G     0.7943     0.4619     0.9176        142        640: 100%|██████████| 2336/2336 [07:27<00:00,  5.22it/s]\n",
      "                 Class     Images  Instances      Box(P          R      mAP50  mAP50-95): 100%|██████████| 207/207 [00:51<00:00,  4.02it/s]\n",
      "                 Class     Images  Instances      Box(P          R      mAP50  mAP50-95): 100%|██████████| 207/207 [00:51<00:00,  4.02it/s]\n"
     ]
    },
    {
     "name": "stdout",
     "output_type": "stream",
     "text": [
      "                   all      13190      48226      0.834      0.749       0.83      0.635\n",
      "\n",
      "      Epoch    GPU_mem   box_loss   cls_loss   dfl_loss  Instances       Size\n",
      "\n",
      "      Epoch    GPU_mem   box_loss   cls_loss   dfl_loss  Instances       Size\n"
     ]
    },
    {
     "name": "stderr",
     "output_type": "stream",
     "text": [
      "    140/150      4.91G     0.7906     0.4595     0.9175         96        640: 100%|██████████| 2336/2336 [07:28<00:00,  5.21it/s]\n",
      "    140/150      4.91G     0.7906     0.4595     0.9175         96        640: 100%|██████████| 2336/2336 [07:28<00:00,  5.21it/s]\n",
      "                 Class     Images  Instances      Box(P          R      mAP50  mAP50-95): 100%|██████████| 207/207 [00:51<00:00,  4.03it/s]\n",
      "                 Class     Images  Instances      Box(P          R      mAP50  mAP50-95): 100%|██████████| 207/207 [00:51<00:00,  4.03it/s]\n"
     ]
    },
    {
     "name": "stdout",
     "output_type": "stream",
     "text": [
      "                   all      13190      48226      0.835      0.749       0.83      0.635\n",
      "Closing dataloader mosaic\n",
      "Closing dataloader mosaic\n",
      "\n",
      "      Epoch    GPU_mem   box_loss   cls_loss   dfl_loss  Instances       Size\n",
      "\n",
      "      Epoch    GPU_mem   box_loss   cls_loss   dfl_loss  Instances       Size\n"
     ]
    },
    {
     "name": "stderr",
     "output_type": "stream",
     "text": [
      "    141/150      4.84G     0.7596     0.3901     0.8904         66        640: 100%|██████████| 2336/2336 [07:21<00:00,  5.29it/s]\n",
      "    141/150      4.84G     0.7596     0.3901     0.8904         66        640: 100%|██████████| 2336/2336 [07:21<00:00,  5.29it/s]\n",
      "                 Class     Images  Instances      Box(P          R      mAP50  mAP50-95): 100%|██████████| 207/207 [00:52<00:00,  3.92it/s]\n",
      "                 Class     Images  Instances      Box(P          R      mAP50  mAP50-95): 100%|██████████| 207/207 [00:52<00:00,  3.92it/s]\n"
     ]
    },
    {
     "name": "stdout",
     "output_type": "stream",
     "text": [
      "                   all      13190      48226      0.832      0.749       0.83      0.636\n",
      "\n",
      "      Epoch    GPU_mem   box_loss   cls_loss   dfl_loss  Instances       Size\n",
      "\n",
      "      Epoch    GPU_mem   box_loss   cls_loss   dfl_loss  Instances       Size\n"
     ]
    },
    {
     "name": "stderr",
     "output_type": "stream",
     "text": [
      "    142/150      4.69G     0.7566     0.3861     0.8892         71        640: 100%|██████████| 2336/2336 [07:22<00:00,  5.28it/s]\n",
      "    142/150      4.69G     0.7566     0.3861     0.8892         71        640: 100%|██████████| 2336/2336 [07:22<00:00,  5.28it/s]\n",
      "                 Class     Images  Instances      Box(P          R      mAP50  mAP50-95): 100%|██████████| 207/207 [00:51<00:00,  4.01it/s]\n",
      "                 Class     Images  Instances      Box(P          R      mAP50  mAP50-95): 100%|██████████| 207/207 [00:51<00:00,  4.01it/s]\n"
     ]
    },
    {
     "name": "stdout",
     "output_type": "stream",
     "text": [
      "                   all      13190      48226       0.83       0.75       0.83      0.636\n",
      "\n",
      "      Epoch    GPU_mem   box_loss   cls_loss   dfl_loss  Instances       Size\n",
      "\n",
      "      Epoch    GPU_mem   box_loss   cls_loss   dfl_loss  Instances       Size\n"
     ]
    },
    {
     "name": "stderr",
     "output_type": "stream",
     "text": [
      "    143/150       4.6G     0.7548     0.3835     0.8888         64        640: 100%|██████████| 2336/2336 [07:22<00:00,  5.28it/s]\n",
      "    143/150       4.6G     0.7548     0.3835     0.8888         64        640: 100%|██████████| 2336/2336 [07:22<00:00,  5.28it/s]\n",
      "                 Class     Images  Instances      Box(P          R      mAP50  mAP50-95): 100%|██████████| 207/207 [00:51<00:00,  3.99it/s]\n",
      "                 Class     Images  Instances      Box(P          R      mAP50  mAP50-95): 100%|██████████| 207/207 [00:51<00:00,  3.99it/s]\n"
     ]
    },
    {
     "name": "stdout",
     "output_type": "stream",
     "text": [
      "                   all      13190      48226      0.827      0.752       0.83      0.637\n",
      "\n",
      "      Epoch    GPU_mem   box_loss   cls_loss   dfl_loss  Instances       Size\n",
      "\n",
      "      Epoch    GPU_mem   box_loss   cls_loss   dfl_loss  Instances       Size\n"
     ]
    },
    {
     "name": "stderr",
     "output_type": "stream",
     "text": [
      "    144/150      4.58G     0.7527     0.3816     0.8863         48        640: 100%|██████████| 2336/2336 [07:22<00:00,  5.28it/s]\n",
      "    144/150      4.58G     0.7527     0.3816     0.8863         48        640: 100%|██████████| 2336/2336 [07:22<00:00,  5.28it/s]\n",
      "                 Class     Images  Instances      Box(P          R      mAP50  mAP50-95): 100%|██████████| 207/207 [00:51<00:00,  4.01it/s]\n",
      "                 Class     Images  Instances      Box(P          R      mAP50  mAP50-95): 100%|██████████| 207/207 [00:51<00:00,  4.01it/s]\n"
     ]
    },
    {
     "name": "stdout",
     "output_type": "stream",
     "text": [
      "                   all      13190      48226      0.828      0.754       0.83      0.637\n",
      "\n",
      "      Epoch    GPU_mem   box_loss   cls_loss   dfl_loss  Instances       Size\n",
      "\n",
      "      Epoch    GPU_mem   box_loss   cls_loss   dfl_loss  Instances       Size\n"
     ]
    },
    {
     "name": "stderr",
     "output_type": "stream",
     "text": [
      "    145/150      4.68G     0.7511     0.3809     0.8864         91        640: 100%|██████████| 2336/2336 [07:16<00:00,  5.35it/s]\n",
      "    145/150      4.68G     0.7511     0.3809     0.8864         91        640: 100%|██████████| 2336/2336 [07:16<00:00,  5.35it/s]\n",
      "                 Class     Images  Instances      Box(P          R      mAP50  mAP50-95): 100%|██████████| 207/207 [00:51<00:00,  3.99it/s]\n",
      "                 Class     Images  Instances      Box(P          R      mAP50  mAP50-95): 100%|██████████| 207/207 [00:51<00:00,  3.99it/s]\n"
     ]
    },
    {
     "name": "stdout",
     "output_type": "stream",
     "text": [
      "                   all      13190      48226      0.827      0.753       0.83      0.637\n",
      "\n",
      "      Epoch    GPU_mem   box_loss   cls_loss   dfl_loss  Instances       Size\n",
      "\n",
      "      Epoch    GPU_mem   box_loss   cls_loss   dfl_loss  Instances       Size\n"
     ]
    },
    {
     "name": "stderr",
     "output_type": "stream",
     "text": [
      "    146/150       4.6G     0.7504     0.3796     0.8879         75        640: 100%|██████████| 2336/2336 [07:22<00:00,  5.27it/s]\n",
      "    146/150       4.6G     0.7504     0.3796     0.8879         75        640: 100%|██████████| 2336/2336 [07:22<00:00,  5.27it/s]\n",
      "                 Class     Images  Instances      Box(P          R      mAP50  mAP50-95): 100%|██████████| 207/207 [00:50<00:00,  4.08it/s]\n",
      "                 Class     Images  Instances      Box(P          R      mAP50  mAP50-95): 100%|██████████| 207/207 [00:50<00:00,  4.08it/s]\n"
     ]
    },
    {
     "name": "stdout",
     "output_type": "stream",
     "text": [
      "                   all      13190      48226      0.828      0.752       0.83      0.638\n",
      "\n",
      "      Epoch    GPU_mem   box_loss   cls_loss   dfl_loss  Instances       Size\n",
      "\n",
      "      Epoch    GPU_mem   box_loss   cls_loss   dfl_loss  Instances       Size\n"
     ]
    },
    {
     "name": "stderr",
     "output_type": "stream",
     "text": [
      "    147/150      4.67G     0.7503     0.3783     0.8868         69        640: 100%|██████████| 2336/2336 [07:17<00:00,  5.34it/s]\n",
      "    147/150      4.67G     0.7503     0.3783     0.8868         69        640: 100%|██████████| 2336/2336 [07:17<00:00,  5.34it/s]\n",
      "                 Class     Images  Instances      Box(P          R      mAP50  mAP50-95): 100%|██████████| 207/207 [00:51<00:00,  4.01it/s]\n",
      "                 Class     Images  Instances      Box(P          R      mAP50  mAP50-95): 100%|██████████| 207/207 [00:51<00:00,  4.01it/s]\n"
     ]
    },
    {
     "name": "stdout",
     "output_type": "stream",
     "text": [
      "                   all      13190      48226      0.828      0.751       0.83      0.638\n",
      "\n",
      "      Epoch    GPU_mem   box_loss   cls_loss   dfl_loss  Instances       Size\n",
      "\n",
      "      Epoch    GPU_mem   box_loss   cls_loss   dfl_loss  Instances       Size\n"
     ]
    },
    {
     "name": "stderr",
     "output_type": "stream",
     "text": [
      "    148/150      4.67G     0.7503      0.378     0.8875         58        640: 100%|██████████| 2336/2336 [07:22<00:00,  5.28it/s]\n",
      "    148/150      4.67G     0.7503      0.378     0.8875         58        640: 100%|██████████| 2336/2336 [07:22<00:00,  5.28it/s]\n",
      "                 Class     Images  Instances      Box(P          R      mAP50  mAP50-95): 100%|██████████| 207/207 [00:51<00:00,  4.01it/s]\n",
      "                 Class     Images  Instances      Box(P          R      mAP50  mAP50-95): 100%|██████████| 207/207 [00:51<00:00,  4.01it/s]\n"
     ]
    },
    {
     "name": "stdout",
     "output_type": "stream",
     "text": [
      "                   all      13190      48226      0.828      0.751       0.83      0.638\n",
      "\n",
      "      Epoch    GPU_mem   box_loss   cls_loss   dfl_loss  Instances       Size\n",
      "\n",
      "      Epoch    GPU_mem   box_loss   cls_loss   dfl_loss  Instances       Size\n"
     ]
    },
    {
     "name": "stderr",
     "output_type": "stream",
     "text": [
      "    149/150      4.67G     0.7487     0.3773     0.8874         55        640: 100%|██████████| 2336/2336 [07:20<00:00,  5.30it/s]\n",
      "    149/150      4.67G     0.7487     0.3773     0.8874         55        640: 100%|██████████| 2336/2336 [07:20<00:00,  5.30it/s]\n",
      "                 Class     Images  Instances      Box(P          R      mAP50  mAP50-95): 100%|██████████| 207/207 [00:48<00:00,  4.29it/s]\n",
      "                 Class     Images  Instances      Box(P          R      mAP50  mAP50-95): 100%|██████████| 207/207 [00:48<00:00,  4.29it/s]\n"
     ]
    },
    {
     "name": "stdout",
     "output_type": "stream",
     "text": [
      "                   all      13190      48226       0.83      0.748       0.83      0.638\n",
      "\n",
      "      Epoch    GPU_mem   box_loss   cls_loss   dfl_loss  Instances       Size\n",
      "\n",
      "      Epoch    GPU_mem   box_loss   cls_loss   dfl_loss  Instances       Size\n"
     ]
    },
    {
     "name": "stderr",
     "output_type": "stream",
     "text": [
      "    150/150      4.67G     0.7489     0.3768     0.8876         90        640: 100%|██████████| 2336/2336 [07:20<00:00,  5.31it/s]\n",
      "    150/150      4.67G     0.7489     0.3768     0.8876         90        640: 100%|██████████| 2336/2336 [07:20<00:00,  5.31it/s]\n",
      "                 Class     Images  Instances      Box(P          R      mAP50  mAP50-95): 100%|██████████| 207/207 [00:47<00:00,  4.36it/s]\n",
      "                 Class     Images  Instances      Box(P          R      mAP50  mAP50-95): 100%|██████████| 207/207 [00:47<00:00,  4.36it/s]\n"
     ]
    },
    {
     "name": "stdout",
     "output_type": "stream",
     "text": [
      "                   all      13190      48226      0.832      0.748       0.83      0.638\n",
      "\n",
      "150 epochs completed in 20.827 hours.\n",
      "\n",
      "150 epochs completed in 20.827 hours.\n",
      "Optimizer stripped from yolo_l3_base\\20250831_1201302\\weights\\last.pt, 5.5MB\n",
      "Optimizer stripped from yolo_l3_base\\20250831_1201302\\weights\\last.pt, 5.5MB\n",
      "Optimizer stripped from yolo_l3_base\\20250831_1201302\\weights\\best.pt, 5.5MB\n",
      "\n",
      "Validating yolo_l3_base\\20250831_1201302\\weights\\best.pt...\n",
      "Ultralytics 8.3.0  Python-3.10.18 torch-2.5.1 CUDA:0 (NVIDIA GeForce RTX 3060 Ti, 8192MiB)\n",
      "Optimizer stripped from yolo_l3_base\\20250831_1201302\\weights\\best.pt, 5.5MB\n",
      "\n",
      "Validating yolo_l3_base\\20250831_1201302\\weights\\best.pt...\n",
      "Ultralytics 8.3.0  Python-3.10.18 torch-2.5.1 CUDA:0 (NVIDIA GeForce RTX 3060 Ti, 8192MiB)\n",
      "YOLO11n summary (fused): 238 layers, 2,583,712 parameters, 0 gradients, 6.3 GFLOPs\n",
      "YOLO11n summary (fused): 238 layers, 2,583,712 parameters, 0 gradients, 6.3 GFLOPs\n"
     ]
    },
    {
     "name": "stderr",
     "output_type": "stream",
     "text": [
      "                 Class     Images  Instances      Box(P          R      mAP50  mAP50-95): 100%|██████████| 207/207 [00:55<00:00,  3.71it/s]\n",
      "                 Class     Images  Instances      Box(P          R      mAP50  mAP50-95): 100%|██████████| 207/207 [00:55<00:00,  3.71it/s]\n"
     ]
    },
    {
     "name": "stdout",
     "output_type": "stream",
     "text": [
      "                   all      13190      48226      0.828      0.751       0.83      0.638\n",
      "                   bus       1641       1918      0.883      0.938      0.963      0.878\n",
      "              work_van       2133       2344      0.823      0.526      0.697      0.549\n",
      "     single_unit_truck       1771       1872      0.748      0.628      0.728      0.549\n",
      "          pickup_truck       4382       6490      0.838      0.838      0.886      0.718\n",
      "     articulated_truck       1693       1873       0.86      0.821      0.889      0.716\n",
      "                   car      12563      33160      0.863      0.891      0.934      0.699\n",
      "            motorcycle        258        277      0.894      0.671      0.781      0.494\n",
      "               bicycle        237        292      0.712      0.692      0.762        0.5\n",
      "                   bus       1641       1918      0.883      0.938      0.963      0.878\n",
      "              work_van       2133       2344      0.823      0.526      0.697      0.549\n",
      "     single_unit_truck       1771       1872      0.748      0.628      0.728      0.549\n",
      "          pickup_truck       4382       6490      0.838      0.838      0.886      0.718\n",
      "     articulated_truck       1693       1873       0.86      0.821      0.889      0.716\n",
      "                   car      12563      33160      0.863      0.891      0.934      0.699\n",
      "            motorcycle        258        277      0.894      0.671      0.781      0.494\n",
      "               bicycle        237        292      0.712      0.692      0.762        0.5\n",
      "Speed: 0.1ms preprocess, 0.8ms inference, 0.0ms loss, 0.7ms postprocess per image\n",
      "Results saved to \u001b[1myolo_l3_base\\20250831_1201302\u001b[0m\n",
      "Speed: 0.1ms preprocess, 0.8ms inference, 0.0ms loss, 0.7ms postprocess per image\n",
      "Results saved to \u001b[1myolo_l3_base\\20250831_1201302\u001b[0m\n"
     ]
    },
    {
     "data": {
      "text/html": [],
      "text/plain": [
       "<IPython.core.display.HTML object>"
      ]
     },
     "metadata": {},
     "output_type": "display_data"
    },
    {
     "data": {
      "text/html": [
       "<br>    <style><br>        .wandb-row {<br>            display: flex;<br>            flex-direction: row;<br>            flex-wrap: wrap;<br>            justify-content: flex-start;<br>            width: 100%;<br>        }<br>        .wandb-col {<br>            display: flex;<br>            flex-direction: column;<br>            flex-basis: 100%;<br>            flex: 1;<br>            padding: 10px;<br>        }<br>    </style><br><div class=\"wandb-row\"><div class=\"wandb-col\"><h3>Run history:</h3><br/><table class=\"wandb\"><tr><td>lr/pg0</td><td>███████▇▆▆▆▆▆▆▅▅▅▅▄▄▄▄▃▃▃▂▂▂▂▂▂▂▂▁▁▁▁▁▁▁</td></tr><tr><td>lr/pg1</td><td>▃▆██████▇▇▇▇▇▇▇▆▆▆▆▅▅▅▅▄▄▄▄▃▃▃▂▂▂▂▁▁▁▁▁▁</td></tr><tr><td>lr/pg2</td><td>▃█████████▇▇▇▇▇▆▆▅▅▅▅▄▄▄▃▃▃▃▃▂▂▂▂▁▁▁▁▁▁▁</td></tr><tr><td>metrics/mAP50(B)</td><td>▁▃▅▆▆▇▇▇▇▇▇▇▇▇▇▇████████████████████████</td></tr><tr><td>metrics/mAP50-95(B)</td><td>▁▅▆▆▆▇▇▇▇▇▇▇▇▇▇▇▇▇██████████████████████</td></tr><tr><td>metrics/precision(B)</td><td>▁▄▅▅▅▅▅▅▅▆▆▆▆▆▆▆▆▅▆▆▇▇▇▇▇▇▇▇▇███████████</td></tr><tr><td>metrics/recall(B)</td><td>▁▃▂▄▇▇▇▇▇▇▇▇▇▇▇█▇▇██████████████████████</td></tr><tr><td>model/GFLOPs</td><td>▁</td></tr><tr><td>model/parameters</td><td>▁</td></tr><tr><td>model/speed_PyTorch(ms)</td><td>▁</td></tr><tr><td>train/box_loss</td><td>█▆▆▅▅▅▅▅▅▅▄▄▄▄▄▄▄▄▄▄▄▃▃▃▃▃▃▃▃▃▃▂▂▂▂▂▂▂▁▁</td></tr><tr><td>train/cls_loss</td><td>█▄▄▃▃▃▃▂▂▂▂▂▂▂▂▂▂▂▂▂▂▂▂▂▂▂▂▂▂▂▂▂▂▂▂▁▁▁▁▁</td></tr><tr><td>train/dfl_loss</td><td>█▆▆▄▄▄▄▄▄▄▄▄▄▄▄▃▄▃▃▃▃▃▃▃▃▃▃▃▃▃▃▃▂▂▃▂▂▂▁▁</td></tr><tr><td>val/box_loss</td><td>█▆▅▅▅▄▄▄▄▄▃▃▃▃▃▃▃▃▂▂▂▂▂▂▂▂▂▂▂▂▂▂▂▂▂▂▂▂▂▁</td></tr><tr><td>val/cls_loss</td><td>█▃▃▃▃▃▃▃▃▂▂▂▂▂▂▂▂▂▂▂▂▂▁▁▁▁▁▁▁▁▁▁▁▁▁▁▁▁▁▁</td></tr><tr><td>val/dfl_loss</td><td>█▆▅▅▄▃▃▃▃▃▃▃▃▃▃▂▂▂▂▂▂▂▂▂▂▂▁▁▁▁▁▁▁▁▁▁▁▁▁▁</td></tr></table><br/></div><div class=\"wandb-col\"><h3>Run summary:</h3><br/><table class=\"wandb\"><tr><td>lr/pg0</td><td>0.0001</td></tr><tr><td>lr/pg1</td><td>0.0001</td></tr><tr><td>lr/pg2</td><td>0.0001</td></tr><tr><td>metrics/mAP50(B)</td><td>0.82979</td></tr><tr><td>metrics/mAP50-95(B)</td><td>0.63802</td></tr><tr><td>metrics/precision(B)</td><td>0.82756</td></tr><tr><td>metrics/recall(B)</td><td>0.75063</td></tr><tr><td>model/GFLOPs</td><td>6.448</td></tr><tr><td>model/parameters</td><td>2591400</td></tr><tr><td>model/speed_PyTorch(ms)</td><td>0.976</td></tr><tr><td>train/box_loss</td><td>0.74891</td></tr><tr><td>train/cls_loss</td><td>0.37682</td></tr><tr><td>train/dfl_loss</td><td>0.88759</td></tr><tr><td>val/box_loss</td><td>0.87407</td></tr><tr><td>val/cls_loss</td><td>0.51233</td></tr><tr><td>val/dfl_loss</td><td>0.8995</td></tr></table><br/></div></div>"
      ],
      "text/plain": [
       "<IPython.core.display.HTML object>"
      ]
     },
     "metadata": {},
     "output_type": "display_data"
    },
    {
     "data": {
      "text/html": [
       " View run <strong style=\"color:#cdcd00\">20250831_1201302</strong> at: <a href='https://wandb.ai/mika47-georg-august-uni/yolo_l3_base/runs/biuf8v2q' target=\"_blank\">https://wandb.ai/mika47-georg-august-uni/yolo_l3_base/runs/biuf8v2q</a><br> View project at: <a href='https://wandb.ai/mika47-georg-august-uni/yolo_l3_base' target=\"_blank\">https://wandb.ai/mika47-georg-august-uni/yolo_l3_base</a><br>Synced 5 W&B file(s), 24 media file(s), 10 artifact file(s) and 0 other file(s)"
      ],
      "text/plain": [
       "<IPython.core.display.HTML object>"
      ]
     },
     "metadata": {},
     "output_type": "display_data"
    },
    {
     "data": {
      "text/html": [
       "Find logs at: <code>.\\wandb\\run-20250831_140134-biuf8v2q\\logs</code>"
      ],
      "text/plain": [
       "<IPython.core.display.HTML object>"
      ]
     },
     "metadata": {},
     "output_type": "display_data"
    },
    {
     "name": "stdout",
     "output_type": "stream",
     "text": [
      "\n",
      "🎉 Training complete!\n",
      "   - Best model checkpoint saved at: c:\\Users\\Mika\\Desktop\\New_Training_Run_Post_Bulgaria\\runs\\yolo_l3_base\\20250831_120130\\weights\\best.pt\n",
      "   - View detailed results and plots in the run directory: c:\\Users\\Mika\\Desktop\\New_Training_Run_Post_Bulgaria\\runs\\yolo_l3_base\\20250831_120130\n",
      "\n",
      "   - Best model checkpoint saved at: c:\\Users\\Mika\\Desktop\\New_Training_Run_Post_Bulgaria\\runs\\yolo_l3_base\\20250831_120130\\weights\\best.pt\n",
      "   - View detailed results and plots in the run directory: c:\\Users\\Mika\\Desktop\\New_Training_Run_Post_Bulgaria\\runs\\yolo_l3_base\\20250831_120130\n"
     ]
    }
   ],
   "source": [
    "# The Full, Optimized Training Run (Corrected)\n",
    "\n",
    "from ultralytics import YOLO\n",
    "import torch\n",
    "\n",
    "# 1. Initialize the YOLOv11n model with COCO pre-trained weights\n",
    "model = YOLO(\"yolo11n.pt\")\n",
    "\n",
    "# 2. Load our centralized hyperparameters from the YAML file\n",
    "with open(HYP_YAML_PATH, 'r') as f:\n",
    "    hyp_config = yaml.safe_load(f)\n",
    "print(f\"Loaded hyperparameters from: {HYP_YAML_PATH.name}\")\n",
    "\n",
    "# 3. Prepare Class Weights for the Ultralytics Trainer\n",
    "# The 'cls' gain in our YAML is a global multiplier. We apply it to our per-class weights.\n",
    "cls_gain = hyp_config.get('cls', 0.5)\n",
    "final_cls_weights = cls_gain * CB_LEAF  # CB_LEAF is the numpy array from Cell 8\n",
    "\n",
    "# 4. Configure Hardware-Specific Optimizations\n",
    "num_workers = 8\n",
    "\n",
    "# 4.1 Auto-resume support (filter to YOLOv11 runs only)\n",
    "RESUME_IF_AVAILABLE = True\n",
    "resume_ckpt = None\n",
    "if RESUME_IF_AVAILABLE:\n",
    "    try:\n",
    "        candidates = list((RUNS_ROOT).glob(\"*/weights/last.pt\"))\n",
    "        y11_candidates = []\n",
    "        for ckpt in candidates:\n",
    "            # ckpt path looks like: <...>/runs/yolo_l3_base/<RUN_ID>/weights/last.pt\n",
    "            run_dir = ckpt.parents[1]  # the <RUN_ID> directory\n",
    "            if run_dir.name == RUN_ID:\n",
    "                # Skip the brand-new directory for this run\n",
    "                continue\n",
    "            args_yaml = run_dir / \"args.yaml\"\n",
    "            if not args_yaml.exists():\n",
    "                print(f\"Skipping resume candidate without args.yaml: {run_dir}\")\n",
    "                continue\n",
    "            try:\n",
    "                args_text = args_yaml.read_text(encoding=\"utf-8\", errors=\"ignore\").lower()\n",
    "            except Exception as _re:\n",
    "                print(f\"Skipping resume candidate (cannot read args.yaml): {run_dir} -> {_re}\")\n",
    "                continue\n",
    "            if \"yolo11\" in args_text:\n",
    "                y11_candidates.append(ckpt)\n",
    "            else:\n",
    "                print(f\"Skipping non-YOLOv11 resume candidate: {run_dir}\")\n",
    "        if y11_candidates:\n",
    "            resume_ckpt = max(y11_candidates, key=lambda p: p.stat().st_mtime)\n",
    "            print(f\"Found YOLOv11 checkpoint to resume: {resume_ckpt}\")\n",
    "    except Exception as _e:\n",
    "        # Non-fatal; fall back to fresh training\n",
    "        print(f\"Resume scan error (ignored): {_e}\")\n",
    "        resume_ckpt = None\n",
    "\n",
    "# 5. Assemble the Final Training Arguments\n",
    "# This dictionary contains the core, non-hyperparameter settings.\n",
    "base_args = {\n",
    "    # Core Configuration\n",
    "    \"data\": str(DATA_YAML),\n",
    "    \"epochs\": 150,\n",
    "    \"batch\": 32,\n",
    "    \"imgsz\": 640,\n",
    "    \"optimizer\": \"auto\",\n",
    "\n",
    "    # Hardware & Performance\n",
    "    \"workers\": num_workers,\n",
    "    \"cache\": True,\n",
    "    \"amp\": True,\n",
    "\n",
    "    # Logging, Saving, & Project Management\n",
    "    # Use only the folder name (e.g., 'yolo_l3_base') so Ultralytics saves to\n",
    "    # runs/yolo_l3_base/RUN_ID locally while W&B gets a valid project name.\n",
    "    \"project\": RUNS_ROOT.name,\n",
    "    \"name\": RUN_ID,\n",
    "    \"save_period\": 5,\n",
    "    \"patience\": 20,\n",
    "    \n",
    "    # The crucial class weights argument\n",
    "    \"cls\": final_cls_weights.tolist(),\n",
    "}\n",
    "\n",
    "# Apply resume option if available\n",
    "if resume_ckpt:\n",
    "    base_args[\"resume\"] = str(resume_ckpt)\n",
    "    print(f\"   - Resuming training from: {resume_ckpt}\")\n",
    "else:\n",
    "    base_args[\"resume\"] = False\n",
    "\n",
    "# MERGE ALL ARGUMENTS\n",
    "# We unpack the loaded hyperparameters and the base arguments into one final dictionary.\n",
    "# This is the modern, correct way to pass all settings.\n",
    "training_args = {**base_args, **hyp_config}\n",
    "\n",
    "# 6. (Optional) Login to Weights & Biases\n",
    "try:\n",
    "    if os.getenv(\"WANDB_API_KEY\"):\n",
    "        import wandb\n",
    "        wandb.login()\n",
    "        print(\"\\nW&B login successful.\")\n",
    "except (ImportError, Exception):\n",
    "    print(\"\\nW&B not installed or login failed. Training will proceed with local logging.\")\n",
    "\n",
    "# 6.1 Safety: disable Ultralytics AMP probe (prevents yolov8n download)\n",
    "try:\n",
    "    from ultralytics.utils import torch_utils as _tu\n",
    "    from ultralytics.utils import checks as _chk\n",
    "    from ultralytics.engine import trainer as _tr\n",
    "    _tu.check_amp = (lambda *a, **k: True)\n",
    "    _chk.check_amp = (lambda *a, **k: True)\n",
    "    if hasattr(_tr, 'check_amp'):\n",
    "        _tr.check_amp = _tu.check_amp\n",
    "    if hasattr(_tr, 'Trainer') and hasattr(_tr.Trainer, 'check_amp'):\n",
    "        try:\n",
    "            _tr.Trainer.check_amp = staticmethod(_tu.check_amp)\n",
    "        except Exception:\n",
    "            _tr.Trainer.check_amp = _tu.check_amp\n",
    "    print(\"AMP probe disabled for training.\")\n",
    "except Exception as _e:\n",
    "    print(f\"Could not disable AMP probe in training cell: {_e}\")\n",
    "\n",
    "# 7. LAUNCH TRAINING\n",
    "print(\"\\nStarting full training run...\")\n",
    "print(f\"   - All artifacts will be saved to: {RUN_DIR}\")\n",
    "print(f\"   - Using {num_workers} dataloader workers.\")\n",
    "print(f\"   - Class-balanced weights have been applied to the loss function.\")\n",
    "\n",
    "# Change into runs dir so Ultralytics creates the expected folder structure while\n",
    "# keeping a W&B-safe project name.\n",
    "_orig_cwd = os.getcwd()\n",
    "os.chdir(PROJECT_ROOT / \"runs\")\n",
    "try:\n",
    "    results = model.train(**training_args)\n",
    "finally:\n",
    "    os.chdir(_orig_cwd)\n",
    "\n",
    "# 8. Final Confirmation\n",
    "print(\"\\nTraining complete!\")\n",
    "print(f\"   - Best model checkpoint saved at: {RUN_DIR / 'weights' / 'best.pt'}\")\n",
    "print(f\"   - View detailed results and plots in the run directory: {RUN_DIR}\")"
   ]
  },
  {
   "cell_type": "markdown",
   "id": "75231657",
   "metadata": {},
   "source": [
    "# Post-Training Analysis & Next Steps\n",
    "\n",
    "The training process is complete. The best model checkpoint, `best.pt`, has been saved based on its performance on the validation set.\n",
    "\n",
    "**Analysis:**\n",
    "- **Local Artifacts:** The run directory (`RUN_DIR`) contains all the outputs:\n",
    "    - `weights/`: `best.pt` and `last.pt` checkpoints.\n",
    "    - `results.csv`: A log of all metrics per epoch.\n",
    "    - Confusion matrices, PR curves, and validation batch predictions.\n",
    "- **Weights & Biases:** If enabled, your W&B dashboard provides an interactive way to analyze the run. Pay close attention to the **per-class AP plots** to see how well the model learned the rare classes.\n",
    "\n",
    "**Next Steps:**\n",
    "The `best.pt` model is now our foundational L3 detector. The next stage of the project is to use this model for:\n",
    "1.  **Hard-Negative Mining:** Running inference on the dataset to find the exact locations where this model makes false-positive predictions.\n",
    "2.  **Auxiliary Head Training:** Using the mined hard-negatives and true-positives to train our L1 and L2 heads, making them resilient to the specific failure modes of our L3 detector."
   ]
  },
  {
   "cell_type": "code",
   "execution_count": null,
   "id": "feaa523c",
   "metadata": {},
   "outputs": [
    {
     "name": "stdout",
     "output_type": "stream",
     "text": [
      "Loading best model from: C:\\Users\\Mika\\Desktop\\New_Training_Run_Post_Bulgaria\\runs\\yolo_l3_base\\20250831_1201302\\weights\\best.pt\n",
      "\n",
      "🚀 Running final validation on the best checkpoint...\n",
      "Ultralytics 8.3.0  Python-3.10.18 torch-2.5.1 CUDA:0 (NVIDIA GeForce RTX 3060 Ti, 8192MiB)\n",
      "YOLO11n summary (fused): 238 layers, 2,583,712 parameters, 0 gradients, 6.3 GFLOPs\n"
     ]
    },
    {
     "name": "stderr",
     "output_type": "stream",
     "text": [
      "val: Scanning C:\\Users\\Mika\\Desktop\\New_Training_Run_Post_Bulgaria\\mio_tcd_yolo_vehicles_only\\labels\\val.cache... 13190 images, 0 backgrounds, 0 corrupt: 100%|██████████| 13190/13190 [00:00<?, ?it/s]Scanning C:\\Users\\Mika\\Desktop\\New_Training_Run_Post_Bulgaria\\mio_tcd_yolo_vehicles_only\\labels\\val.cache... 13190 images, 0 backgrounds, 0 corrupt: 100%|██████████| 13190/13190 [00:00<?, ?it/s]\n",
      "                 Class     Images  Instances      Box(P          R      mAP50  mAP50-95): 100%|██████████| 413/413 [01:04<00:00,  6.40it/s]\n"
     ]
    },
    {
     "name": "stdout",
     "output_type": "stream",
     "text": [
      "                   all      13190      48226      0.828      0.751       0.83      0.638\n",
      "                   bus       1641       1918      0.884      0.938      0.963      0.878\n",
      "              work_van       2133       2344      0.822      0.526      0.697      0.549\n",
      "     single_unit_truck       1771       1872      0.749      0.628      0.728      0.549\n",
      "          pickup_truck       4382       6490      0.839      0.838      0.886      0.719\n",
      "     articulated_truck       1693       1873       0.86      0.821      0.889      0.715\n",
      "                   car      12563      33160      0.864      0.891      0.934        0.7\n",
      "            motorcycle        258        277      0.894      0.671      0.781      0.493\n",
      "               bicycle        237        292       0.71      0.692      0.762      0.499\n",
      "Speed: 0.1ms preprocess, 1.4ms inference, 0.0ms loss, 0.7ms postprocess per image\n",
      "Results saved to \u001b[1mc:\\Users\\Mika\\Desktop\\New_Training_Run_Post_Bulgaria\\runs\\yolo_l3_base\\20250831_120130\\final_validation\u001b[0m\n",
      "\n",
      "✅ Final validation complete. Performance metrics are printed above.\n",
      "   - Detailed validation results and plots saved in: c:\\Users\\Mika\\Desktop\\New_Training_Run_Post_Bulgaria\\runs\\yolo_l3_base\\20250831_120130\\final_validation\n"
     ]
    }
   ],
   "source": [
    "# Final Validation on the Best Model\n",
    "\n",
    "from ultralytics import YOLO\n",
    "\n",
    "# Load the best performing model from the training run\n",
    "try:\n",
    "    best_model_path = Path(\"C:/Users/Mika/Desktop/New_Training_Run_Post_Bulgaria/runs/yolo_l3_base/20250831_1201302/weights/best.pt\")\n",
    "    if not best_model_path.exists():\n",
    "        # Fallback for older ultralytics versions that might save in a different structure\n",
    "        best_model_path = Path(results.save_dir) / 'weights' / 'best.pt'\n",
    "\n",
    "    print(f\"Loading best model from: {best_model_path}\")\n",
    "    model = YOLO(best_model_path)\n",
    "\n",
    "    # Run validation to get the final, detailed metrics\n",
    "    # This provides a clean, final report on the model's performance.\n",
    "    print(\"\\nRunning final validation on the best checkpoint...\")\n",
    "    final_metrics = model.val(\n",
    "        data=str(DATA_YAML),\n",
    "        imgsz=640,\n",
    "        batch=32, # Use a smaller batch for validation to ensure no OOM errors\n",
    "        workers=num_workers,\n",
    "        split='val', # Explicitly run on the validation split\n",
    "        plots=True, # Generate and save final plots\n",
    "        project=RUN_DIR,\n",
    "        name=\"final_validation\"\n",
    "    )\n",
    "\n",
    "    print(\"\\nFinal validation complete. Performance metrics are printed above.\")\n",
    "    print(f\"   - Detailed validation results and plots saved in: {RUN_DIR / 'final_validation'}\")\n",
    "\n",
    "except Exception as e:\n",
    "    print(f\"\\nCould not run final validation. Error: {e}\")\n",
    "    print(\"   - Please locate the 'best.pt' checkpoint in your run directory manually.\")"
   ]
  }
 ],
 "metadata": {
  "kernelspec": {
   "display_name": "hier-yolo",
   "language": "python",
   "name": "python3"
  },
  "language_info": {
   "codemirror_mode": {
    "name": "ipython",
    "version": 3
   },
   "file_extension": ".py",
   "mimetype": "text/x-python",
   "name": "python",
   "nbconvert_exporter": "python",
   "pygments_lexer": "ipython3",
   "version": "3.10.18"
  }
 },
 "nbformat": 4,
 "nbformat_minor": 5
}
